{
 "cells": [
  {
   "cell_type": "markdown",
   "metadata": {},
   "source": [
    "# Import Packages and Data"
   ]
  },
  {
   "cell_type": "code",
   "execution_count": 13,
   "metadata": {
    "ExecuteTime": {
     "end_time": "2020-12-08T07:35:58.124271Z",
     "start_time": "2020-12-08T07:35:58.119653Z"
    }
   },
   "outputs": [
    {
     "name": "stderr",
     "output_type": "stream",
     "text": [
      "[nltk_data] Downloading package averaged_perceptron_tagger to\n",
      "[nltk_data]     /Users/labbot/nltk_data...\n",
      "[nltk_data]   Package averaged_perceptron_tagger is already up-to-\n",
      "[nltk_data]       date!\n"
     ]
    }
   ],
   "source": [
    "# basics\n",
    "import pandas as pd \n",
    "import numpy as np\n",
    "\n",
    "# files\n",
    "import glob\n",
    "import pickle\n",
    "import os\n",
    "import requests\n",
    "\n",
    "# ocr\n",
    "import pytesseract as pytesseract\n",
    "from PIL import Image\n",
    "\n",
    "# nlp\n",
    "import nltk\n",
    "nltk.download('averaged_perceptron_tagger')\n",
    "from nltk.tag import pos_tag\n",
    "import demoji"
   ]
  },
  {
   "cell_type": "code",
   "execution_count": 14,
   "metadata": {
    "ExecuteTime": {
     "end_time": "2020-12-08T07:36:01.869143Z",
     "start_time": "2020-12-08T07:35:58.127806Z"
    }
   },
   "outputs": [
    {
     "data": {
      "text/plain": [
       "(2415468, 7)"
      ]
     },
     "execution_count": 14,
     "metadata": {},
     "output_type": "execute_result"
    }
   ],
   "source": [
    "# all the data scraped using twitter_scraping is saved as pickle files; extract and save as a dataframe\n",
    "path = './twitter_data'\n",
    "all_files = glob.glob(path + \"/*.pickle\")\n",
    "\n",
    "li = []\n",
    "\n",
    "for filename in all_files:\n",
    "    one_df = pd.read_pickle(filename)\n",
    "    li.append(one_df)\n",
    "\n",
    "df_raw = pd.concat(li, axis=0, ignore_index=True)\n",
    "df_raw.shape"
   ]
  },
  {
   "cell_type": "markdown",
   "metadata": {},
   "source": [
    "# Analysis of alt text prevalence"
   ]
  },
  {
   "cell_type": "code",
   "execution_count": 15,
   "metadata": {
    "ExecuteTime": {
     "end_time": "2020-12-08T07:36:03.073813Z",
     "start_time": "2020-12-08T07:36:01.871442Z"
    }
   },
   "outputs": [
    {
     "data": {
      "text/plain": [
       "(1985705, 7)"
      ]
     },
     "execution_count": 15,
     "metadata": {},
     "output_type": "execute_result"
    }
   ],
   "source": [
    "# wasn't able to exclude gifs in tweepy query, so remove them now\n",
    "df = df_raw[df_raw['media_type'] == 'photo']\n",
    "df.shape"
   ]
  },
  {
   "cell_type": "code",
   "execution_count": 16,
   "metadata": {
    "ExecuteTime": {
     "end_time": "2020-12-08T07:36:03.276643Z",
     "start_time": "2020-12-08T07:36:03.076579Z"
    }
   },
   "outputs": [
    {
     "name": "stdout",
     "output_type": "stream",
     "text": [
      "0.300498% of photos in the sample of 1985705 have user-provided alt text.\n",
      "that's 5967 photos with (uncleaned) alt text.\n"
     ]
    }
   ],
   "source": [
    "# how many photos have alt text?\n",
    "alt_text_count = sum(df['alt_text'].notnull())\n",
    "total_photos = len(df)\n",
    "alt_text_rate = alt_text_count/total_photos\n",
    "\n",
    "print(f'{alt_text_rate:%} of photos in the sample of {total_photos} have user-provided alt text.')\n",
    "print(f\"that's {alt_text_count} photos with (uncleaned) alt text.\")"
   ]
  },
  {
   "cell_type": "code",
   "execution_count": 17,
   "metadata": {
    "ExecuteTime": {
     "end_time": "2020-12-08T07:36:03.330911Z",
     "start_time": "2020-12-08T07:36:03.278538Z"
    }
   },
   "outputs": [
    {
     "data": {
      "text/html": [
       "<div>\n",
       "<style scoped>\n",
       "    .dataframe tbody tr th:only-of-type {\n",
       "        vertical-align: middle;\n",
       "    }\n",
       "\n",
       "    .dataframe tbody tr th {\n",
       "        vertical-align: top;\n",
       "    }\n",
       "\n",
       "    .dataframe thead th {\n",
       "        text-align: right;\n",
       "    }\n",
       "</style>\n",
       "<table border=\"1\" class=\"dataframe\">\n",
       "  <thead>\n",
       "    <tr style=\"text-align: right;\">\n",
       "      <th></th>\n",
       "      <th>id</th>\n",
       "      <th>created_at</th>\n",
       "      <th>tweet_text</th>\n",
       "      <th>tweet_url</th>\n",
       "      <th>img_url</th>\n",
       "      <th>alt_text</th>\n",
       "      <th>media_type</th>\n",
       "    </tr>\n",
       "  </thead>\n",
       "  <tbody>\n",
       "    <tr>\n",
       "      <th>1518204</th>\n",
       "      <td>1335010289801113600</td>\n",
       "      <td>2020-12-04 23:57:11</td>\n",
       "      <td>First day on the slopes! 😀 ⛷ \\n\\n#HappyPlace #FirstDay #WinterPark https://t.co/oAWQeRqS7L</td>\n",
       "      <td>https://t.co/oAWQeRqS7L</td>\n",
       "      <td>http://pbs.twimg.com/media/EobovuoU0AASBWX.jpg</td>\n",
       "      <td>Selfie with mask</td>\n",
       "      <td>photo</td>\n",
       "    </tr>\n",
       "    <tr>\n",
       "      <th>819795</th>\n",
       "      <td>1334380191561502720</td>\n",
       "      <td>2020-12-03 06:13:23</td>\n",
       "      <td>Early Morning Natural Vitamin E and Zinc Dose\\nhttps://t.co/PBffW244g7 https://t.co/IFaCayJU2r</td>\n",
       "      <td>https://t.co/IFaCayJU2r</td>\n",
       "      <td>http://pbs.twimg.com/media/EoSrrhqXMAIh0UO.jpg</td>\n",
       "      <td>Almonds - Early Morning Natural Vitamin E and Zinc Dose</td>\n",
       "      <td>photo</td>\n",
       "    </tr>\n",
       "    <tr>\n",
       "      <th>1508304</th>\n",
       "      <td>1335011148849180678</td>\n",
       "      <td>2020-12-05 00:00:35</td>\n",
       "      <td>Last chance to submit for #paid Stand-In work in Atlanta! https://t.co/vIyQK0LhxH https://t.co/ufnwBQU5Cl</td>\n",
       "      <td>https://t.co/ufnwBQU5Cl</td>\n",
       "      <td>http://pbs.twimg.com/media/EobpkLKXMAE7h9Q.jpg</td>\n",
       "      <td>man, portrait, gloomy</td>\n",
       "      <td>photo</td>\n",
       "    </tr>\n",
       "    <tr>\n",
       "      <th>538106</th>\n",
       "      <td>1334531041051238405</td>\n",
       "      <td>2020-12-03 16:12:49</td>\n",
       "      <td>\"What kind of letter should we write to him?\" #WinnieThePooh #Pooh #WinnielOurson #LearnFrench https://t.co/fuT6NfE0eY</td>\n",
       "      <td>https://t.co/fuT6NfE0eY</td>\n",
       "      <td>http://pbs.twimg.com/media/EoU0tH-XMAA-4he.jpg</td>\n",
       "      <td>Quelle sorte de lettre devons-nous lui écrire?</td>\n",
       "      <td>photo</td>\n",
       "    </tr>\n",
       "    <tr>\n",
       "      <th>29404</th>\n",
       "      <td>1333855233802383361</td>\n",
       "      <td>2020-12-01 19:27:24</td>\n",
       "      <td>Elective surgery of the spine. https://t.co/AlEDpp2aKp https://t.co/HAFCEfLevL</td>\n",
       "      <td>https://t.co/HAFCEfLevL</td>\n",
       "      <td>http://pbs.twimg.com/media/EoLOQ_aXEAcjsWJ.jpg</td>\n",
       "      <td>Before and after x-rays of scoliosis and spinal fusion surgery.</td>\n",
       "      <td>photo</td>\n",
       "    </tr>\n",
       "    <tr>\n",
       "      <th>600823</th>\n",
       "      <td>1334527824342908929</td>\n",
       "      <td>2020-12-03 16:00:02</td>\n",
       "      <td>homagium https://t.co/RjKCPtEaMf</td>\n",
       "      <td>https://t.co/RjKCPtEaMf</td>\n",
       "      <td>http://pbs.twimg.com/media/EoUx-q8VoAUFdSQ.png</td>\n",
       "      <td>homagium</td>\n",
       "      <td>photo</td>\n",
       "    </tr>\n",
       "    <tr>\n",
       "      <th>2055169</th>\n",
       "      <td>1334705884807749634</td>\n",
       "      <td>2020-12-04 03:47:35</td>\n",
       "      <td>another one... https://t.co/QOwOZqeCZw</td>\n",
       "      <td>https://t.co/QOwOZqeCZw</td>\n",
       "      <td>http://pbs.twimg.com/media/EoXT7Y-XcAEzmqw.jpg</td>\n",
       "      <td>A photo of skinny legend Quackity</td>\n",
       "      <td>photo</td>\n",
       "    </tr>\n",
       "    <tr>\n",
       "      <th>1399032</th>\n",
       "      <td>1335021551884840960</td>\n",
       "      <td>2020-12-05 00:41:56</td>\n",
       "      <td>Shared from Photos app\\n1 photo\\nhttps://t.co/SMhiZL6hY1 https://t.co/ISkjUWLofV</td>\n",
       "      <td>https://t.co/ISkjUWLofV</td>\n",
       "      <td>http://pbs.twimg.com/media/EobyrnBXMAAlIM1.jpg</td>\n",
       "      <td>Hanging out on the Line Creek Trail.</td>\n",
       "      <td>photo</td>\n",
       "    </tr>\n",
       "    <tr>\n",
       "      <th>146310</th>\n",
       "      <td>1334183016554520582</td>\n",
       "      <td>2020-12-02 17:09:53</td>\n",
       "      <td>Success by edwin4233#1708 in icooknyc https://t.co/6coRicKLUj</td>\n",
       "      <td>https://t.co/6coRicKLUj</td>\n",
       "      <td>http://pbs.twimg.com/media/EoP4YaOW4AAqhhn.jpg</td>\n",
       "      <td>Discord Image</td>\n",
       "      <td>photo</td>\n",
       "    </tr>\n",
       "    <tr>\n",
       "      <th>2372033</th>\n",
       "      <td>1334259455899398145</td>\n",
       "      <td>2020-12-02 22:13:38</td>\n",
       "      <td>this is a cursed tradition https://t.co/oBrZ4umzUb</td>\n",
       "      <td>https://t.co/oBrZ4umzUb</td>\n",
       "      <td>http://pbs.twimg.com/media/EoQ9ZpdXYAAMKlV.jpg</td>\n",
       "      <td>google search \"does spotify wrapped include december or do I have to live with my shame\"</td>\n",
       "      <td>photo</td>\n",
       "    </tr>\n",
       "    <tr>\n",
       "      <th>1524438</th>\n",
       "      <td>1335009694167994370</td>\n",
       "      <td>2020-12-04 23:54:49</td>\n",
       "      <td>Doing a different variant of a Christmas tree🎄this year! ✨ https://t.co/wpbVExFoP1</td>\n",
       "      <td>https://t.co/wpbVExFoP1</td>\n",
       "      <td>http://pbs.twimg.com/media/EoboPHyW4AIV1zS.jpg</td>\n",
       "      <td>Decorated wooden Christmas tree</td>\n",
       "      <td>photo</td>\n",
       "    </tr>\n",
       "    <tr>\n",
       "      <th>814056</th>\n",
       "      <td>1334380846208389120</td>\n",
       "      <td>2020-12-03 06:15:59</td>\n",
       "      <td>5894 cases reported today.  There were more than 4000 cases reported yesterday as well. https://t.co/Xzttlk9an8</td>\n",
       "      <td>https://t.co/Xzttlk9an8</td>\n",
       "      <td>http://pbs.twimg.com/media/EoSrs_yXEAIxn7I.jpg</td>\n",
       "      <td>Reported today:\\n4094 confirmed cases\\n1800 antigen positive cases\\n\\n5894 positive test results.</td>\n",
       "      <td>photo</td>\n",
       "    </tr>\n",
       "    <tr>\n",
       "      <th>18030</th>\n",
       "      <td>1333856073611161604</td>\n",
       "      <td>2020-12-01 19:30:44</td>\n",
       "      <td>Gold members check out your journal for this month's enchanted key. https://t.co/178r8ELUzR</td>\n",
       "      <td>https://t.co/178r8ELUzR</td>\n",
       "      <td>http://pbs.twimg.com/media/EoLPB8FWMAAdQZz.jpg</td>\n",
       "      <td>An image telling gold members to scan the enchanted key in their journal as it's the 1st December.</td>\n",
       "      <td>photo</td>\n",
       "    </tr>\n",
       "    <tr>\n",
       "      <th>166296</th>\n",
       "      <td>1334181751200083968</td>\n",
       "      <td>2020-12-02 17:04:52</td>\n",
       "      <td>Evenings in Tokyo https://t.co/WnrUUaq3wz</td>\n",
       "      <td>https://t.co/WnrUUaq3wz</td>\n",
       "      <td>http://pbs.twimg.com/media/EoP21l_WMAAq0gG.jpg</td>\n",
       "      <td>Photography by Liam Wong of Tokyo. A shot taken from a rooftop overlooking the city, a winding road below with only a man walking in the distance. The sky is clear, the image has a purple color to it. TO:KY:OO.</td>\n",
       "      <td>photo</td>\n",
       "    </tr>\n",
       "    <tr>\n",
       "      <th>854241</th>\n",
       "      <td>1334376396995457025</td>\n",
       "      <td>2020-12-03 05:58:19</td>\n",
       "      <td>Without searching online, what do u think this item I ordered from @BedBathBeyond was 🤔🛏️🛀🛸🧂🍜🍝 https://t.co/M3nFpqco67</td>\n",
       "      <td>https://t.co/M3nFpqco67</td>\n",
       "      <td>http://pbs.twimg.com/media/EoSoQsRU0AYwfoc.jpg</td>\n",
       "      <td>Receipt that says \"SALT NOODLE 24x40 GREY\"</td>\n",
       "      <td>photo</td>\n",
       "    </tr>\n",
       "    <tr>\n",
       "      <th>987159</th>\n",
       "      <td>1334363118554779648</td>\n",
       "      <td>2020-12-03 05:05:33</td>\n",
       "      <td>Success from brett. https://t.co/xM4c4WBNXN</td>\n",
       "      <td>https://t.co/xM4c4WBNXN</td>\n",
       "      <td>http://pbs.twimg.com/media/EoScL2mXIAAA6pQ.jpg</td>\n",
       "      <td>Success from brett.</td>\n",
       "      <td>photo</td>\n",
       "    </tr>\n",
       "    <tr>\n",
       "      <th>622500</th>\n",
       "      <td>1334526635215740928</td>\n",
       "      <td>2020-12-03 15:55:18</td>\n",
       "      <td>Fly with us - 2-4 passenger flights.  Social distancing at its finest.   K https://t.co/x37bPoNRqz</td>\n",
       "      <td>https://t.co/x37bPoNRqz</td>\n",
       "      <td>http://pbs.twimg.com/media/EoUw5lsU4AA5KmD.jpg</td>\n",
       "      <td>Photo of the helicopter at Grand Canyon Western Ranch used by Wild West Helicopter Tours.</td>\n",
       "      <td>photo</td>\n",
       "    </tr>\n",
       "    <tr>\n",
       "      <th>1439739</th>\n",
       "      <td>1335017587864862720</td>\n",
       "      <td>2020-12-05 00:26:11</td>\n",
       "      <td>@zenrhino @MeWeFree_ Dover is so weird and good https://t.co/qt4hPznoh8</td>\n",
       "      <td>https://t.co/qt4hPznoh8</td>\n",
       "      <td>http://pbs.twimg.com/media/Eobva0MUUAAc91_.jpg</td>\n",
       "      <td>Pic of a dover title page</td>\n",
       "      <td>photo</td>\n",
       "    </tr>\n",
       "    <tr>\n",
       "      <th>1220403</th>\n",
       "      <td>1335038898985082880</td>\n",
       "      <td>2020-12-05 01:50:51</td>\n",
       "      <td>I got my author copies of the Anthology today! It releases on Tuesday. You can preorder! https://t.co/ILQAt26HRd https://t.co/jtCtd2zxYv</td>\n",
       "      <td>https://t.co/jtCtd2zxYv</td>\n",
       "      <td>http://pbs.twimg.com/media/EocCywwVEAETHqJ.jpg</td>\n",
       "      <td>A book called MIRRORMAZE with a surreal cover with a woman’s face. Edited by Cliff Jones. A Dreampunk anthology</td>\n",
       "      <td>photo</td>\n",
       "    </tr>\n",
       "    <tr>\n",
       "      <th>545991</th>\n",
       "      <td>1334530563873644545</td>\n",
       "      <td>2020-12-03 16:10:55</td>\n",
       "      <td>@realDonaldTrump @OANN Are they discussing your American Carnage?\\nhttps://t.co/xYMSTf2Irj</td>\n",
       "      <td>https://t.co/xYMSTf2Irj</td>\n",
       "      <td>http://pbs.twimg.com/media/EoRZkOwVQAIfcBm.jpg</td>\n",
       "      <td>4 bar charts showing key COVID-19 metrics for the US over time. Today, states reported 1.4M tests, 196k cases (record), 100,226 currently hospitalized (record), and 2,733 deaths.</td>\n",
       "      <td>photo</td>\n",
       "    </tr>\n",
       "  </tbody>\n",
       "</table>\n",
       "</div>"
      ],
      "text/plain": [
       "                          id          created_at  \\\n",
       "1518204  1335010289801113600 2020-12-04 23:57:11   \n",
       "819795   1334380191561502720 2020-12-03 06:13:23   \n",
       "1508304  1335011148849180678 2020-12-05 00:00:35   \n",
       "538106   1334531041051238405 2020-12-03 16:12:49   \n",
       "29404    1333855233802383361 2020-12-01 19:27:24   \n",
       "600823   1334527824342908929 2020-12-03 16:00:02   \n",
       "2055169  1334705884807749634 2020-12-04 03:47:35   \n",
       "1399032  1335021551884840960 2020-12-05 00:41:56   \n",
       "146310   1334183016554520582 2020-12-02 17:09:53   \n",
       "2372033  1334259455899398145 2020-12-02 22:13:38   \n",
       "1524438  1335009694167994370 2020-12-04 23:54:49   \n",
       "814056   1334380846208389120 2020-12-03 06:15:59   \n",
       "18030    1333856073611161604 2020-12-01 19:30:44   \n",
       "166296   1334181751200083968 2020-12-02 17:04:52   \n",
       "854241   1334376396995457025 2020-12-03 05:58:19   \n",
       "987159   1334363118554779648 2020-12-03 05:05:33   \n",
       "622500   1334526635215740928 2020-12-03 15:55:18   \n",
       "1439739  1335017587864862720 2020-12-05 00:26:11   \n",
       "1220403  1335038898985082880 2020-12-05 01:50:51   \n",
       "545991   1334530563873644545 2020-12-03 16:10:55   \n",
       "\n",
       "                                                                                                                                       tweet_text  \\\n",
       "1518204                                                First day on the slopes! 😀 ⛷ \\n\\n#HappyPlace #FirstDay #WinterPark https://t.co/oAWQeRqS7L   \n",
       "819795                                             Early Morning Natural Vitamin E and Zinc Dose\\nhttps://t.co/PBffW244g7 https://t.co/IFaCayJU2r   \n",
       "1508304                                 Last chance to submit for #paid Stand-In work in Atlanta! https://t.co/vIyQK0LhxH https://t.co/ufnwBQU5Cl   \n",
       "538106                     \"What kind of letter should we write to him?\" #WinnieThePooh #Pooh #WinnielOurson #LearnFrench https://t.co/fuT6NfE0eY   \n",
       "29404                                                              Elective surgery of the spine. https://t.co/AlEDpp2aKp https://t.co/HAFCEfLevL   \n",
       "600823                                                                                                           homagium https://t.co/RjKCPtEaMf   \n",
       "2055169                                                                                                    another one... https://t.co/QOwOZqeCZw   \n",
       "1399032                                                          Shared from Photos app\\n1 photo\\nhttps://t.co/SMhiZL6hY1 https://t.co/ISkjUWLofV   \n",
       "146310                                                                              Success by edwin4233#1708 in icooknyc https://t.co/6coRicKLUj   \n",
       "2372033                                                                                        this is a cursed tradition https://t.co/oBrZ4umzUb   \n",
       "1524438                                                        Doing a different variant of a Christmas tree🎄this year! ✨ https://t.co/wpbVExFoP1   \n",
       "814056                            5894 cases reported today.  There were more than 4000 cases reported yesterday as well. https://t.co/Xzttlk9an8   \n",
       "18030                                                 Gold members check out your journal for this month's enchanted key. https://t.co/178r8ELUzR   \n",
       "166296                                                                                                  Evenings in Tokyo https://t.co/WnrUUaq3wz   \n",
       "854241                     Without searching online, what do u think this item I ordered from @BedBathBeyond was 🤔🛏️🛀🛸🧂🍜🍝 https://t.co/M3nFpqco67   \n",
       "987159                                                                                                Success from brett. https://t.co/xM4c4WBNXN   \n",
       "622500                                         Fly with us - 2-4 passenger flights.  Social distancing at its finest.   K https://t.co/x37bPoNRqz   \n",
       "1439739                                                                   @zenrhino @MeWeFree_ Dover is so weird and good https://t.co/qt4hPznoh8   \n",
       "1220403  I got my author copies of the Anthology today! It releases on Tuesday. You can preorder! https://t.co/ILQAt26HRd https://t.co/jtCtd2zxYv   \n",
       "545991                                                 @realDonaldTrump @OANN Are they discussing your American Carnage?\\nhttps://t.co/xYMSTf2Irj   \n",
       "\n",
       "                       tweet_url  \\\n",
       "1518204  https://t.co/oAWQeRqS7L   \n",
       "819795   https://t.co/IFaCayJU2r   \n",
       "1508304  https://t.co/ufnwBQU5Cl   \n",
       "538106   https://t.co/fuT6NfE0eY   \n",
       "29404    https://t.co/HAFCEfLevL   \n",
       "600823   https://t.co/RjKCPtEaMf   \n",
       "2055169  https://t.co/QOwOZqeCZw   \n",
       "1399032  https://t.co/ISkjUWLofV   \n",
       "146310   https://t.co/6coRicKLUj   \n",
       "2372033  https://t.co/oBrZ4umzUb   \n",
       "1524438  https://t.co/wpbVExFoP1   \n",
       "814056   https://t.co/Xzttlk9an8   \n",
       "18030    https://t.co/178r8ELUzR   \n",
       "166296   https://t.co/WnrUUaq3wz   \n",
       "854241   https://t.co/M3nFpqco67   \n",
       "987159   https://t.co/xM4c4WBNXN   \n",
       "622500   https://t.co/x37bPoNRqz   \n",
       "1439739  https://t.co/qt4hPznoh8   \n",
       "1220403  https://t.co/jtCtd2zxYv   \n",
       "545991   https://t.co/xYMSTf2Irj   \n",
       "\n",
       "                                                img_url  \\\n",
       "1518204  http://pbs.twimg.com/media/EobovuoU0AASBWX.jpg   \n",
       "819795   http://pbs.twimg.com/media/EoSrrhqXMAIh0UO.jpg   \n",
       "1508304  http://pbs.twimg.com/media/EobpkLKXMAE7h9Q.jpg   \n",
       "538106   http://pbs.twimg.com/media/EoU0tH-XMAA-4he.jpg   \n",
       "29404    http://pbs.twimg.com/media/EoLOQ_aXEAcjsWJ.jpg   \n",
       "600823   http://pbs.twimg.com/media/EoUx-q8VoAUFdSQ.png   \n",
       "2055169  http://pbs.twimg.com/media/EoXT7Y-XcAEzmqw.jpg   \n",
       "1399032  http://pbs.twimg.com/media/EobyrnBXMAAlIM1.jpg   \n",
       "146310   http://pbs.twimg.com/media/EoP4YaOW4AAqhhn.jpg   \n",
       "2372033  http://pbs.twimg.com/media/EoQ9ZpdXYAAMKlV.jpg   \n",
       "1524438  http://pbs.twimg.com/media/EoboPHyW4AIV1zS.jpg   \n",
       "814056   http://pbs.twimg.com/media/EoSrs_yXEAIxn7I.jpg   \n",
       "18030    http://pbs.twimg.com/media/EoLPB8FWMAAdQZz.jpg   \n",
       "166296   http://pbs.twimg.com/media/EoP21l_WMAAq0gG.jpg   \n",
       "854241   http://pbs.twimg.com/media/EoSoQsRU0AYwfoc.jpg   \n",
       "987159   http://pbs.twimg.com/media/EoScL2mXIAAA6pQ.jpg   \n",
       "622500   http://pbs.twimg.com/media/EoUw5lsU4AA5KmD.jpg   \n",
       "1439739  http://pbs.twimg.com/media/Eobva0MUUAAc91_.jpg   \n",
       "1220403  http://pbs.twimg.com/media/EocCywwVEAETHqJ.jpg   \n",
       "545991   http://pbs.twimg.com/media/EoRZkOwVQAIfcBm.jpg   \n",
       "\n",
       "                                                                                                                                                                                                                   alt_text  \\\n",
       "1518204                                                                                                                                                                                                    Selfie with mask   \n",
       "819795                                                                                                                                                              Almonds - Early Morning Natural Vitamin E and Zinc Dose   \n",
       "1508304                                                                                                                                                                                               man, portrait, gloomy   \n",
       "538106                                                                                                                                                                       Quelle sorte de lettre devons-nous lui écrire?   \n",
       "29404                                                                                                                                                       Before and after x-rays of scoliosis and spinal fusion surgery.   \n",
       "600823                                                                                                                                                                                                             homagium   \n",
       "2055169                                                                                                                                                                                   A photo of skinny legend Quackity   \n",
       "1399032                                                                                                                                                                                Hanging out on the Line Creek Trail.   \n",
       "146310                                                                                                                                                                                                        Discord Image   \n",
       "2372033                                                                                                                            google search \"does spotify wrapped include december or do I have to live with my shame\"   \n",
       "1524438                                                                                                                                                                                     Decorated wooden Christmas tree   \n",
       "814056                                                                                                                    Reported today:\\n4094 confirmed cases\\n1800 antigen positive cases\\n\\n5894 positive test results.   \n",
       "18030                                                                                                                   An image telling gold members to scan the enchanted key in their journal as it's the 1st December.    \n",
       "166296   Photography by Liam Wong of Tokyo. A shot taken from a rooftop overlooking the city, a winding road below with only a man walking in the distance. The sky is clear, the image has a purple color to it. TO:KY:OO.   \n",
       "854241                                                                                                                                                                           Receipt that says \"SALT NOODLE 24x40 GREY\"   \n",
       "987159                                                                                                                                                                                                  Success from brett.   \n",
       "622500                                                                                                                            Photo of the helicopter at Grand Canyon Western Ranch used by Wild West Helicopter Tours.   \n",
       "1439739                                                                                                                                                                                           Pic of a dover title page   \n",
       "1220403                                                                                                    A book called MIRRORMAZE with a surreal cover with a woman’s face. Edited by Cliff Jones. A Dreampunk anthology    \n",
       "545991                                   4 bar charts showing key COVID-19 metrics for the US over time. Today, states reported 1.4M tests, 196k cases (record), 100,226 currently hospitalized (record), and 2,733 deaths.   \n",
       "\n",
       "        media_type  \n",
       "1518204      photo  \n",
       "819795       photo  \n",
       "1508304      photo  \n",
       "538106       photo  \n",
       "29404        photo  \n",
       "600823       photo  \n",
       "2055169      photo  \n",
       "1399032      photo  \n",
       "146310       photo  \n",
       "2372033      photo  \n",
       "1524438      photo  \n",
       "814056       photo  \n",
       "18030        photo  \n",
       "166296       photo  \n",
       "854241       photo  \n",
       "987159       photo  \n",
       "622500       photo  \n",
       "1439739      photo  \n",
       "1220403      photo  \n",
       "545991       photo  "
      ]
     },
     "execution_count": 17,
     "metadata": {},
     "output_type": "execute_result"
    }
   ],
   "source": [
    "# explore some of the alt text available\n",
    "df_alt_text = df[df['alt_text'].notnull()]\n",
    "df_alt_text.sample(20)"
   ]
  },
  {
   "cell_type": "code",
   "execution_count": 18,
   "metadata": {
    "ExecuteTime": {
     "end_time": "2020-12-08T07:36:03.336009Z",
     "start_time": "2020-12-08T07:36:03.333199Z"
    }
   },
   "outputs": [],
   "source": [
    "pd.options.display.max_colwidth = 250"
   ]
  },
  {
   "cell_type": "markdown",
   "metadata": {},
   "source": [
    "# Preprocess alt text to use for modeling\n",
    "Glancing through, it (unsurprisingly) looks like the user-created alt text in my corpus will need a fair bit of cleaning to be generalizable. These are the preprocessing steps I'll take:\n",
    "1. remove pre-populated stock text like \"discord image\", \"something went wrong\", etc.\n",
    "2. remove photos of text (I'm not trying to create an OCR model)\n",
    "3. remove proper nouns\n",
    "4. remove \"photo of\" or \"picture of\", since those could confuse the model and make for bad alt text anyways\n",
    "5. remove any captions that are too short the above steps"
   ]
  },
  {
   "cell_type": "markdown",
   "metadata": {},
   "source": [
    "## Remove records with junk alt text"
   ]
  },
  {
   "cell_type": "code",
   "execution_count": 19,
   "metadata": {
    "ExecuteTime": {
     "end_time": "2020-12-08T07:36:03.350166Z",
     "start_time": "2020-12-08T07:36:03.340358Z"
    }
   },
   "outputs": [
    {
     "data": {
      "text/plain": [
       "User report                                                                                                                                                                                                                                                                                                                                                             262\n",
       "Something went wrong                                                                                                                                                                                                                                                                                                                                                    248\n",
       "Discord Image                                                                                                                                                                                                                                                                                                                                                           150\n",
       "const pluckDeep = key => obj => key.split('.').reduce((accum, key) => accum[key], obj)\\n\\nconst compose = (...fns) => res => fns.reduce((accum, next) => next(accum), res)\\n\\nconst unfold = (f, seed) => {\\n  const go = (f, seed, acc) => {\\n    const res = f(seed)\\n    return res ? go(f, res[1], acc.concat([res[0]])) : acc\\n  }\\n  return go(f, seed, [])\\n}     34\n",
       "Score: 0 - Previous Direction: up                                                                                                                                                                                                                                                                                                                                        25\n",
       "Glitch Cat                                                                                                                                                                                                                                                                                                                                                               21\n",
       "Propulsé par l'api pokemon.alexonsager                                                                                                                                                                                                                                                                                                                                   17\n",
       "Name: alt_text, dtype: int64"
      ]
     },
     "execution_count": 19,
     "metadata": {},
     "output_type": "execute_result"
    }
   ],
   "source": [
    "# remove pre-populated, uninformative captions\n",
    "# which of these appear frequently?\n",
    "df_alt_text['alt_text'].value_counts().head(7)"
   ]
  },
  {
   "cell_type": "markdown",
   "metadata": {},
   "source": [
    "Interesting. It looks like most of these are junk, only one would be considered \"good\" alt text (brief, descriptive, natural language). Are they all the same image?"
   ]
  },
  {
   "cell_type": "code",
   "execution_count": 20,
   "metadata": {
    "ExecuteTime": {
     "end_time": "2020-12-08T07:36:03.364573Z",
     "start_time": "2020-12-08T07:36:03.352584Z"
    }
   },
   "outputs": [
    {
     "data": {
      "text/html": [
       "<div>\n",
       "<style scoped>\n",
       "    .dataframe tbody tr th:only-of-type {\n",
       "        vertical-align: middle;\n",
       "    }\n",
       "\n",
       "    .dataframe tbody tr th {\n",
       "        vertical-align: top;\n",
       "    }\n",
       "\n",
       "    .dataframe thead th {\n",
       "        text-align: right;\n",
       "    }\n",
       "</style>\n",
       "<table border=\"1\" class=\"dataframe\">\n",
       "  <thead>\n",
       "    <tr style=\"text-align: right;\">\n",
       "      <th></th>\n",
       "      <th>id</th>\n",
       "      <th>created_at</th>\n",
       "      <th>tweet_text</th>\n",
       "      <th>tweet_url</th>\n",
       "      <th>img_url</th>\n",
       "      <th>alt_text</th>\n",
       "      <th>media_type</th>\n",
       "    </tr>\n",
       "  </thead>\n",
       "  <tbody>\n",
       "    <tr>\n",
       "      <th>182004</th>\n",
       "      <td>1334180798027718658</td>\n",
       "      <td>2020-12-02 17:01:04</td>\n",
       "      <td>Congrats to $ALGO, the Biggest Green Dildo of the Hour, +3.4% --&amp;gt; https://t.co/Wt2ia9frux #ALGO #crypto https://t.co/NEx3ZGT7fs</td>\n",
       "      <td>https://t.co/NEx3ZGT7fs</td>\n",
       "      <td>http://pbs.twimg.com/media/EoP2XSkW4AAlI7Y.png</td>\n",
       "      <td>Small flowers in a planter on a sunny balcony, blossoming.</td>\n",
       "      <td>photo</td>\n",
       "    </tr>\n",
       "    <tr>\n",
       "      <th>205463</th>\n",
       "      <td>1333833309126860800</td>\n",
       "      <td>2020-12-01 18:00:16</td>\n",
       "      <td>The Biggest Green Dildo of the Day: $SUSHI, +19.8% --&amp;gt; https://t.co/Wt2ia9frux #SUSHI #crypto https://t.co/vvaWqLUxtD</td>\n",
       "      <td>https://t.co/vvaWqLUxtD</td>\n",
       "      <td>http://pbs.twimg.com/media/EoK6Uy-W4AI8aRj.png</td>\n",
       "      <td>Small flowers in a planter on a sunny balcony, blossoming.</td>\n",
       "      <td>photo</td>\n",
       "    </tr>\n",
       "    <tr>\n",
       "      <th>317926</th>\n",
       "      <td>1333607122202869762</td>\n",
       "      <td>2020-12-01 03:01:29</td>\n",
       "      <td>Congrats to $QNT, the Biggest Green Dildo of the Hour, +6% --&amp;gt; https://t.co/Wt2ia8XQ5X #QNT #crypto https://t.co/umrX9p6dUD</td>\n",
       "      <td>https://t.co/umrX9p6dUD</td>\n",
       "      <td>http://pbs.twimg.com/media/EoHsm-YXMAAp7_h.png</td>\n",
       "      <td>Small flowers in a planter on a sunny balcony, blossoming.</td>\n",
       "      <td>photo</td>\n",
       "    </tr>\n",
       "    <tr>\n",
       "      <th>361878</th>\n",
       "      <td>1334331809526673408</td>\n",
       "      <td>2020-12-03 03:01:08</td>\n",
       "      <td>Congrats to $SUSHI, the Biggest Green Dildo of the Hour, +3.8% --&amp;gt; https://t.co/Wt2ia9frux #SUSHI #crypto https://t.co/HuCaO3bKao</td>\n",
       "      <td>https://t.co/HuCaO3bKao</td>\n",
       "      <td>http://pbs.twimg.com/media/EoR_tV4W8AAJyqV.png</td>\n",
       "      <td>Small flowers in a planter on a sunny balcony, blossoming.</td>\n",
       "      <td>photo</td>\n",
       "    </tr>\n",
       "    <tr>\n",
       "      <th>595889</th>\n",
       "      <td>1334528062520758272</td>\n",
       "      <td>2020-12-03 16:00:59</td>\n",
       "      <td>Congrats to $AAVE, the Biggest Green Dildo of the Hour, +7.2% --&amp;gt; https://t.co/Wt2ia9frux #AAVE #crypto https://t.co/RULWz9Y9A4</td>\n",
       "      <td>https://t.co/RULWz9Y9A4</td>\n",
       "      <td>http://pbs.twimg.com/media/EoUyMxaXcAYKV4Z.png</td>\n",
       "      <td>Small flowers in a planter on a sunny balcony, blossoming.</td>\n",
       "      <td>photo</td>\n",
       "    </tr>\n",
       "    <tr>\n",
       "      <th>847141</th>\n",
       "      <td>1334377106093051904</td>\n",
       "      <td>2020-12-03 06:01:08</td>\n",
       "      <td>Congrats to $LUNA, the Biggest Green Dildo of the Hour, +0.9% --&amp;gt; https://t.co/Wt2ia9frux #LUNA #crypto https://t.co/8hp5hJsbiw</td>\n",
       "      <td>https://t.co/8hp5hJsbiw</td>\n",
       "      <td>http://pbs.twimg.com/media/EoSo58RW4AAs45r.png</td>\n",
       "      <td>Small flowers in a planter on a sunny balcony, blossoming.</td>\n",
       "      <td>photo</td>\n",
       "    </tr>\n",
       "    <tr>\n",
       "      <th>999454</th>\n",
       "      <td>1334361981638365185</td>\n",
       "      <td>2020-12-03 05:01:02</td>\n",
       "      <td>Congrats to $LUNA, the Biggest Green Dildo of the Hour, +2.6% --&amp;gt; https://t.co/Wt2ia9frux #LUNA #crypto https://t.co/HIygT9Skbk</td>\n",
       "      <td>https://t.co/HIygT9Skbk</td>\n",
       "      <td>http://pbs.twimg.com/media/EoSbJhSXEAEMCRB.png</td>\n",
       "      <td>Small flowers in a planter on a sunny balcony, blossoming.</td>\n",
       "      <td>photo</td>\n",
       "    </tr>\n",
       "    <tr>\n",
       "      <th>1077086</th>\n",
       "      <td>1334663933802770435</td>\n",
       "      <td>2020-12-04 01:00:53</td>\n",
       "      <td>Congrats to $SC, the Biggest Green Dildo of the Hour, +24.6% --&amp;gt; https://t.co/Wt2ia9frux #SC #crypto https://t.co/t66eg4BAsG</td>\n",
       "      <td>https://t.co/t66eg4BAsG</td>\n",
       "      <td>http://pbs.twimg.com/media/EoWtxfvXMAIiG3u.png</td>\n",
       "      <td>Small flowers in a planter on a sunny balcony, blossoming.</td>\n",
       "      <td>photo</td>\n",
       "    </tr>\n",
       "    <tr>\n",
       "      <th>1349512</th>\n",
       "      <td>1335026328890986496</td>\n",
       "      <td>2020-12-05 01:00:55</td>\n",
       "      <td>Congrats to $XEM, the Biggest Green Dildo of the Hour, +6.4% --&amp;gt; https://t.co/Wt2ia9frux #XEM #crypto https://t.co/dkYTU3OXYJ</td>\n",
       "      <td>https://t.co/dkYTU3OXYJ</td>\n",
       "      <td>http://pbs.twimg.com/media/Eob3XsEXcAURKgf.png</td>\n",
       "      <td>Small flowers in a planter on a sunny balcony, blossoming.</td>\n",
       "      <td>photo</td>\n",
       "    </tr>\n",
       "    <tr>\n",
       "      <th>1506586</th>\n",
       "      <td>1335011288058130436</td>\n",
       "      <td>2020-12-05 00:01:09</td>\n",
       "      <td>Congrats to $SC, the Biggest Green Dildo of the Hour, +3.8% --&amp;gt; https://t.co/Wt2ia9frux #SC #crypto https://t.co/YG4DqP8aZf</td>\n",
       "      <td>https://t.co/YG4DqP8aZf</td>\n",
       "      <td>http://pbs.twimg.com/media/EobpsLZXIAc21Ne.png</td>\n",
       "      <td>Small flowers in a planter on a sunny balcony, blossoming.</td>\n",
       "      <td>photo</td>\n",
       "    </tr>\n",
       "    <tr>\n",
       "      <th>1855721</th>\n",
       "      <td>1334724412919214080</td>\n",
       "      <td>2020-12-04 05:01:12</td>\n",
       "      <td>Congrats to $OMG, the Biggest Green Dildo of the Hour, +14.9% --&amp;gt; https://t.co/Wt2ia9frux #OMG #crypto https://t.co/1YGbiIR08l</td>\n",
       "      <td>https://t.co/1YGbiIR08l</td>\n",
       "      <td>http://pbs.twimg.com/media/EoXkx2IXMAExokS.png</td>\n",
       "      <td>Small flowers in a planter on a sunny balcony, blossoming.</td>\n",
       "      <td>photo</td>\n",
       "    </tr>\n",
       "    <tr>\n",
       "      <th>2017091</th>\n",
       "      <td>1334709328532615169</td>\n",
       "      <td>2020-12-04 04:01:16</td>\n",
       "      <td>Congrats to $QNT, the Biggest Green Dildo of the Hour, +7.4% --&amp;gt; https://t.co/Wt2ia9frux #QNT #crypto https://t.co/FrLE2ysMru</td>\n",
       "      <td>https://t.co/FrLE2ysMru</td>\n",
       "      <td>http://pbs.twimg.com/media/EoXXD1KW4AAKOxq.png</td>\n",
       "      <td>Small flowers in a planter on a sunny balcony, blossoming.</td>\n",
       "      <td>photo</td>\n",
       "    </tr>\n",
       "  </tbody>\n",
       "</table>\n",
       "</div>"
      ],
      "text/plain": [
       "                          id          created_at  \\\n",
       "182004   1334180798027718658 2020-12-02 17:01:04   \n",
       "205463   1333833309126860800 2020-12-01 18:00:16   \n",
       "317926   1333607122202869762 2020-12-01 03:01:29   \n",
       "361878   1334331809526673408 2020-12-03 03:01:08   \n",
       "595889   1334528062520758272 2020-12-03 16:00:59   \n",
       "847141   1334377106093051904 2020-12-03 06:01:08   \n",
       "999454   1334361981638365185 2020-12-03 05:01:02   \n",
       "1077086  1334663933802770435 2020-12-04 01:00:53   \n",
       "1349512  1335026328890986496 2020-12-05 01:00:55   \n",
       "1506586  1335011288058130436 2020-12-05 00:01:09   \n",
       "1855721  1334724412919214080 2020-12-04 05:01:12   \n",
       "2017091  1334709328532615169 2020-12-04 04:01:16   \n",
       "\n",
       "                                                                                                                                   tweet_text  \\\n",
       "182004     Congrats to $ALGO, the Biggest Green Dildo of the Hour, +3.4% --&gt; https://t.co/Wt2ia9frux #ALGO #crypto https://t.co/NEx3ZGT7fs   \n",
       "205463               The Biggest Green Dildo of the Day: $SUSHI, +19.8% --&gt; https://t.co/Wt2ia9frux #SUSHI #crypto https://t.co/vvaWqLUxtD   \n",
       "317926         Congrats to $QNT, the Biggest Green Dildo of the Hour, +6% --&gt; https://t.co/Wt2ia8XQ5X #QNT #crypto https://t.co/umrX9p6dUD   \n",
       "361878   Congrats to $SUSHI, the Biggest Green Dildo of the Hour, +3.8% --&gt; https://t.co/Wt2ia9frux #SUSHI #crypto https://t.co/HuCaO3bKao   \n",
       "595889     Congrats to $AAVE, the Biggest Green Dildo of the Hour, +7.2% --&gt; https://t.co/Wt2ia9frux #AAVE #crypto https://t.co/RULWz9Y9A4   \n",
       "847141     Congrats to $LUNA, the Biggest Green Dildo of the Hour, +0.9% --&gt; https://t.co/Wt2ia9frux #LUNA #crypto https://t.co/8hp5hJsbiw   \n",
       "999454     Congrats to $LUNA, the Biggest Green Dildo of the Hour, +2.6% --&gt; https://t.co/Wt2ia9frux #LUNA #crypto https://t.co/HIygT9Skbk   \n",
       "1077086       Congrats to $SC, the Biggest Green Dildo of the Hour, +24.6% --&gt; https://t.co/Wt2ia9frux #SC #crypto https://t.co/t66eg4BAsG   \n",
       "1349512      Congrats to $XEM, the Biggest Green Dildo of the Hour, +6.4% --&gt; https://t.co/Wt2ia9frux #XEM #crypto https://t.co/dkYTU3OXYJ   \n",
       "1506586        Congrats to $SC, the Biggest Green Dildo of the Hour, +3.8% --&gt; https://t.co/Wt2ia9frux #SC #crypto https://t.co/YG4DqP8aZf   \n",
       "1855721     Congrats to $OMG, the Biggest Green Dildo of the Hour, +14.9% --&gt; https://t.co/Wt2ia9frux #OMG #crypto https://t.co/1YGbiIR08l   \n",
       "2017091      Congrats to $QNT, the Biggest Green Dildo of the Hour, +7.4% --&gt; https://t.co/Wt2ia9frux #QNT #crypto https://t.co/FrLE2ysMru   \n",
       "\n",
       "                       tweet_url  \\\n",
       "182004   https://t.co/NEx3ZGT7fs   \n",
       "205463   https://t.co/vvaWqLUxtD   \n",
       "317926   https://t.co/umrX9p6dUD   \n",
       "361878   https://t.co/HuCaO3bKao   \n",
       "595889   https://t.co/RULWz9Y9A4   \n",
       "847141   https://t.co/8hp5hJsbiw   \n",
       "999454   https://t.co/HIygT9Skbk   \n",
       "1077086  https://t.co/t66eg4BAsG   \n",
       "1349512  https://t.co/dkYTU3OXYJ   \n",
       "1506586  https://t.co/YG4DqP8aZf   \n",
       "1855721  https://t.co/1YGbiIR08l   \n",
       "2017091  https://t.co/FrLE2ysMru   \n",
       "\n",
       "                                                img_url  \\\n",
       "182004   http://pbs.twimg.com/media/EoP2XSkW4AAlI7Y.png   \n",
       "205463   http://pbs.twimg.com/media/EoK6Uy-W4AI8aRj.png   \n",
       "317926   http://pbs.twimg.com/media/EoHsm-YXMAAp7_h.png   \n",
       "361878   http://pbs.twimg.com/media/EoR_tV4W8AAJyqV.png   \n",
       "595889   http://pbs.twimg.com/media/EoUyMxaXcAYKV4Z.png   \n",
       "847141   http://pbs.twimg.com/media/EoSo58RW4AAs45r.png   \n",
       "999454   http://pbs.twimg.com/media/EoSbJhSXEAEMCRB.png   \n",
       "1077086  http://pbs.twimg.com/media/EoWtxfvXMAIiG3u.png   \n",
       "1349512  http://pbs.twimg.com/media/Eob3XsEXcAURKgf.png   \n",
       "1506586  http://pbs.twimg.com/media/EobpsLZXIAc21Ne.png   \n",
       "1855721  http://pbs.twimg.com/media/EoXkx2IXMAExokS.png   \n",
       "2017091  http://pbs.twimg.com/media/EoXXD1KW4AAKOxq.png   \n",
       "\n",
       "                                                           alt_text media_type  \n",
       "182004   Small flowers in a planter on a sunny balcony, blossoming.      photo  \n",
       "205463   Small flowers in a planter on a sunny balcony, blossoming.      photo  \n",
       "317926   Small flowers in a planter on a sunny balcony, blossoming.      photo  \n",
       "361878   Small flowers in a planter on a sunny balcony, blossoming.      photo  \n",
       "595889   Small flowers in a planter on a sunny balcony, blossoming.      photo  \n",
       "847141   Small flowers in a planter on a sunny balcony, blossoming.      photo  \n",
       "999454   Small flowers in a planter on a sunny balcony, blossoming.      photo  \n",
       "1077086  Small flowers in a planter on a sunny balcony, blossoming.      photo  \n",
       "1349512  Small flowers in a planter on a sunny balcony, blossoming.      photo  \n",
       "1506586  Small flowers in a planter on a sunny balcony, blossoming.      photo  \n",
       "1855721  Small flowers in a planter on a sunny balcony, blossoming.      photo  \n",
       "2017091  Small flowers in a planter on a sunny balcony, blossoming.      photo  "
      ]
     },
     "execution_count": 20,
     "metadata": {},
     "output_type": "execute_result"
    }
   ],
   "source": [
    "df_alt_text[df_alt_text['alt_text']=='Small flowers in a planter on a sunny balcony, blossoming.']"
   ]
  },
  {
   "cell_type": "markdown",
   "metadata": {},
   "source": [
    "oooooohkay. Definitely not a good caption. Not sure why this image has such a mismatched alt text (these tweets look spammy), but hopefully this isn't too common in my dataset.\n",
    "\n",
    "Based on this, I'm going to make the assumption that any caption that's appearing more than once in my dataset is likely junk, and just get rid of all of those."
   ]
  },
  {
   "cell_type": "code",
   "execution_count": 21,
   "metadata": {
    "ExecuteTime": {
     "end_time": "2020-12-08T07:36:03.375877Z",
     "start_time": "2020-12-08T07:36:03.365927Z"
    }
   },
   "outputs": [],
   "source": [
    "vc = df_alt_text['alt_text'].value_counts()\n",
    "recurrent_alt_texts = list(vc[vc > 1].index)\n",
    "df_alt_text = df_alt_text[~df_alt_text['alt_text'].isin(recurrent_alt_texts)]\n",
    "df_alt_text.shape\n",
    "df_tm = df_alt_text"
   ]
  },
  {
   "cell_type": "markdown",
   "metadata": {},
   "source": [
    "## Remove images of text\n",
    "For V1, I'm going to identify/remove records based on keywords in the alt text that indicate that text is an important part of the image. \n",
    "\n",
    "A future version could use OCR, although I think I do want to keep images where text is a small part of the image (eg small caption), so it would ideally be an implementation like `if text area < 15% of total then keep`."
   ]
  },
  {
   "cell_type": "code",
   "execution_count": 22,
   "metadata": {
    "ExecuteTime": {
     "end_time": "2020-12-08T07:36:03.449532Z",
     "start_time": "2020-12-08T07:36:03.377001Z"
    },
    "scrolled": false
   },
   "outputs": [
    {
     "data": {
      "text/html": [
       "<div>\n",
       "<style scoped>\n",
       "    .dataframe tbody tr th:only-of-type {\n",
       "        vertical-align: middle;\n",
       "    }\n",
       "\n",
       "    .dataframe tbody tr th {\n",
       "        vertical-align: top;\n",
       "    }\n",
       "\n",
       "    .dataframe thead th {\n",
       "        text-align: right;\n",
       "    }\n",
       "</style>\n",
       "<table border=\"1\" class=\"dataframe\">\n",
       "  <thead>\n",
       "    <tr style=\"text-align: right;\">\n",
       "      <th></th>\n",
       "      <th>id</th>\n",
       "      <th>created_at</th>\n",
       "      <th>tweet_text</th>\n",
       "      <th>tweet_url</th>\n",
       "      <th>img_url</th>\n",
       "      <th>alt_text</th>\n",
       "      <th>media_type</th>\n",
       "    </tr>\n",
       "  </thead>\n",
       "  <tbody>\n",
       "    <tr>\n",
       "      <th>812528</th>\n",
       "      <td>1334381015641583617</td>\n",
       "      <td>2020-12-03 06:16:40</td>\n",
       "      <td>@ADHDeanASL @prufrockluvsong Basically how I feel https://t.co/e0A4z1G1pk</td>\n",
       "      <td>https://t.co/e0A4z1G1pk</td>\n",
       "      <td>http://pbs.twimg.com/media/EoSsdgeW8AAFiOs.jpg</td>\n",
       "      <td>Car with its rear bumper held on with duct tape</td>\n",
       "      <td>photo</td>\n",
       "    </tr>\n",
       "    <tr>\n",
       "      <th>925436</th>\n",
       "      <td>1334368832119578630</td>\n",
       "      <td>2020-12-03 05:28:15</td>\n",
       "      <td>@santaklaudss Hey how are you what you doing up https://t.co/jCaxVxlGWE</td>\n",
       "      <td>https://t.co/jCaxVxlGWE</td>\n",
       "      <td>http://pbs.twimg.com/media/EoShQLaWMAAbbSQ.jpg</td>\n",
       "      <td>There dog for you</td>\n",
       "      <td>photo</td>\n",
       "    </tr>\n",
       "    <tr>\n",
       "      <th>2105016</th>\n",
       "      <td>1334701519044796426</td>\n",
       "      <td>2020-12-04 03:30:14</td>\n",
       "      <td>New keyboard for my new desk. \\n by /u/Kreydor \\n \\n https://t.co/wUtTZuy0ET https://t.co/o5fPp55lFs</td>\n",
       "      <td>https://t.co/o5fPp55lFs</td>\n",
       "      <td>http://pbs.twimg.com/media/EoXP9HAW4AEYV01.jpg</td>\n",
       "      <td>New keyboard for my new desk.</td>\n",
       "      <td>photo</td>\n",
       "    </tr>\n",
       "    <tr>\n",
       "      <th>2136065</th>\n",
       "      <td>1334698897063763968</td>\n",
       "      <td>2020-12-04 03:19:49</td>\n",
       "      <td>love a fun, relaxing, distracting night playing board games https://t.co/8gRoOWaMor</td>\n",
       "      <td>https://t.co/8gRoOWaMor</td>\n",
       "      <td>http://pbs.twimg.com/media/EoXNkhMW4AQOArd.jpg</td>\n",
       "      <td>pic of board game called pandemic</td>\n",
       "      <td>photo</td>\n",
       "    </tr>\n",
       "    <tr>\n",
       "      <th>397813</th>\n",
       "      <td>1334328615224283137</td>\n",
       "      <td>2020-12-03 02:48:27</td>\n",
       "      <td>for only 160 usd you can get the same razor mouse you already have but yellow and presented over a pond of piss https://t.co/N1BIk5FXXD</td>\n",
       "      <td>https://t.co/N1BIk5FXXD</td>\n",
       "      <td>http://pbs.twimg.com/media/EoR8za6UYAUMTBq.jpg</td>\n",
       "      <td>A primarily yellow gaming mouse sitting on a stand that's pictured over a radiating pool of yellow that's superimposed on a city skyline at night.</td>\n",
       "      <td>photo</td>\n",
       "    </tr>\n",
       "    <tr>\n",
       "      <th>544848</th>\n",
       "      <td>1334530626716889094</td>\n",
       "      <td>2020-12-03 16:11:10</td>\n",
       "      <td>Month nine of quarantimes: started reading @TheMontyDon to my houseplants https://t.co/uK2d6VkIZC</td>\n",
       "      <td>https://t.co/uK2d6VkIZC</td>\n",
       "      <td>http://pbs.twimg.com/media/EoU0h-3W4Acr6gN.jpg</td>\n",
       "      <td>Molly reading Monty Don's book \"Down to Earth\" to a giant monstera plant and a shelf full of pothos and Christmas cacti</td>\n",
       "      <td>photo</td>\n",
       "    </tr>\n",
       "    <tr>\n",
       "      <th>1762045</th>\n",
       "      <td>1333576577502896131</td>\n",
       "      <td>2020-12-01 01:00:07</td>\n",
       "      <td>Pizza cat https://t.co/6Cw2wkLL6U</td>\n",
       "      <td>https://t.co/6Cw2wkLL6U</td>\n",
       "      <td>http://pbs.twimg.com/media/EoHQ0f5XMAEVzqI.jpg</td>\n",
       "      <td>Tabby kitten (big) on hind legs with front paws pressed against front of oven. Empty pizza box on counter next to stove.</td>\n",
       "      <td>photo</td>\n",
       "    </tr>\n",
       "    <tr>\n",
       "      <th>948926</th>\n",
       "      <td>1334366595813158913</td>\n",
       "      <td>2020-12-03 05:19:22</td>\n",
       "      <td>a new Mol bust bc why not\\n#fursona #furry #furryart https://t.co/MHkfZjdoVF</td>\n",
       "      <td>https://t.co/MHkfZjdoVF</td>\n",
       "      <td>http://pbs.twimg.com/media/EoSe2-ZXIAAMKbH.jpg</td>\n",
       "      <td>An anthro jerboa who has pink, blue and white fur, blue eyes, and a pink nose. They're tilting their head to the side and smiling. They have a purple jumper, and are on a red background.</td>\n",
       "      <td>photo</td>\n",
       "    </tr>\n",
       "    <tr>\n",
       "      <th>2372033</th>\n",
       "      <td>1334259455899398145</td>\n",
       "      <td>2020-12-02 22:13:38</td>\n",
       "      <td>this is a cursed tradition https://t.co/oBrZ4umzUb</td>\n",
       "      <td>https://t.co/oBrZ4umzUb</td>\n",
       "      <td>http://pbs.twimg.com/media/EoQ9ZpdXYAAMKlV.jpg</td>\n",
       "      <td>google search \"does spotify wrapped include december or do I have to live with my shame\"</td>\n",
       "      <td>photo</td>\n",
       "    </tr>\n",
       "    <tr>\n",
       "      <th>98392</th>\n",
       "      <td>1334186107748061184</td>\n",
       "      <td>2020-12-02 17:22:10</td>\n",
       "      <td>Good morning, moon. \\n\\n85mm stopped down to f/5.6 @ 1/4000s. Shot with in-camera b&amp;amp;w, edited &amp;amp; cropped in Lightroom. https://t.co/kcjL2wtM9j</td>\n",
       "      <td>https://t.co/kcjL2wtM9j</td>\n",
       "      <td>http://pbs.twimg.com/media/EoP7AY8VcAAqKZW.jpg</td>\n",
       "      <td>A black &amp; white photo of the moon (waning gibbous) through tree branches on the lower right corner, balanced in the upper left corner by a flock of pigeons.</td>\n",
       "      <td>photo</td>\n",
       "    </tr>\n",
       "  </tbody>\n",
       "</table>\n",
       "</div>"
      ],
      "text/plain": [
       "                          id          created_at  \\\n",
       "812528   1334381015641583617 2020-12-03 06:16:40   \n",
       "925436   1334368832119578630 2020-12-03 05:28:15   \n",
       "2105016  1334701519044796426 2020-12-04 03:30:14   \n",
       "2136065  1334698897063763968 2020-12-04 03:19:49   \n",
       "397813   1334328615224283137 2020-12-03 02:48:27   \n",
       "544848   1334530626716889094 2020-12-03 16:11:10   \n",
       "1762045  1333576577502896131 2020-12-01 01:00:07   \n",
       "948926   1334366595813158913 2020-12-03 05:19:22   \n",
       "2372033  1334259455899398145 2020-12-02 22:13:38   \n",
       "98392    1334186107748061184 2020-12-02 17:22:10   \n",
       "\n",
       "                                                                                                                                                    tweet_text  \\\n",
       "812528                                                                               @ADHDeanASL @prufrockluvsong Basically how I feel https://t.co/e0A4z1G1pk   \n",
       "925436                                                                                 @santaklaudss Hey how are you what you doing up https://t.co/jCaxVxlGWE   \n",
       "2105016                                                   New keyboard for my new desk. \\n by /u/Kreydor \\n \\n https://t.co/wUtTZuy0ET https://t.co/o5fPp55lFs   \n",
       "2136065                                                                    love a fun, relaxing, distracting night playing board games https://t.co/8gRoOWaMor   \n",
       "397813                 for only 160 usd you can get the same razor mouse you already have but yellow and presented over a pond of piss https://t.co/N1BIk5FXXD   \n",
       "544848                                                       Month nine of quarantimes: started reading @TheMontyDon to my houseplants https://t.co/uK2d6VkIZC   \n",
       "1762045                                                                                                                      Pizza cat https://t.co/6Cw2wkLL6U   \n",
       "948926                                                                            a new Mol bust bc why not\\n#fursona #furry #furryart https://t.co/MHkfZjdoVF   \n",
       "2372033                                                                                                     this is a cursed tradition https://t.co/oBrZ4umzUb   \n",
       "98392    Good morning, moon. \\n\\n85mm stopped down to f/5.6 @ 1/4000s. Shot with in-camera b&amp;w, edited &amp; cropped in Lightroom. https://t.co/kcjL2wtM9j   \n",
       "\n",
       "                       tweet_url  \\\n",
       "812528   https://t.co/e0A4z1G1pk   \n",
       "925436   https://t.co/jCaxVxlGWE   \n",
       "2105016  https://t.co/o5fPp55lFs   \n",
       "2136065  https://t.co/8gRoOWaMor   \n",
       "397813   https://t.co/N1BIk5FXXD   \n",
       "544848   https://t.co/uK2d6VkIZC   \n",
       "1762045  https://t.co/6Cw2wkLL6U   \n",
       "948926   https://t.co/MHkfZjdoVF   \n",
       "2372033  https://t.co/oBrZ4umzUb   \n",
       "98392    https://t.co/kcjL2wtM9j   \n",
       "\n",
       "                                                img_url  \\\n",
       "812528   http://pbs.twimg.com/media/EoSsdgeW8AAFiOs.jpg   \n",
       "925436   http://pbs.twimg.com/media/EoShQLaWMAAbbSQ.jpg   \n",
       "2105016  http://pbs.twimg.com/media/EoXP9HAW4AEYV01.jpg   \n",
       "2136065  http://pbs.twimg.com/media/EoXNkhMW4AQOArd.jpg   \n",
       "397813   http://pbs.twimg.com/media/EoR8za6UYAUMTBq.jpg   \n",
       "544848   http://pbs.twimg.com/media/EoU0h-3W4Acr6gN.jpg   \n",
       "1762045  http://pbs.twimg.com/media/EoHQ0f5XMAEVzqI.jpg   \n",
       "948926   http://pbs.twimg.com/media/EoSe2-ZXIAAMKbH.jpg   \n",
       "2372033  http://pbs.twimg.com/media/EoQ9ZpdXYAAMKlV.jpg   \n",
       "98392    http://pbs.twimg.com/media/EoP7AY8VcAAqKZW.jpg   \n",
       "\n",
       "                                                                                                                                                                                           alt_text  \\\n",
       "812528                                                                                                                                              Car with its rear bumper held on with duct tape   \n",
       "925436                                                                                                                                                                            There dog for you   \n",
       "2105016                                                                                                                                                               New keyboard for my new desk.   \n",
       "2136065                                                                                                                                                           pic of board game called pandemic   \n",
       "397813                                           A primarily yellow gaming mouse sitting on a stand that's pictured over a radiating pool of yellow that's superimposed on a city skyline at night.   \n",
       "544848                                                                      Molly reading Monty Don's book \"Down to Earth\" to a giant monstera plant and a shelf full of pothos and Christmas cacti   \n",
       "1762045                                                                    Tabby kitten (big) on hind legs with front paws pressed against front of oven. Empty pizza box on counter next to stove.   \n",
       "948926   An anthro jerboa who has pink, blue and white fur, blue eyes, and a pink nose. They're tilting their head to the side and smiling. They have a purple jumper, and are on a red background.   \n",
       "2372033                                                                                                    google search \"does spotify wrapped include december or do I have to live with my shame\"   \n",
       "98392                                  A black & white photo of the moon (waning gibbous) through tree branches on the lower right corner, balanced in the upper left corner by a flock of pigeons.   \n",
       "\n",
       "        media_type  \n",
       "812528       photo  \n",
       "925436       photo  \n",
       "2105016      photo  \n",
       "2136065      photo  \n",
       "397813       photo  \n",
       "544848       photo  \n",
       "1762045      photo  \n",
       "948926       photo  \n",
       "2372033      photo  \n",
       "98392        photo  "
      ]
     },
     "execution_count": 22,
     "metadata": {},
     "output_type": "execute_result"
    }
   ],
   "source": [
    "text_keywords = ['reads','says','text','screenshot','\\n','screen shot', 'screencap','screen cap','labeled',\n",
    "                 'username','tweet', 'twitter', 'article', 'receipt',':','-','png','jpg','jpeg','metadata',\n",
    "                 '@','#','.com','success by','bytes','json', 'success from']\n",
    "\n",
    "\n",
    "df_alt_text = df_alt_text[~df_alt_text['alt_text'].apply(lambda r: any([kw in r.lower() for kw in text_keywords]))]\n",
    "df_alt_text.sample(10)"
   ]
  },
  {
   "cell_type": "code",
   "execution_count": 23,
   "metadata": {
    "ExecuteTime": {
     "end_time": "2020-12-08T07:36:03.453600Z",
     "start_time": "2020-12-08T07:36:03.450885Z"
    }
   },
   "outputs": [
    {
     "data": {
      "text/plain": [
       "(3005, 7)"
      ]
     },
     "execution_count": 23,
     "metadata": {},
     "output_type": "execute_result"
    }
   ],
   "source": [
    "df_alt_text.shape"
   ]
  },
  {
   "cell_type": "code",
   "execution_count": 24,
   "metadata": {
    "ExecuteTime": {
     "end_time": "2020-12-08T07:36:03.460653Z",
     "start_time": "2020-12-08T07:36:03.454883Z"
    }
   },
   "outputs": [
    {
     "data": {
      "text/plain": [
       "Timestamp('2020-12-05 01:53:43')"
      ]
     },
     "execution_count": 24,
     "metadata": {},
     "output_type": "execute_result"
    }
   ],
   "source": [
    "df['created_at'].max()"
   ]
  },
  {
   "cell_type": "code",
   "execution_count": 25,
   "metadata": {
    "ExecuteTime": {
     "end_time": "2020-12-08T07:36:03.471804Z",
     "start_time": "2020-12-08T07:36:03.461887Z"
    }
   },
   "outputs": [
    {
     "data": {
      "text/html": [
       "<div>\n",
       "<style scoped>\n",
       "    .dataframe tbody tr th:only-of-type {\n",
       "        vertical-align: middle;\n",
       "    }\n",
       "\n",
       "    .dataframe tbody tr th {\n",
       "        vertical-align: top;\n",
       "    }\n",
       "\n",
       "    .dataframe thead th {\n",
       "        text-align: right;\n",
       "    }\n",
       "</style>\n",
       "<table border=\"1\" class=\"dataframe\">\n",
       "  <thead>\n",
       "    <tr style=\"text-align: right;\">\n",
       "      <th></th>\n",
       "      <th>id</th>\n",
       "      <th>created_at</th>\n",
       "      <th>tweet_text</th>\n",
       "      <th>tweet_url</th>\n",
       "      <th>img_url</th>\n",
       "      <th>alt_text</th>\n",
       "      <th>media_type</th>\n",
       "    </tr>\n",
       "  </thead>\n",
       "  <tbody>\n",
       "    <tr>\n",
       "      <th>1553838</th>\n",
       "      <td>1335006904779730944</td>\n",
       "      <td>2020-12-04 23:43:43</td>\n",
       "      <td>Look at this spread https://t.co/Bgg7bPLT7b</td>\n",
       "      <td>https://t.co/Bgg7bPLT7b</td>\n",
       "      <td>http://pbs.twimg.com/media/Eobln6cXcAEXZn4.jpg</td>\n",
       "      <td>Five plates of various sushi pieces cut to show fish and cream cheese</td>\n",
       "      <td>photo</td>\n",
       "    </tr>\n",
       "    <tr>\n",
       "      <th>927143</th>\n",
       "      <td>1334368657204502530</td>\n",
       "      <td>2020-12-03 05:27:33</td>\n",
       "      <td>Happy lid is happy. https://t.co/MJEuNuco8w</td>\n",
       "      <td>https://t.co/MJEuNuco8w</td>\n",
       "      <td>http://pbs.twimg.com/media/EoShN05XUAccLgE.jpg</td>\n",
       "      <td>Bild zeigt Deckel einer Erdnussdose, es sind Rillen eingestanzt, die wie ein Gesicht aussehen.</td>\n",
       "      <td>photo</td>\n",
       "    </tr>\n",
       "    <tr>\n",
       "      <th>2208584</th>\n",
       "      <td>1333805472114208770</td>\n",
       "      <td>2020-12-01 16:09:40</td>\n",
       "      <td>I made Lucy a crude tent a few days ago and so far she has only left it for food-in or food-out. https://t.co/yNr5EwRzrO</td>\n",
       "      <td>https://t.co/yNr5EwRzrO</td>\n",
       "      <td>http://pbs.twimg.com/media/EoKhADpWMAM72n5.jpg</td>\n",
       "      <td>A calico cat on a couch, under a fort made from a blue blanket.</td>\n",
       "      <td>photo</td>\n",
       "    </tr>\n",
       "    <tr>\n",
       "      <th>2372033</th>\n",
       "      <td>1334259455899398145</td>\n",
       "      <td>2020-12-02 22:13:38</td>\n",
       "      <td>this is a cursed tradition https://t.co/oBrZ4umzUb</td>\n",
       "      <td>https://t.co/oBrZ4umzUb</td>\n",
       "      <td>http://pbs.twimg.com/media/EoQ9ZpdXYAAMKlV.jpg</td>\n",
       "      <td>google search \"does spotify wrapped include december or do I have to live with my shame\"</td>\n",
       "      <td>photo</td>\n",
       "    </tr>\n",
       "    <tr>\n",
       "      <th>1623187</th>\n",
       "      <td>1335000550241411075</td>\n",
       "      <td>2020-12-04 23:18:28</td>\n",
       "      <td>I got spicy skewers and the bag says, \"In every person's stomach lives a little devil named *gluttony*\" https://t.co/QuTjfO9yuy</td>\n",
       "      <td>https://t.co/QuTjfO9yuy</td>\n",
       "      <td>http://pbs.twimg.com/media/EobfTIUW4Ac3C5n.jpg</td>\n",
       "      <td>a bright yellow bag with skewers poking put the top, and Chinese writing on the bag</td>\n",
       "      <td>photo</td>\n",
       "    </tr>\n",
       "    <tr>\n",
       "      <th>249011</th>\n",
       "      <td>1333830042682609664</td>\n",
       "      <td>2020-12-01 17:47:18</td>\n",
       "      <td>I fended off kitty village-pillage by installing a guard dog. https://t.co/TugGwbPz1E https://t.co/1UbxIfba8D</td>\n",
       "      <td>https://t.co/1UbxIfba8D</td>\n",
       "      <td>http://pbs.twimg.com/media/EoK3VO0XYAA-vRI.jpg</td>\n",
       "      <td>Advent calendar village with dog on sofa.</td>\n",
       "      <td>photo</td>\n",
       "    </tr>\n",
       "    <tr>\n",
       "      <th>2131455</th>\n",
       "      <td>1334699273917591554</td>\n",
       "      <td>2020-12-04 03:21:19</td>\n",
       "      <td>If you in Vegas hit me!! https://t.co/vFSBB2wVMK</td>\n",
       "      <td>https://t.co/vFSBB2wVMK</td>\n",
       "      <td>http://pbs.twimg.com/media/EoXN5fLU8AABv_i.jpg</td>\n",
       "      <td>Tap in I’m here ... Vegas</td>\n",
       "      <td>photo</td>\n",
       "    </tr>\n",
       "    <tr>\n",
       "      <th>1181397</th>\n",
       "      <td>1334655300008202241</td>\n",
       "      <td>2020-12-04 00:26:34</td>\n",
       "      <td>Let it snow, let it snow, let it fucking snow. 🌨 #Anon #m3 https://t.co/3XirzESxQ4</td>\n",
       "      <td>https://t.co/3XirzESxQ4</td>\n",
       "      <td>http://pbs.twimg.com/media/EoWl62IUUAEq3uI.jpg</td>\n",
       "      <td>What you need if your visually impaired</td>\n",
       "      <td>photo</td>\n",
       "    </tr>\n",
       "    <tr>\n",
       "      <th>2393356</th>\n",
       "      <td>1333222203857530883</td>\n",
       "      <td>2020-11-30 01:31:58</td>\n",
       "      <td>Return from Witch Mountain (1978) https://t.co/58WJyhpmrX</td>\n",
       "      <td>https://t.co/58WJyhpmrX</td>\n",
       "      <td>http://pbs.twimg.com/media/EoCOh01XcAAhE-V.png</td>\n",
       "      <td>Return from Witch Mountain (1978)</td>\n",
       "      <td>photo</td>\n",
       "    </tr>\n",
       "    <tr>\n",
       "      <th>683403</th>\n",
       "      <td>1334523018748567552</td>\n",
       "      <td>2020-12-03 15:40:56</td>\n",
       "      <td>Combined day, me, vs robot! Robot won, but - Nice day! https://t.co/2z4QMfym5l</td>\n",
       "      <td>https://t.co/2z4QMfym5l</td>\n",
       "      <td>http://pbs.twimg.com/media/EoUtOHxXcAcx1Qz.png</td>\n",
       "      <td>Me</td>\n",
       "      <td>photo</td>\n",
       "    </tr>\n",
       "  </tbody>\n",
       "</table>\n",
       "</div>"
      ],
      "text/plain": [
       "                          id          created_at  \\\n",
       "1553838  1335006904779730944 2020-12-04 23:43:43   \n",
       "927143   1334368657204502530 2020-12-03 05:27:33   \n",
       "2208584  1333805472114208770 2020-12-01 16:09:40   \n",
       "2372033  1334259455899398145 2020-12-02 22:13:38   \n",
       "1623187  1335000550241411075 2020-12-04 23:18:28   \n",
       "249011   1333830042682609664 2020-12-01 17:47:18   \n",
       "2131455  1334699273917591554 2020-12-04 03:21:19   \n",
       "1181397  1334655300008202241 2020-12-04 00:26:34   \n",
       "2393356  1333222203857530883 2020-11-30 01:31:58   \n",
       "683403   1334523018748567552 2020-12-03 15:40:56   \n",
       "\n",
       "                                                                                                                              tweet_text  \\\n",
       "1553838                                                                                      Look at this spread https://t.co/Bgg7bPLT7b   \n",
       "927143                                                                                       Happy lid is happy. https://t.co/MJEuNuco8w   \n",
       "2208584         I made Lucy a crude tent a few days ago and so far she has only left it for food-in or food-out. https://t.co/yNr5EwRzrO   \n",
       "2372033                                                                               this is a cursed tradition https://t.co/oBrZ4umzUb   \n",
       "1623187  I got spicy skewers and the bag says, \"In every person's stomach lives a little devil named *gluttony*\" https://t.co/QuTjfO9yuy   \n",
       "249011                     I fended off kitty village-pillage by installing a guard dog. https://t.co/TugGwbPz1E https://t.co/1UbxIfba8D   \n",
       "2131455                                                                                 If you in Vegas hit me!! https://t.co/vFSBB2wVMK   \n",
       "1181397                                               Let it snow, let it snow, let it fucking snow. 🌨 #Anon #m3 https://t.co/3XirzESxQ4   \n",
       "2393356                                                                        Return from Witch Mountain (1978) https://t.co/58WJyhpmrX   \n",
       "683403                                                    Combined day, me, vs robot! Robot won, but - Nice day! https://t.co/2z4QMfym5l   \n",
       "\n",
       "                       tweet_url  \\\n",
       "1553838  https://t.co/Bgg7bPLT7b   \n",
       "927143   https://t.co/MJEuNuco8w   \n",
       "2208584  https://t.co/yNr5EwRzrO   \n",
       "2372033  https://t.co/oBrZ4umzUb   \n",
       "1623187  https://t.co/QuTjfO9yuy   \n",
       "249011   https://t.co/1UbxIfba8D   \n",
       "2131455  https://t.co/vFSBB2wVMK   \n",
       "1181397  https://t.co/3XirzESxQ4   \n",
       "2393356  https://t.co/58WJyhpmrX   \n",
       "683403   https://t.co/2z4QMfym5l   \n",
       "\n",
       "                                                img_url  \\\n",
       "1553838  http://pbs.twimg.com/media/Eobln6cXcAEXZn4.jpg   \n",
       "927143   http://pbs.twimg.com/media/EoShN05XUAccLgE.jpg   \n",
       "2208584  http://pbs.twimg.com/media/EoKhADpWMAM72n5.jpg   \n",
       "2372033  http://pbs.twimg.com/media/EoQ9ZpdXYAAMKlV.jpg   \n",
       "1623187  http://pbs.twimg.com/media/EobfTIUW4Ac3C5n.jpg   \n",
       "249011   http://pbs.twimg.com/media/EoK3VO0XYAA-vRI.jpg   \n",
       "2131455  http://pbs.twimg.com/media/EoXN5fLU8AABv_i.jpg   \n",
       "1181397  http://pbs.twimg.com/media/EoWl62IUUAEq3uI.jpg   \n",
       "2393356  http://pbs.twimg.com/media/EoCOh01XcAAhE-V.png   \n",
       "683403   http://pbs.twimg.com/media/EoUtOHxXcAcx1Qz.png   \n",
       "\n",
       "                                                                                               alt_text  \\\n",
       "1553838                           Five plates of various sushi pieces cut to show fish and cream cheese   \n",
       "927143   Bild zeigt Deckel einer Erdnussdose, es sind Rillen eingestanzt, die wie ein Gesicht aussehen.   \n",
       "2208584                                 A calico cat on a couch, under a fort made from a blue blanket.   \n",
       "2372033        google search \"does spotify wrapped include december or do I have to live with my shame\"   \n",
       "1623187             a bright yellow bag with skewers poking put the top, and Chinese writing on the bag   \n",
       "249011                                                        Advent calendar village with dog on sofa.   \n",
       "2131455                                                                       Tap in I’m here ... Vegas   \n",
       "1181397                                                         What you need if your visually impaired   \n",
       "2393356                                                               Return from Witch Mountain (1978)   \n",
       "683403                                                                                               Me   \n",
       "\n",
       "        media_type  \n",
       "1553838      photo  \n",
       "927143       photo  \n",
       "2208584      photo  \n",
       "2372033      photo  \n",
       "1623187      photo  \n",
       "249011       photo  \n",
       "2131455      photo  \n",
       "1181397      photo  \n",
       "2393356      photo  \n",
       "683403       photo  "
      ]
     },
     "execution_count": 25,
     "metadata": {},
     "output_type": "execute_result"
    }
   ],
   "source": [
    "df_alt_text.sample(10)"
   ]
  },
  {
   "cell_type": "markdown",
   "metadata": {},
   "source": [
    "## Lowercase and remove punctuation"
   ]
  },
  {
   "cell_type": "code",
   "execution_count": 26,
   "metadata": {
    "ExecuteTime": {
     "end_time": "2020-12-08T07:36:03.475256Z",
     "start_time": "2020-12-08T07:36:03.473236Z"
    }
   },
   "outputs": [],
   "source": [
    "import re\n",
    "import string"
   ]
  },
  {
   "cell_type": "code",
   "execution_count": 27,
   "metadata": {
    "ExecuteTime": {
     "end_time": "2020-12-08T07:36:03.479586Z",
     "start_time": "2020-12-08T07:36:03.477354Z"
    }
   },
   "outputs": [],
   "source": [
    "# # preprocess text\n",
    "\n",
    "# text = \" \".join(caption for caption in df_alt_text['alt_text']).lower()\n",
    "# # remove punctuation\n",
    "# text = re.sub(r'[^\\w]', ' ',text)\n",
    "# # remove numbers\n",
    "# text = re.sub('\\w*\\d\\w*', ' ',text)"
   ]
  },
  {
   "cell_type": "code",
   "execution_count": 28,
   "metadata": {
    "ExecuteTime": {
     "end_time": "2020-12-08T07:36:03.484528Z",
     "start_time": "2020-12-08T07:36:03.481882Z"
    }
   },
   "outputs": [],
   "source": [
    "# text = \" \".join(caption for caption in df_alt_text['alt_text']).lower()\n",
    "# text = \"\".join(filter(str.isalpha(),text))\n",
    "# text[:30]"
   ]
  },
  {
   "cell_type": "code",
   "execution_count": 29,
   "metadata": {
    "ExecuteTime": {
     "end_time": "2020-12-08T07:36:03.488108Z",
     "start_time": "2020-12-08T07:36:03.486279Z"
    }
   },
   "outputs": [],
   "source": [
    "# text = \" \".join(caption for caption in df_alt_text['alt_text']).lower()\n",
    "# text = re.sub(r'[^a-zA-Z]',' ',text)\n",
    "# text[:500]"
   ]
  },
  {
   "cell_type": "code",
   "execution_count": 30,
   "metadata": {
    "ExecuteTime": {
     "end_time": "2020-12-08T07:36:03.514275Z",
     "start_time": "2020-12-08T07:36:03.490250Z"
    }
   },
   "outputs": [
    {
     "name": "stderr",
     "output_type": "stream",
     "text": [
      "<ipython-input-30-d6f0ba90ec15>:1: SettingWithCopyWarning: \n",
      "A value is trying to be set on a copy of a slice from a DataFrame.\n",
      "Try using .loc[row_indexer,col_indexer] = value instead\n",
      "\n",
      "See the caveats in the documentation: https://pandas.pydata.org/pandas-docs/stable/user_guide/indexing.html#returning-a-view-versus-a-copy\n",
      "  df_alt_text['alt_text_clean'] = df_alt_text['alt_text'].str.replace('[^a-zA-Z ]+', '').str.lower()\n"
     ]
    },
    {
     "data": {
      "text/html": [
       "<div>\n",
       "<style scoped>\n",
       "    .dataframe tbody tr th:only-of-type {\n",
       "        vertical-align: middle;\n",
       "    }\n",
       "\n",
       "    .dataframe tbody tr th {\n",
       "        vertical-align: top;\n",
       "    }\n",
       "\n",
       "    .dataframe thead th {\n",
       "        text-align: right;\n",
       "    }\n",
       "</style>\n",
       "<table border=\"1\" class=\"dataframe\">\n",
       "  <thead>\n",
       "    <tr style=\"text-align: right;\">\n",
       "      <th></th>\n",
       "      <th>id</th>\n",
       "      <th>created_at</th>\n",
       "      <th>tweet_text</th>\n",
       "      <th>tweet_url</th>\n",
       "      <th>img_url</th>\n",
       "      <th>alt_text</th>\n",
       "      <th>media_type</th>\n",
       "      <th>alt_text_clean</th>\n",
       "    </tr>\n",
       "  </thead>\n",
       "  <tbody>\n",
       "    <tr>\n",
       "      <th>143557</th>\n",
       "      <td>1334183190207008771</td>\n",
       "      <td>2020-12-02 17:10:35</td>\n",
       "      <td>@gankstrr Right there with you https://t.co/DkChQmH0OX</td>\n",
       "      <td>https://t.co/DkChQmH0OX</td>\n",
       "      <td>http://pbs.twimg.com/media/EoP4ihSXUAAygpJ.jpg</td>\n",
       "      <td>“You listened to 154 genres this year, including 61 new ones.”</td>\n",
       "      <td>photo</td>\n",
       "      <td>you listened to  genres this year including  new ones</td>\n",
       "    </tr>\n",
       "    <tr>\n",
       "      <th>1876569</th>\n",
       "      <td>1334722530473615360</td>\n",
       "      <td>2020-12-04 04:53:43</td>\n",
       "      <td>Fiesta https://t.co/YEVpaHvtE1</td>\n",
       "      <td>https://t.co/YEVpaHvtE1</td>\n",
       "      <td>http://pbs.twimg.com/media/EoXjEI7XUAAdjoO.jpg</td>\n",
       "      <td>Fiesta....</td>\n",
       "      <td>photo</td>\n",
       "      <td>fiesta</td>\n",
       "    </tr>\n",
       "  </tbody>\n",
       "</table>\n",
       "</div>"
      ],
      "text/plain": [
       "                          id          created_at  \\\n",
       "143557   1334183190207008771 2020-12-02 17:10:35   \n",
       "1876569  1334722530473615360 2020-12-04 04:53:43   \n",
       "\n",
       "                                                     tweet_text  \\\n",
       "143557   @gankstrr Right there with you https://t.co/DkChQmH0OX   \n",
       "1876569                          Fiesta https://t.co/YEVpaHvtE1   \n",
       "\n",
       "                       tweet_url  \\\n",
       "143557   https://t.co/DkChQmH0OX   \n",
       "1876569  https://t.co/YEVpaHvtE1   \n",
       "\n",
       "                                                img_url  \\\n",
       "143557   http://pbs.twimg.com/media/EoP4ihSXUAAygpJ.jpg   \n",
       "1876569  http://pbs.twimg.com/media/EoXjEI7XUAAdjoO.jpg   \n",
       "\n",
       "                                                               alt_text  \\\n",
       "143557   “You listened to 154 genres this year, including 61 new ones.”   \n",
       "1876569                                                      Fiesta....   \n",
       "\n",
       "        media_type                                         alt_text_clean  \n",
       "143557       photo  you listened to  genres this year including  new ones  \n",
       "1876569      photo                                                 fiesta  "
      ]
     },
     "execution_count": 30,
     "metadata": {},
     "output_type": "execute_result"
    }
   ],
   "source": [
    "df_alt_text['alt_text_clean'] = df_alt_text['alt_text'].str.replace('[^a-zA-Z ]+', '').str.lower()\n",
    "df_alt_text.sample(2)"
   ]
  },
  {
   "cell_type": "code",
   "execution_count": 31,
   "metadata": {
    "ExecuteTime": {
     "end_time": "2020-12-08T07:37:00.705266Z",
     "start_time": "2020-12-08T07:36:03.518951Z"
    }
   },
   "outputs": [
    {
     "name": "stderr",
     "output_type": "stream",
     "text": [
      "<ipython-input-31-dff249a71188>:2: SettingWithCopyWarning: \n",
      "A value is trying to be set on a copy of a slice from a DataFrame.\n",
      "Try using .loc[row_indexer,col_indexer] = value instead\n",
      "\n",
      "See the caveats in the documentation: https://pandas.pydata.org/pandas-docs/stable/user_guide/indexing.html#returning-a-view-versus-a-copy\n",
      "  df_alt_text['alt_text_cleaner'] = [' '.join(y for y in x.split() if y in words) for x in df_alt_text['alt_text_clean']]\n"
     ]
    }
   ],
   "source": [
    "words = nltk.corpus.words.words()\n",
    "df_alt_text['alt_text_cleaner'] = [' '.join(y for y in x.split() if y in words) for x in df_alt_text['alt_text_clean']]\n",
    "#df_alt_text['alt_text_cleaner'] = [word for word in df_alt_text['alt_text_clean'].str.split() if word in words]"
   ]
  },
  {
   "cell_type": "code",
   "execution_count": 32,
   "metadata": {
    "ExecuteTime": {
     "end_time": "2020-12-08T07:37:00.717088Z",
     "start_time": "2020-12-08T07:37:00.706913Z"
    }
   },
   "outputs": [
    {
     "data": {
      "text/html": [
       "<div>\n",
       "<style scoped>\n",
       "    .dataframe tbody tr th:only-of-type {\n",
       "        vertical-align: middle;\n",
       "    }\n",
       "\n",
       "    .dataframe tbody tr th {\n",
       "        vertical-align: top;\n",
       "    }\n",
       "\n",
       "    .dataframe thead th {\n",
       "        text-align: right;\n",
       "    }\n",
       "</style>\n",
       "<table border=\"1\" class=\"dataframe\">\n",
       "  <thead>\n",
       "    <tr style=\"text-align: right;\">\n",
       "      <th></th>\n",
       "      <th>id</th>\n",
       "      <th>created_at</th>\n",
       "      <th>tweet_text</th>\n",
       "      <th>tweet_url</th>\n",
       "      <th>img_url</th>\n",
       "      <th>alt_text</th>\n",
       "      <th>media_type</th>\n",
       "      <th>alt_text_clean</th>\n",
       "      <th>alt_text_cleaner</th>\n",
       "    </tr>\n",
       "  </thead>\n",
       "  <tbody>\n",
       "    <tr>\n",
       "      <th>747</th>\n",
       "      <td>1333857393801891842</td>\n",
       "      <td>2020-12-01 19:35:59</td>\n",
       "      <td>@Hallmark I just wanted to buy stuff, not be assaulted (´༎ຶོρ༎ຶོ`) https://t.co/H617bRVeCV</td>\n",
       "      <td>https://t.co/H617bRVeCV</td>\n",
       "      <td>http://pbs.twimg.com/media/EoLQOiKXYAY52gk.jpg</td>\n",
       "      <td>I’ve never met a more hostile pinecone in my life</td>\n",
       "      <td>photo</td>\n",
       "      <td>ive never met a more hostile pinecone in my life</td>\n",
       "      <td>never met a more hostile in my life</td>\n",
       "    </tr>\n",
       "    <tr>\n",
       "      <th>1003</th>\n",
       "      <td>1333857368677859329</td>\n",
       "      <td>2020-12-01 19:35:53</td>\n",
       "      <td>Happy for Elliot Page, and also relieved https://t.co/RUF0l6aYTT</td>\n",
       "      <td>https://t.co/RUF0l6aYTT</td>\n",
       "      <td>http://pbs.twimg.com/media/EoLNBYeW8AANYfE.png</td>\n",
       "      <td>Under \"Trends for Portland, United States,\" \"Elliot\" is listed as No. 1</td>\n",
       "      <td>photo</td>\n",
       "      <td>under trends for portland united states elliot is listed as no</td>\n",
       "      <td>under for united is listed as no</td>\n",
       "    </tr>\n",
       "    <tr>\n",
       "      <th>2032</th>\n",
       "      <td>1333857294115889154</td>\n",
       "      <td>2020-12-01 19:35:35</td>\n",
       "      <td>I have been doing some color-coding lately. https://t.co/J0ZU1oCgMI</td>\n",
       "      <td>https://t.co/J0ZU1oCgMI</td>\n",
       "      <td>http://pbs.twimg.com/media/EoLQFU5XIAUta9w.jpg</td>\n",
       "      <td>An Atreus keyboard with multi color keys.</td>\n",
       "      <td>photo</td>\n",
       "      <td>an atreus keyboard with multi color keys</td>\n",
       "      <td>an keyboard with color</td>\n",
       "    </tr>\n",
       "    <tr>\n",
       "      <th>2117</th>\n",
       "      <td>1333857290345123844</td>\n",
       "      <td>2020-12-01 19:35:34</td>\n",
       "      <td>'Hats off' to 'mask on'! \\n\\n📸: lailucien (IG) https://t.co/dw9GxtNaxu</td>\n",
       "      <td>https://t.co/dw9GxtNaxu</td>\n",
       "      <td>http://pbs.twimg.com/media/EoLQCVZXcAQbhkO.jpg</td>\n",
       "      <td>Woman with mask in subway station</td>\n",
       "      <td>photo</td>\n",
       "      <td>woman with mask in subway station</td>\n",
       "      <td>woman with mask in subway station</td>\n",
       "    </tr>\n",
       "    <tr>\n",
       "      <th>3013</th>\n",
       "      <td>1333857218282868737</td>\n",
       "      <td>2020-12-01 19:35:17</td>\n",
       "      <td>This is what I have to put up with. https://t.co/rWBp9dtj4e</td>\n",
       "      <td>https://t.co/rWBp9dtj4e</td>\n",
       "      <td>http://pbs.twimg.com/media/EoLP6pzWEAIAVDF.jpg</td>\n",
       "      <td>The cat has plunged himself into the Christmas tree. He is definitely eating it.</td>\n",
       "      <td>photo</td>\n",
       "      <td>the cat has plunged himself into the christmas tree he is definitely eating it</td>\n",
       "      <td>the cat himself into the tree he is definitely eating it</td>\n",
       "    </tr>\n",
       "  </tbody>\n",
       "</table>\n",
       "</div>"
      ],
      "text/plain": [
       "                       id          created_at  \\\n",
       "747   1333857393801891842 2020-12-01 19:35:59   \n",
       "1003  1333857368677859329 2020-12-01 19:35:53   \n",
       "2032  1333857294115889154 2020-12-01 19:35:35   \n",
       "2117  1333857290345123844 2020-12-01 19:35:34   \n",
       "3013  1333857218282868737 2020-12-01 19:35:17   \n",
       "\n",
       "                                                                                      tweet_text  \\\n",
       "747   @Hallmark I just wanted to buy stuff, not be assaulted (´༎ຶོρ༎ຶོ`) https://t.co/H617bRVeCV   \n",
       "1003                            Happy for Elliot Page, and also relieved https://t.co/RUF0l6aYTT   \n",
       "2032                         I have been doing some color-coding lately. https://t.co/J0ZU1oCgMI   \n",
       "2117                      'Hats off' to 'mask on'! \\n\\n📸: lailucien (IG) https://t.co/dw9GxtNaxu   \n",
       "3013                                 This is what I have to put up with. https://t.co/rWBp9dtj4e   \n",
       "\n",
       "                    tweet_url                                         img_url  \\\n",
       "747   https://t.co/H617bRVeCV  http://pbs.twimg.com/media/EoLQOiKXYAY52gk.jpg   \n",
       "1003  https://t.co/RUF0l6aYTT  http://pbs.twimg.com/media/EoLNBYeW8AANYfE.png   \n",
       "2032  https://t.co/J0ZU1oCgMI  http://pbs.twimg.com/media/EoLQFU5XIAUta9w.jpg   \n",
       "2117  https://t.co/dw9GxtNaxu  http://pbs.twimg.com/media/EoLQCVZXcAQbhkO.jpg   \n",
       "3013  https://t.co/rWBp9dtj4e  http://pbs.twimg.com/media/EoLP6pzWEAIAVDF.jpg   \n",
       "\n",
       "                                                                              alt_text  \\\n",
       "747                                  I’ve never met a more hostile pinecone in my life   \n",
       "1003           Under \"Trends for Portland, United States,\" \"Elliot\" is listed as No. 1   \n",
       "2032                                         An Atreus keyboard with multi color keys.   \n",
       "2117                                                 Woman with mask in subway station   \n",
       "3013  The cat has plunged himself into the Christmas tree. He is definitely eating it.   \n",
       "\n",
       "     media_type  \\\n",
       "747       photo   \n",
       "1003      photo   \n",
       "2032      photo   \n",
       "2117      photo   \n",
       "3013      photo   \n",
       "\n",
       "                                                                      alt_text_clean  \\\n",
       "747                                 ive never met a more hostile pinecone in my life   \n",
       "1003                 under trends for portland united states elliot is listed as no    \n",
       "2032                                        an atreus keyboard with multi color keys   \n",
       "2117                                               woman with mask in subway station   \n",
       "3013  the cat has plunged himself into the christmas tree he is definitely eating it   \n",
       "\n",
       "                                              alt_text_cleaner  \n",
       "747                        never met a more hostile in my life  \n",
       "1003                          under for united is listed as no  \n",
       "2032                                    an keyboard with color  \n",
       "2117                         woman with mask in subway station  \n",
       "3013  the cat himself into the tree he is definitely eating it  "
      ]
     },
     "execution_count": 32,
     "metadata": {},
     "output_type": "execute_result"
    }
   ],
   "source": [
    "df_alt_text.head()"
   ]
  },
  {
   "cell_type": "code",
   "execution_count": 33,
   "metadata": {
    "ExecuteTime": {
     "end_time": "2020-12-08T07:37:00.732425Z",
     "start_time": "2020-12-08T07:37:00.718442Z"
    }
   },
   "outputs": [
    {
     "name": "stderr",
     "output_type": "stream",
     "text": [
      "<ipython-input-33-e108d55d3152>:1: SettingWithCopyWarning: \n",
      "A value is trying to be set on a copy of a slice from a DataFrame.\n",
      "Try using .loc[row_indexer,col_indexer] = value instead\n",
      "\n",
      "See the caveats in the documentation: https://pandas.pydata.org/pandas-docs/stable/user_guide/indexing.html#returning-a-view-versus-a-copy\n",
      "  df_alt_text['alt_text_clean_len'] = df_alt_text['alt_text_clean'].str.split(\" \").str.len()\n"
     ]
    },
    {
     "data": {
      "text/plain": [
       "count    3005.000000\n",
       "mean       11.497504\n",
       "std        13.734878\n",
       "min         1.000000\n",
       "25%         4.000000\n",
       "50%         7.000000\n",
       "75%        14.000000\n",
       "max       180.000000\n",
       "Name: alt_text_clean_len, dtype: float64"
      ]
     },
     "execution_count": 33,
     "metadata": {},
     "output_type": "execute_result"
    }
   ],
   "source": [
    "df_alt_text['alt_text_clean_len'] = df_alt_text['alt_text_clean'].str.split(\" \").str.len()\n",
    "df_alt_text['alt_text_clean_len'].describe()"
   ]
  },
  {
   "cell_type": "code",
   "execution_count": 34,
   "metadata": {
    "ExecuteTime": {
     "end_time": "2020-12-08T07:37:00.879636Z",
     "start_time": "2020-12-08T07:37:00.733751Z"
    }
   },
   "outputs": [],
   "source": [
    "df_alt_text.to_clipboard()"
   ]
  },
  {
   "cell_type": "code",
   "execution_count": 35,
   "metadata": {
    "ExecuteTime": {
     "end_time": "2020-12-08T07:37:00.912301Z",
     "start_time": "2020-12-08T07:37:00.882000Z"
    }
   },
   "outputs": [
    {
     "data": {
      "text/plain": [
       "(1720, 10)"
      ]
     },
     "execution_count": 35,
     "metadata": {},
     "output_type": "execute_result"
    }
   ],
   "source": [
    "# did a bunch of eyeballing in a spreadsheet, and captions with more than 6/fewer than 36 words seemed to be a reasonable quality cutoff\n",
    "df_alt_text = df_alt_text[(df_alt_text['alt_text_clean_len'] > 5) & (df_alt_text['alt_text_clean_len'] < 36)]\n",
    "df_alt_text.shape"
   ]
  },
  {
   "cell_type": "markdown",
   "metadata": {},
   "source": [
    "# Remove 'photo/picture of'"
   ]
  },
  {
   "cell_type": "code",
   "execution_count": 36,
   "metadata": {
    "ExecuteTime": {
     "end_time": "2020-12-08T07:37:00.924352Z",
     "start_time": "2020-12-08T07:37:00.915081Z"
    }
   },
   "outputs": [],
   "source": [
    "df_alt_text['alt_text_clean'] = df_alt_text['alt_text_clean'].str.replace('photo of ','')\n",
    "df_alt_text['alt_text_clean'] = df_alt_text['alt_text_clean'].str.replace('picture of ','')"
   ]
  },
  {
   "cell_type": "code",
   "execution_count": 37,
   "metadata": {
    "ExecuteTime": {
     "end_time": "2020-12-08T07:37:00.941514Z",
     "start_time": "2020-12-08T07:37:00.926721Z"
    }
   },
   "outputs": [
    {
     "data": {
      "text/html": [
       "<div>\n",
       "<style scoped>\n",
       "    .dataframe tbody tr th:only-of-type {\n",
       "        vertical-align: middle;\n",
       "    }\n",
       "\n",
       "    .dataframe tbody tr th {\n",
       "        vertical-align: top;\n",
       "    }\n",
       "\n",
       "    .dataframe thead th {\n",
       "        text-align: right;\n",
       "    }\n",
       "</style>\n",
       "<table border=\"1\" class=\"dataframe\">\n",
       "  <thead>\n",
       "    <tr style=\"text-align: right;\">\n",
       "      <th></th>\n",
       "      <th>id</th>\n",
       "      <th>created_at</th>\n",
       "      <th>tweet_text</th>\n",
       "      <th>tweet_url</th>\n",
       "      <th>img_url</th>\n",
       "      <th>alt_text</th>\n",
       "      <th>media_type</th>\n",
       "      <th>alt_text_clean</th>\n",
       "      <th>alt_text_cleaner</th>\n",
       "      <th>alt_text_clean_len</th>\n",
       "    </tr>\n",
       "  </thead>\n",
       "  <tbody>\n",
       "    <tr>\n",
       "      <th>1573779</th>\n",
       "      <td>1335005042722676739</td>\n",
       "      <td>2020-12-04 23:36:20</td>\n",
       "      <td>This James Baldwin quote is gold https://t.co/v3HGj2KygH</td>\n",
       "      <td>https://t.co/v3HGj2KygH</td>\n",
       "      <td>http://pbs.twimg.com/media/EobkAubXIAENO_i.jpg</td>\n",
       "      <td>Yes when I was young I knew a lot! Now I don't know nothing which is a great relief</td>\n",
       "      <td>photo</td>\n",
       "      <td>yes when i was young i knew a lot now i dont know nothing which is a great relief</td>\n",
       "      <td>yes when i was young i knew a lot now i dont know nothing which is a great relief</td>\n",
       "      <td>19</td>\n",
       "    </tr>\n",
       "    <tr>\n",
       "      <th>2408476</th>\n",
       "      <td>1331397529691451393</td>\n",
       "      <td>2020-11-25 00:41:21</td>\n",
       "      <td>lorde enjoying not giving us what we really want https://t.co/FKlYhznVfo</td>\n",
       "      <td>https://t.co/FKlYhznVfo</td>\n",
       "      <td>http://pbs.twimg.com/media/EnoS_hXWEAAnB-v.png</td>\n",
       "      <td>Well. I’m here in your inbox because I have some exciting news. Not that news. Don’t get too excited. Just a moderate amount.</td>\n",
       "      <td>photo</td>\n",
       "      <td>well im here in your inbox because i have some exciting news not that news dont get too excited just a moderate amount</td>\n",
       "      <td>well here in your because i have some exciting news not that news dont get too excited just a moderate amount</td>\n",
       "      <td>23</td>\n",
       "    </tr>\n",
       "    <tr>\n",
       "      <th>1827581</th>\n",
       "      <td>1334726662425112578</td>\n",
       "      <td>2020-12-04 05:10:09</td>\n",
       "      <td>“Switchin' them positions for you” 🎶🎵\\n\\n#positions #ag6 #leatherface #ArianaGrande #horrorfam https://t.co/V36wjXHkWU</td>\n",
       "      <td>https://t.co/V36wjXHkWU</td>\n",
       "      <td>http://pbs.twimg.com/media/EoXm0QRW8AEwVAD.jpg</td>\n",
       "      <td>A photo of Leatherface from the Texas Chain Saw Massacre holding a mallet and wearing an apron over a button up and tie.</td>\n",
       "      <td>photo</td>\n",
       "      <td>a leatherface from the texas chain saw massacre holding a mallet and wearing an apron over a button up and tie</td>\n",
       "      <td>a photo of from the chain saw massacre holding a mallet and wearing an apron over a button up and tie</td>\n",
       "      <td>23</td>\n",
       "    </tr>\n",
       "    <tr>\n",
       "      <th>1680637</th>\n",
       "      <td>1333559761384529920</td>\n",
       "      <td>2020-11-30 23:53:18</td>\n",
       "      <td>The guinea pig of plumpness is blessing timelines because let’s fuckin’ go https://t.co/zww70jQORa</td>\n",
       "      <td>https://t.co/zww70jQORa</td>\n",
       "      <td>http://pbs.twimg.com/media/EoHBiMrUwAEYXt4.jpg</td>\n",
       "      <td>A rotund guinea pig sitting on a plump butt, chocolate brown furry glee, big feet, is very cute</td>\n",
       "      <td>photo</td>\n",
       "      <td>a rotund guinea pig sitting on a plump butt chocolate brown furry glee big feet is very cute</td>\n",
       "      <td>a rotund guinea pig sitting on a plump butt chocolate brown furry glee big is very cute</td>\n",
       "      <td>18</td>\n",
       "    </tr>\n",
       "    <tr>\n",
       "      <th>1130693</th>\n",
       "      <td>1334659446316937217</td>\n",
       "      <td>2020-12-04 00:43:03</td>\n",
       "      <td>They are his. https://t.co/u8wg7cYkQ3</td>\n",
       "      <td>https://t.co/u8wg7cYkQ3</td>\n",
       "      <td>http://pbs.twimg.com/media/EoWpsQrXIAAj7dO.jpg</td>\n",
       "      <td>Ogie the orange tabby holding two balls under his arm</td>\n",
       "      <td>photo</td>\n",
       "      <td>ogie the orange tabby holding two balls under his arm</td>\n",
       "      <td>the orange tabby holding two under his arm</td>\n",
       "      <td>10</td>\n",
       "    </tr>\n",
       "  </tbody>\n",
       "</table>\n",
       "</div>"
      ],
      "text/plain": [
       "                          id          created_at  \\\n",
       "1573779  1335005042722676739 2020-12-04 23:36:20   \n",
       "2408476  1331397529691451393 2020-11-25 00:41:21   \n",
       "1827581  1334726662425112578 2020-12-04 05:10:09   \n",
       "1680637  1333559761384529920 2020-11-30 23:53:18   \n",
       "1130693  1334659446316937217 2020-12-04 00:43:03   \n",
       "\n",
       "                                                                                                                     tweet_text  \\\n",
       "1573779                                                                This James Baldwin quote is gold https://t.co/v3HGj2KygH   \n",
       "2408476                                                lorde enjoying not giving us what we really want https://t.co/FKlYhznVfo   \n",
       "1827581  “Switchin' them positions for you” 🎶🎵\\n\\n#positions #ag6 #leatherface #ArianaGrande #horrorfam https://t.co/V36wjXHkWU   \n",
       "1680637                      The guinea pig of plumpness is blessing timelines because let’s fuckin’ go https://t.co/zww70jQORa   \n",
       "1130693                                                                                   They are his. https://t.co/u8wg7cYkQ3   \n",
       "\n",
       "                       tweet_url  \\\n",
       "1573779  https://t.co/v3HGj2KygH   \n",
       "2408476  https://t.co/FKlYhznVfo   \n",
       "1827581  https://t.co/V36wjXHkWU   \n",
       "1680637  https://t.co/zww70jQORa   \n",
       "1130693  https://t.co/u8wg7cYkQ3   \n",
       "\n",
       "                                                img_url  \\\n",
       "1573779  http://pbs.twimg.com/media/EobkAubXIAENO_i.jpg   \n",
       "2408476  http://pbs.twimg.com/media/EnoS_hXWEAAnB-v.png   \n",
       "1827581  http://pbs.twimg.com/media/EoXm0QRW8AEwVAD.jpg   \n",
       "1680637  http://pbs.twimg.com/media/EoHBiMrUwAEYXt4.jpg   \n",
       "1130693  http://pbs.twimg.com/media/EoWpsQrXIAAj7dO.jpg   \n",
       "\n",
       "                                                                                                                              alt_text  \\\n",
       "1573779                                            Yes when I was young I knew a lot! Now I don't know nothing which is a great relief   \n",
       "2408476  Well. I’m here in your inbox because I have some exciting news. Not that news. Don’t get too excited. Just a moderate amount.   \n",
       "1827581       A photo of Leatherface from the Texas Chain Saw Massacre holding a mallet and wearing an apron over a button up and tie.   \n",
       "1680637                                A rotund guinea pig sitting on a plump butt, chocolate brown furry glee, big feet, is very cute   \n",
       "1130693                                                                          Ogie the orange tabby holding two balls under his arm   \n",
       "\n",
       "        media_type  \\\n",
       "1573779      photo   \n",
       "2408476      photo   \n",
       "1827581      photo   \n",
       "1680637      photo   \n",
       "1130693      photo   \n",
       "\n",
       "                                                                                                                 alt_text_clean  \\\n",
       "1573779                                       yes when i was young i knew a lot now i dont know nothing which is a great relief   \n",
       "2408476  well im here in your inbox because i have some exciting news not that news dont get too excited just a moderate amount   \n",
       "1827581          a leatherface from the texas chain saw massacre holding a mallet and wearing an apron over a button up and tie   \n",
       "1680637                            a rotund guinea pig sitting on a plump butt chocolate brown furry glee big feet is very cute   \n",
       "1130693                                                                   ogie the orange tabby holding two balls under his arm   \n",
       "\n",
       "                                                                                                      alt_text_cleaner  \\\n",
       "1573779                              yes when i was young i knew a lot now i dont know nothing which is a great relief   \n",
       "2408476  well here in your because i have some exciting news not that news dont get too excited just a moderate amount   \n",
       "1827581          a photo of from the chain saw massacre holding a mallet and wearing an apron over a button up and tie   \n",
       "1680637                        a rotund guinea pig sitting on a plump butt chocolate brown furry glee big is very cute   \n",
       "1130693                                                                     the orange tabby holding two under his arm   \n",
       "\n",
       "         alt_text_clean_len  \n",
       "1573779                  19  \n",
       "2408476                  23  \n",
       "1827581                  23  \n",
       "1680637                  18  \n",
       "1130693                  10  "
      ]
     },
     "execution_count": 37,
     "metadata": {},
     "output_type": "execute_result"
    }
   ],
   "source": [
    "df_alt_text.sample(5)"
   ]
  },
  {
   "cell_type": "code",
   "execution_count": 38,
   "metadata": {
    "ExecuteTime": {
     "end_time": "2020-12-08T07:37:00.954194Z",
     "start_time": "2020-12-08T07:37:00.943166Z"
    }
   },
   "outputs": [],
   "source": [
    "df_alt_text.to_pickle('twitter_alt_text.pkl')"
   ]
  },
  {
   "cell_type": "markdown",
   "metadata": {},
   "source": [
    "## Remove emojis"
   ]
  },
  {
   "cell_type": "code",
   "execution_count": 39,
   "metadata": {
    "ExecuteTime": {
     "end_time": "2020-12-08T07:37:00.957838Z",
     "start_time": "2020-12-08T07:37:00.956036Z"
    }
   },
   "outputs": [],
   "source": [
    "#demoji.download_codes()"
   ]
  },
  {
   "cell_type": "code",
   "execution_count": 40,
   "metadata": {
    "ExecuteTime": {
     "end_time": "2020-12-08T07:37:00.961366Z",
     "start_time": "2020-12-08T07:37:00.959467Z"
    }
   },
   "outputs": [],
   "source": [
    "#text = demoji.replace(text)"
   ]
  },
  {
   "cell_type": "markdown",
   "metadata": {},
   "source": [
    "## Remove proper nouns"
   ]
  },
  {
   "cell_type": "code",
   "execution_count": 41,
   "metadata": {
    "ExecuteTime": {
     "end_time": "2020-12-08T07:37:00.977577Z",
     "start_time": "2020-12-08T07:37:00.963128Z"
    }
   },
   "outputs": [
    {
     "ename": "NameError",
     "evalue": "name 'text' is not defined",
     "output_type": "error",
     "traceback": [
      "\u001b[0;31m---------------------------------------------------------------------------\u001b[0m",
      "\u001b[0;31mNameError\u001b[0m                                 Traceback (most recent call last)",
      "\u001b[0;32m<ipython-input-41-1f4ce23dd6c4>\u001b[0m in \u001b[0;36m<module>\u001b[0;34m\u001b[0m\n\u001b[1;32m      1\u001b[0m \u001b[0;31m# identify all proper nouns\u001b[0m\u001b[0;34m\u001b[0m\u001b[0;34m\u001b[0m\u001b[0;34m\u001b[0m\u001b[0m\n\u001b[0;32m----> 2\u001b[0;31m \u001b[0mtagged_text\u001b[0m \u001b[0;34m=\u001b[0m \u001b[0mpos_tag\u001b[0m\u001b[0;34m(\u001b[0m\u001b[0mtext\u001b[0m\u001b[0;34m.\u001b[0m\u001b[0msplit\u001b[0m\u001b[0;34m(\u001b[0m\u001b[0;34m)\u001b[0m\u001b[0;34m)\u001b[0m\u001b[0;34m\u001b[0m\u001b[0;34m\u001b[0m\u001b[0m\n\u001b[0m\u001b[1;32m      3\u001b[0m \u001b[0mpropernouns\u001b[0m \u001b[0;34m=\u001b[0m \u001b[0;34m[\u001b[0m\u001b[0mword\u001b[0m \u001b[0;32mfor\u001b[0m \u001b[0mword\u001b[0m\u001b[0;34m,\u001b[0m\u001b[0mpos\u001b[0m \u001b[0;32min\u001b[0m \u001b[0mtagged_text\u001b[0m \u001b[0;32mif\u001b[0m \u001b[0mpos\u001b[0m \u001b[0;34m==\u001b[0m \u001b[0;34m'NNP'\u001b[0m\u001b[0;34m]\u001b[0m\u001b[0;34m\u001b[0m\u001b[0;34m\u001b[0m\u001b[0m\n\u001b[1;32m      4\u001b[0m \u001b[0mlen\u001b[0m\u001b[0;34m(\u001b[0m\u001b[0mpropernouns\u001b[0m\u001b[0;34m)\u001b[0m\u001b[0;34m\u001b[0m\u001b[0;34m\u001b[0m\u001b[0m\n",
      "\u001b[0;31mNameError\u001b[0m: name 'text' is not defined"
     ]
    }
   ],
   "source": [
    "# identify all proper nouns\n",
    "tagged_text = pos_tag(text.split())\n",
    "propernouns = [word for word,pos in tagged_text if pos == 'NNP']\n",
    "len(propernouns)"
   ]
  },
  {
   "cell_type": "code",
   "execution_count": 42,
   "metadata": {
    "ExecuteTime": {
     "end_time": "2020-12-08T07:37:12.830428Z",
     "start_time": "2020-12-08T07:37:12.821536Z"
    }
   },
   "outputs": [
    {
     "ename": "NameError",
     "evalue": "name 'propernouns' is not defined",
     "output_type": "error",
     "traceback": [
      "\u001b[0;31m---------------------------------------------------------------------------\u001b[0m",
      "\u001b[0;31mNameError\u001b[0m                                 Traceback (most recent call last)",
      "\u001b[0;32m<ipython-input-42-deb17d02e704>\u001b[0m in \u001b[0;36m<module>\u001b[0;34m\u001b[0m\n\u001b[1;32m      1\u001b[0m \u001b[0;31m# check what the propernouns look like... nltk doesn't seem to be doing a great job identifying them\u001b[0m\u001b[0;34m\u001b[0m\u001b[0;34m\u001b[0m\u001b[0;34m\u001b[0m\u001b[0m\n\u001b[0;32m----> 2\u001b[0;31m \u001b[0mpropernouns\u001b[0m\u001b[0;34m[\u001b[0m\u001b[0;34m:\u001b[0m\u001b[0;36m30\u001b[0m\u001b[0;34m]\u001b[0m\u001b[0;34m\u001b[0m\u001b[0;34m\u001b[0m\u001b[0m\n\u001b[0m",
      "\u001b[0;31mNameError\u001b[0m: name 'propernouns' is not defined"
     ]
    }
   ],
   "source": [
    "# check what the propernouns look like... nltk doesn't seem to be doing a great job identifying them\n",
    "propernouns[:30]"
   ]
  },
  {
   "cell_type": "markdown",
   "metadata": {},
   "source": [
    "second way of trying this... keep only english words"
   ]
  },
  {
   "cell_type": "code",
   "execution_count": null,
   "metadata": {
    "ExecuteTime": {
     "end_time": "2020-12-08T07:37:00.980907Z",
     "start_time": "2020-12-08T07:35:58.221Z"
    }
   },
   "outputs": [],
   "source": [
    "words = set(nltk.corpus.words.words())\n",
    "text = \" \".join(word for word in nltk.wordpunct_tokenize(text))"
   ]
  },
  {
   "cell_type": "code",
   "execution_count": null,
   "metadata": {
    "ExecuteTime": {
     "end_time": "2020-12-08T07:37:00.982234Z",
     "start_time": "2020-12-08T07:35:58.226Z"
    }
   },
   "outputs": [],
   "source": [
    "text[:1000]"
   ]
  },
  {
   "cell_type": "code",
   "execution_count": null,
   "metadata": {
    "ExecuteTime": {
     "end_time": "2020-12-08T07:37:00.983569Z",
     "start_time": "2020-12-08T07:35:58.228Z"
    }
   },
   "outputs": [],
   "source": [
    "tagged_text = pos_tag(text.split())\n",
    "propernouns = [word for word,pos in tagged_text if pos == 'NNP']"
   ]
  },
  {
   "cell_type": "code",
   "execution_count": null,
   "metadata": {
    "ExecuteTime": {
     "end_time": "2020-12-08T07:37:00.984482Z",
     "start_time": "2020-12-08T07:35:58.231Z"
    }
   },
   "outputs": [],
   "source": [
    "len(propernouns)"
   ]
  },
  {
   "cell_type": "markdown",
   "metadata": {},
   "source": [
    "# Download Images"
   ]
  },
  {
   "cell_type": "markdown",
   "metadata": {},
   "source": [
    "cutoff (max timestamp) for first image download: `Timestamp('2020-12-02 22:57:08')`"
   ]
  },
  {
   "cell_type": "code",
   "execution_count": null,
   "metadata": {
    "ExecuteTime": {
     "end_time": "2020-12-08T07:37:00.985623Z",
     "start_time": "2020-12-08T07:35:58.234Z"
    }
   },
   "outputs": [],
   "source": [
    "urls = list(df_alt_text['img_url'])"
   ]
  },
  {
   "cell_type": "code",
   "execution_count": null,
   "metadata": {
    "ExecuteTime": {
     "end_time": "2020-12-08T07:37:00.986892Z",
     "start_time": "2020-12-08T07:35:58.236Z"
    }
   },
   "outputs": [],
   "source": [
    "# counter = 0\n",
    "# for i in urls:\n",
    "# #     try:\n",
    "#         filename = 'twitter_images/'+i[27:46]\n",
    "#         response = requests.get(i)\n",
    "#         file = open(filename, \"wb\")\n",
    "#         file.write(response.content)\n",
    "#         file.close()\n",
    "#         if counter % 20 == 0:\n",
    "#             print(f'{counter} images downloaded.')\n",
    "#         counter +=1\n",
    "# #     except:\n",
    "# #         pass"
   ]
  },
  {
   "cell_type": "markdown",
   "metadata": {},
   "source": [
    "# Topic Modeling"
   ]
  },
  {
   "cell_type": "markdown",
   "metadata": {},
   "source": [
    "## Preprocess data"
   ]
  },
  {
   "cell_type": "code",
   "execution_count": 62,
   "metadata": {
    "ExecuteTime": {
     "end_time": "2020-12-08T08:28:44.671311Z",
     "start_time": "2020-12-08T08:28:44.232254Z"
    }
   },
   "outputs": [],
   "source": [
    "from SpacyPreprocessor import SpacyPreprocessor"
   ]
  },
  {
   "cell_type": "code",
   "execution_count": 63,
   "metadata": {
    "ExecuteTime": {
     "end_time": "2020-12-08T08:28:44.702304Z",
     "start_time": "2020-12-08T08:28:44.673975Z"
    },
    "scrolled": false
   },
   "outputs": [
    {
     "data": {
      "text/html": [
       "<div>\n",
       "<style scoped>\n",
       "    .dataframe tbody tr th:only-of-type {\n",
       "        vertical-align: middle;\n",
       "    }\n",
       "\n",
       "    .dataframe tbody tr th {\n",
       "        vertical-align: top;\n",
       "    }\n",
       "\n",
       "    .dataframe thead th {\n",
       "        text-align: right;\n",
       "    }\n",
       "</style>\n",
       "<table border=\"1\" class=\"dataframe\">\n",
       "  <thead>\n",
       "    <tr style=\"text-align: right;\">\n",
       "      <th></th>\n",
       "      <th>id</th>\n",
       "      <th>created_at</th>\n",
       "      <th>tweet_text</th>\n",
       "      <th>tweet_url</th>\n",
       "      <th>img_url</th>\n",
       "      <th>alt_text</th>\n",
       "      <th>media_type</th>\n",
       "    </tr>\n",
       "  </thead>\n",
       "  <tbody>\n",
       "    <tr>\n",
       "      <th>1704206</th>\n",
       "      <td>1333883862498369542</td>\n",
       "      <td>2020-12-01 21:21:09</td>\n",
       "      <td>@CallMeAgent00 @SiimplyGrinding @ImDukeDennis @imdavisss Never boxing again https://t.co/a1a5RxiSj5</td>\n",
       "      <td>https://t.co/a1a5RxiSj5</td>\n",
       "      <td>http://pbs.twimg.com/media/EoLoTcqXIAIp2Vx.jpg</td>\n",
       "      <td>Never boxing again</td>\n",
       "      <td>photo</td>\n",
       "    </tr>\n",
       "    <tr>\n",
       "      <th>1107876</th>\n",
       "      <td>1334661322215067649</td>\n",
       "      <td>2020-12-04 00:50:30</td>\n",
       "      <td>Test shoots of Lia T from Upfront Models. Sitting down portraits.\\n\\n#testshoot #studiophotography #beautyphotoshoot https://t.co/rwiUUGKlFK</td>\n",
       "      <td>https://t.co/rwiUUGKlFK</td>\n",
       "      <td>http://pbs.twimg.com/media/EoWrY0pU0AU6dAE.jpg</td>\n",
       "      <td>Asian beauty lia tan sleevesless top smiling portrait</td>\n",
       "      <td>photo</td>\n",
       "    </tr>\n",
       "    <tr>\n",
       "      <th>1721958</th>\n",
       "      <td>1333882419208998912</td>\n",
       "      <td>2020-12-01 21:15:25</td>\n",
       "      <td>Made a start on Christmas today... https://t.co/8iR1HEF1Qq</td>\n",
       "      <td>https://t.co/8iR1HEF1Qq</td>\n",
       "      <td>http://pbs.twimg.com/media/EoLm_JRWMAEtNG8.jpg</td>\n",
       "      <td>Our Christmas tree for 2020.</td>\n",
       "      <td>photo</td>\n",
       "    </tr>\n",
       "    <tr>\n",
       "      <th>2240745</th>\n",
       "      <td>1334269767243350017</td>\n",
       "      <td>2020-12-02 22:54:36</td>\n",
       "      <td>I have a new favourite term. Although I feel I might be calling it Homeric Expanded Universe rather than just Homer. https://t.co/j2yD50Os1g</td>\n",
       "      <td>https://t.co/j2yD50Os1g</td>\n",
       "      <td>http://pbs.twimg.com/media/EoRHEYpUUAA80nM.png</td>\n",
       "      <td>Tumblr post by britneyshakespearean: getting shot in the ankle is probably what achilles is best known for but thats not even in the iliad its part of the heu (homer expanded universe)</td>\n",
       "      <td>photo</td>\n",
       "    </tr>\n",
       "    <tr>\n",
       "      <th>1772382</th>\n",
       "      <td>1333575721638391812</td>\n",
       "      <td>2020-12-01 00:56:43</td>\n",
       "      <td>me: I should perform a task\\nexecutive dysfunction: https://t.co/vJwjklfl6I</td>\n",
       "      <td>https://t.co/vJwjklfl6I</td>\n",
       "      <td>http://pbs.twimg.com/media/EoHQDPxXMAEgYra.jpg</td>\n",
       "      <td>A screenshot of a message in a Gmail inbox. Subject line reads “Whoa....you DON’T want to...” and is cut off after that. Sender is B&amp;N UD Bookstore, time is 7:06 PM.</td>\n",
       "      <td>photo</td>\n",
       "    </tr>\n",
       "    <tr>\n",
       "      <th>1178254</th>\n",
       "      <td>1334655553805684742</td>\n",
       "      <td>2020-12-04 00:27:35</td>\n",
       "      <td>@Hood_Biologist Dr. Rodrigues asks a good question though: https://t.co/sztdSe5asJ</td>\n",
       "      <td>https://t.co/sztdSe5asJ</td>\n",
       "      <td>http://pbs.twimg.com/media/EoWlumoU0AAT2n4.png</td>\n",
       "      <td>Tweet from Dr. Rodrigues that says \"Primatologists spend so much of our effort on social media, in person, in so many forms of public engagement trying to get the message across that #PrimatesAreNotPets and these images cause harm. Why is [it] ha...</td>\n",
       "      <td>photo</td>\n",
       "    </tr>\n",
       "    <tr>\n",
       "      <th>1244061</th>\n",
       "      <td>1335036566197112837</td>\n",
       "      <td>2020-12-05 01:41:35</td>\n",
       "      <td>What are the scent notes for Yankee Candle Xmas Orgy do you think?\\n\\nSource: @radillustrates  https://t.co/OVogl7lMvl https://t.co/Ss292J7X1A</td>\n",
       "      <td>https://t.co/Ss292J7X1A</td>\n",
       "      <td>http://pbs.twimg.com/media/EocAaHNW8AAL71r.png</td>\n",
       "      <td>cartoon drawing of a yankee candle jar with \"Yankee Candle Xmas Orgy\" on the label with cartoon people having an orgy</td>\n",
       "      <td>photo</td>\n",
       "    </tr>\n",
       "    <tr>\n",
       "      <th>973890</th>\n",
       "      <td>1334364317563555841</td>\n",
       "      <td>2020-12-03 05:10:19</td>\n",
       "      <td>@dumplinghoee Meanwhile, Rahul Behind the stumps\\n#INDvsAUS \\n#justiceforKXIP https://t.co/zxotxPSv3F</td>\n",
       "      <td>https://t.co/zxotxPSv3F</td>\n",
       "      <td>http://pbs.twimg.com/media/EoSdRQ2U4AAwaVT.jpg</td>\n",
       "      <td>Dhokebaaz Maxi</td>\n",
       "      <td>photo</td>\n",
       "    </tr>\n",
       "    <tr>\n",
       "      <th>1892093</th>\n",
       "      <td>1334721026240950274</td>\n",
       "      <td>2020-12-04 04:47:45</td>\n",
       "      <td>The Dublin Journal of Medical Science (Published: 1903)\\nFull text: https://t.co/INWBYWTQHI https://t.co/E5w2W8zBHM</td>\n",
       "      <td>https://t.co/E5w2W8zBHM</td>\n",
       "      <td>http://pbs.twimg.com/media/EoXhsnrW4AEHxsA.jpg</td>\n",
       "      <td>Page image from The Dublin Journal of Medical Science</td>\n",
       "      <td>photo</td>\n",
       "    </tr>\n",
       "    <tr>\n",
       "      <th>583180</th>\n",
       "      <td>1334528726504239104</td>\n",
       "      <td>2020-12-03 16:03:37</td>\n",
       "      <td>Success by Frosty❄#1785 in @Join_Wolfpack https://t.co/hveqCJGDlZ</td>\n",
       "      <td>https://t.co/hveqCJGDlZ</td>\n",
       "      <td>http://pbs.twimg.com/media/EoUyzbvXUAAImdT.jpg</td>\n",
       "      <td>Success by Frosty❄#1785 in @Join_Wolfpack</td>\n",
       "      <td>photo</td>\n",
       "    </tr>\n",
       "    <tr>\n",
       "      <th>2311080</th>\n",
       "      <td>1334264052441370629</td>\n",
       "      <td>2020-12-02 22:31:54</td>\n",
       "      <td>@NeasNews From crabolition to ACRAB https://t.co/kM61yjgXvR</td>\n",
       "      <td>https://t.co/kM61yjgXvR</td>\n",
       "      <td>http://pbs.twimg.com/media/EoRCFaCXIAIOzez.jpg</td>\n",
       "      <td>A crab handing out weapons to people with the caption \"when tyranny becomes law, resistance becomes duty\"</td>\n",
       "      <td>photo</td>\n",
       "    </tr>\n",
       "    <tr>\n",
       "      <th>1506328</th>\n",
       "      <td>1335011310220828675</td>\n",
       "      <td>2020-12-05 00:01:14</td>\n",
       "      <td>me reading descriptions of the ammonite sex scene refusing to pay $20 to see it for myself https://t.co/Uj71Fdw93Y</td>\n",
       "      <td>https://t.co/Uj71Fdw93Y</td>\n",
       "      <td>http://pbs.twimg.com/media/EobptcUXIAImGX5.jpg</td>\n",
       "      <td>Aunt Hilda from Sabrina saying \"I just fell in love with a paragraph\"</td>\n",
       "      <td>photo</td>\n",
       "    </tr>\n",
       "    <tr>\n",
       "      <th>1486956</th>\n",
       "      <td>1335013096918695936</td>\n",
       "      <td>2020-12-05 00:08:20</td>\n",
       "      <td>Women as prey: Footballers evoking the ‘bad sex’ defence is telling https://t.co/FjqLHCNuZa #TW https://t.co/3Ftho7Ozav</td>\n",
       "      <td>https://t.co/3Ftho7Ozav</td>\n",
       "      <td>http://pbs.twimg.com/media/EobrVDWVgAAgXjG.png</td>\n",
       "      <td>Text Shot: Before you can treat another human being the way some men have treated these women – as prey – you have to believe they are less human than you are. You have to be unable to feel any empathy with them, to imagine what it might be like ...</td>\n",
       "      <td>photo</td>\n",
       "    </tr>\n",
       "    <tr>\n",
       "      <th>2351042</th>\n",
       "      <td>1334261024929669120</td>\n",
       "      <td>2020-12-02 22:19:52</td>\n",
       "      <td>CApitalism you have ONE JOB HOW DARE YOU https://t.co/Y0hiEgZt2d</td>\n",
       "      <td>https://t.co/Y0hiEgZt2d</td>\n",
       "      <td>http://pbs.twimg.com/media/EoQ_UmfXEAAYQEQ.jpg</td>\n",
       "      <td>A Today article about Hershey changing the classic Christmas ad</td>\n",
       "      <td>photo</td>\n",
       "    </tr>\n",
       "    <tr>\n",
       "      <th>2220122</th>\n",
       "      <td>1333804639188344834</td>\n",
       "      <td>2020-12-01 16:06:21</td>\n",
       "      <td>Success from https://t.co/LrCpjdG8mA - By Burrzerkus#7867 $FB https://t.co/2YQCldPomp</td>\n",
       "      <td>https://t.co/2YQCldPomp</td>\n",
       "      <td>http://pbs.twimg.com/media/EoKgP-2XEAARFLX.jpg</td>\n",
       "      <td>Success from https://www.twitter.com/equityblueinc - By Burrzerkus#7867 $FB</td>\n",
       "      <td>photo</td>\n",
       "    </tr>\n",
       "    <tr>\n",
       "      <th>1745483</th>\n",
       "      <td>1333880533378605057</td>\n",
       "      <td>2020-12-01 21:07:56</td>\n",
       "      <td>Tampa residents are clamoring for the merch, @NBA, bring us what we demand https://t.co/qghliekd4o</td>\n",
       "      <td>https://t.co/qghliekd4o</td>\n",
       "      <td>http://pbs.twimg.com/media/EoLlN-VW8AACpCq.png</td>\n",
       "      <td>I WANT A PINK DINOSAUR T-SHIRT</td>\n",
       "      <td>photo</td>\n",
       "    </tr>\n",
       "    <tr>\n",
       "      <th>2213315</th>\n",
       "      <td>1333805122728701954</td>\n",
       "      <td>2020-12-01 16:08:16</td>\n",
       "      <td>I'm very proud of my efforts to christmas-up my profile. https://t.co/wXSqUiqwnH</td>\n",
       "      <td>https://t.co/wXSqUiqwnH</td>\n",
       "      <td>http://pbs.twimg.com/media/EoKgWT6VkAUh5Gk.png</td>\n",
       "      <td>Screenshot of my twitter profile, with an LGB with the T banner image and a profile picture made to look like an old DOS game robot.</td>\n",
       "      <td>photo</td>\n",
       "    </tr>\n",
       "    <tr>\n",
       "      <th>1571248</th>\n",
       "      <td>1335005271089848320</td>\n",
       "      <td>2020-12-04 23:37:14</td>\n",
       "      <td>@BirdIzLife Here's a bird painting wip to even things out. https://t.co/nOJRtHGTWr</td>\n",
       "      <td>https://t.co/nOJRtHGTWr</td>\n",
       "      <td>http://pbs.twimg.com/media/EobkKSiVQAEjrRr.jpg</td>\n",
       "      <td>Male house finch - wip - 7 hours work</td>\n",
       "      <td>photo</td>\n",
       "    </tr>\n",
       "    <tr>\n",
       "      <th>416735</th>\n",
       "      <td>1334326919354085376</td>\n",
       "      <td>2020-12-03 02:41:42</td>\n",
       "      <td>1 𝐲𝐞𝐚𝐫 𝐬𝐚𝐲 \"𝐢 𝐥𝐨𝐯𝐞 𝐮\" 𝐭𝐨... https://t.co/A6yhw4gcfC</td>\n",
       "      <td>https://t.co/A6yhw4gcfC</td>\n",
       "      <td>http://pbs.twimg.com/media/EoR7BY5WEAAgZce.jpg</td>\n",
       "      <td>hi, I love you 💜🥺</td>\n",
       "      <td>photo</td>\n",
       "    </tr>\n",
       "    <tr>\n",
       "      <th>1467098</th>\n",
       "      <td>1335014943125622786</td>\n",
       "      <td>2020-12-05 00:15:40</td>\n",
       "      <td>I think I'm a fan of the dough hook https://t.co/U8QrlLEcdJ</td>\n",
       "      <td>https://t.co/U8QrlLEcdJ</td>\n",
       "      <td>http://pbs.twimg.com/media/EobtA42W8AMg2AH.jpg</td>\n",
       "      <td>Dough forming around a dough hook</td>\n",
       "      <td>photo</td>\n",
       "    </tr>\n",
       "    <tr>\n",
       "      <th>2076081</th>\n",
       "      <td>1334704040429621250</td>\n",
       "      <td>2020-12-04 03:40:15</td>\n",
       "      <td>Ojamajo Doremi ep.06 @ 10:38.90\\n\"I told you, Nobuko-chan's father is fine.\"\\n#OjamajoDoremi https://t.co/q2p6q0vuZp</td>\n",
       "      <td>https://t.co/q2p6q0vuZp</td>\n",
       "      <td>http://pbs.twimg.com/media/EoXSP7sW4Acj6BC.png</td>\n",
       "      <td>screenshot from Ojamajo Doremi ep.06 @ 10:38.90\\n\"I told you, Nobuko-chan's father is fine.\"</td>\n",
       "      <td>photo</td>\n",
       "    </tr>\n",
       "    <tr>\n",
       "      <th>114876</th>\n",
       "      <td>1334185053639892994</td>\n",
       "      <td>2020-12-02 17:17:59</td>\n",
       "      <td>I know I’ve mentioned the Eclipse bringing big change. But what are the other planets doing?\\n(A thread) https://t.co/Xqufk2bvVc</td>\n",
       "      <td>https://t.co/Xqufk2bvVc</td>\n",
       "      <td>http://pbs.twimg.com/media/EoP6O92W8AAfvcC.jpg</td>\n",
       "      <td>Strong Aspects: Moon Sextile Uranus, Moon Square Chiron, Jupiter Conjunction Saturn.\\nMedium Aspects: Sun Trine Chiron, Mercury Sextile Saturn, Mercury Trine Chiron, Jupiter Conjunction Pluto</td>\n",
       "      <td>photo</td>\n",
       "    </tr>\n",
       "    <tr>\n",
       "      <th>629684</th>\n",
       "      <td>1334526270504230912</td>\n",
       "      <td>2020-12-03 15:53:51</td>\n",
       "      <td>Bikin microfluidic pake paper clip. Keren ugha https://t.co/W2K3ZIFLUK</td>\n",
       "      <td>https://t.co/W2K3ZIFLUK</td>\n",
       "      <td>http://pbs.twimg.com/media/EoUwT80UwAAQLQ7.png</td>\n",
       "      <td>Bikin microfluidic device pake binder clip. Keren ugha</td>\n",
       "      <td>photo</td>\n",
       "    </tr>\n",
       "    <tr>\n",
       "      <th>685522</th>\n",
       "      <td>1334522902960615424</td>\n",
       "      <td>2020-12-03 15:40:28</td>\n",
       "      <td>Thank you shitty health insurance company that I pay too much for to cover so little, thank you for checking in https://t.co/mCOk6SxrsC</td>\n",
       "      <td>https://t.co/mCOk6SxrsC</td>\n",
       "      <td>http://pbs.twimg.com/media/EoUtWisW4AQbacj.png</td>\n",
       "      <td>Do you need time for your emotional well-being?\\n</td>\n",
       "      <td>photo</td>\n",
       "    </tr>\n",
       "    <tr>\n",
       "      <th>2339926</th>\n",
       "      <td>1334261853220823040</td>\n",
       "      <td>2020-12-02 22:23:09</td>\n",
       "      <td>eqmike sleepy...... https://t.co/xlPys9frGL</td>\n",
       "      <td>https://t.co/xlPys9frGL</td>\n",
       "      <td>http://pbs.twimg.com/media/EoRAFI4UYAACbF8.jpg</td>\n",
       "      <td>Mike Townsend, with gold tone cracks in his face and on his hand, and a gold wreath on his head, leans sitting up against a Roman pillar with his eyes closed, smiling serenely.</td>\n",
       "      <td>photo</td>\n",
       "    </tr>\n",
       "    <tr>\n",
       "      <th>2018946</th>\n",
       "      <td>1334709175709003779</td>\n",
       "      <td>2020-12-04 04:00:39</td>\n",
       "      <td>#selfmotivation is the best! Do what you genuinely love and believe in.\\n\\n#motivational https://t.co/fzFpih6mhL</td>\n",
       "      <td>https://t.co/fzFpih6mhL</td>\n",
       "      <td>http://pbs.twimg.com/media/EoXW7BBXcAY9Pp7.png</td>\n",
       "      <td>Self-motivation is the best</td>\n",
       "      <td>photo</td>\n",
       "    </tr>\n",
       "    <tr>\n",
       "      <th>2311978</th>\n",
       "      <td>1334263978709671937</td>\n",
       "      <td>2020-12-02 22:31:36</td>\n",
       "      <td>The problems of manu\\n#oleout https://t.co/fPi7qqWh1c</td>\n",
       "      <td>https://t.co/fPi7qqWh1c</td>\n",
       "      <td>http://pbs.twimg.com/media/EoRB5RkW4AIz-yf.jpg</td>\n",
       "      <td>Don't mind them</td>\n",
       "      <td>photo</td>\n",
       "    </tr>\n",
       "    <tr>\n",
       "      <th>723783</th>\n",
       "      <td>1334520561754644480</td>\n",
       "      <td>2020-12-03 15:31:10</td>\n",
       "      <td>Don't live by depending on others...\\n                    🍁     (👇)     🍁\\nNo one will travel in our life till last... https://t.co/6k6hE8csJz</td>\n",
       "      <td>https://t.co/6k6hE8csJz</td>\n",
       "      <td>http://pbs.twimg.com/media/EoUrYADWMAElR02.jpg</td>\n",
       "      <td>Brown mani.554210 contact</td>\n",
       "      <td>photo</td>\n",
       "    </tr>\n",
       "    <tr>\n",
       "      <th>1627298</th>\n",
       "      <td>1335000163874639873</td>\n",
       "      <td>2020-12-04 23:16:56</td>\n",
       "      <td>Landed in Santa Clara, California, US. Apx. flt. time 0 Hours : 18 Mins. https://t.co/7mpE0Vi3Ip</td>\n",
       "      <td>https://t.co/7mpE0Vi3Ip</td>\n",
       "      <td>http://pbs.twimg.com/media/EobfkqMWMAAlj-l.png</td>\n",
       "      <td>Call: N628TS On Ground: True Alt: 0 Last Contact: 0:00:05.498138 Trigger: now on ground</td>\n",
       "      <td>photo</td>\n",
       "    </tr>\n",
       "    <tr>\n",
       "      <th>1240987</th>\n",
       "      <td>1335036867461472257</td>\n",
       "      <td>2020-12-05 01:42:47</td>\n",
       "      <td>its Me..the  Bad Guy. https://t.co/QzySCX2lka</td>\n",
       "      <td>https://t.co/QzySCX2lka</td>\n",
       "      <td>http://pbs.twimg.com/media/EocA9HuXcAAiSJh.jpg</td>\n",
       "      <td>Bob, the cat, cutely glaring, chuffed up, sitting directly in front of a wall-mounted TV that shows a title screen reading “Bad Guy, Billie Eilish”. Bob, the bad guy they must be talking out, is partially blocking the TV screen with his handsome ...</td>\n",
       "      <td>photo</td>\n",
       "    </tr>\n",
       "  </tbody>\n",
       "</table>\n",
       "</div>"
      ],
      "text/plain": [
       "                          id          created_at  \\\n",
       "1704206  1333883862498369542 2020-12-01 21:21:09   \n",
       "1107876  1334661322215067649 2020-12-04 00:50:30   \n",
       "1721958  1333882419208998912 2020-12-01 21:15:25   \n",
       "2240745  1334269767243350017 2020-12-02 22:54:36   \n",
       "1772382  1333575721638391812 2020-12-01 00:56:43   \n",
       "1178254  1334655553805684742 2020-12-04 00:27:35   \n",
       "1244061  1335036566197112837 2020-12-05 01:41:35   \n",
       "973890   1334364317563555841 2020-12-03 05:10:19   \n",
       "1892093  1334721026240950274 2020-12-04 04:47:45   \n",
       "583180   1334528726504239104 2020-12-03 16:03:37   \n",
       "2311080  1334264052441370629 2020-12-02 22:31:54   \n",
       "1506328  1335011310220828675 2020-12-05 00:01:14   \n",
       "1486956  1335013096918695936 2020-12-05 00:08:20   \n",
       "2351042  1334261024929669120 2020-12-02 22:19:52   \n",
       "2220122  1333804639188344834 2020-12-01 16:06:21   \n",
       "1745483  1333880533378605057 2020-12-01 21:07:56   \n",
       "2213315  1333805122728701954 2020-12-01 16:08:16   \n",
       "1571248  1335005271089848320 2020-12-04 23:37:14   \n",
       "416735   1334326919354085376 2020-12-03 02:41:42   \n",
       "1467098  1335014943125622786 2020-12-05 00:15:40   \n",
       "2076081  1334704040429621250 2020-12-04 03:40:15   \n",
       "114876   1334185053639892994 2020-12-02 17:17:59   \n",
       "629684   1334526270504230912 2020-12-03 15:53:51   \n",
       "685522   1334522902960615424 2020-12-03 15:40:28   \n",
       "2339926  1334261853220823040 2020-12-02 22:23:09   \n",
       "2018946  1334709175709003779 2020-12-04 04:00:39   \n",
       "2311978  1334263978709671937 2020-12-02 22:31:36   \n",
       "723783   1334520561754644480 2020-12-03 15:31:10   \n",
       "1627298  1335000163874639873 2020-12-04 23:16:56   \n",
       "1240987  1335036867461472257 2020-12-05 01:42:47   \n",
       "\n",
       "                                                                                                                                             tweet_text  \\\n",
       "1704206                                             @CallMeAgent00 @SiimplyGrinding @ImDukeDennis @imdavisss Never boxing again https://t.co/a1a5RxiSj5   \n",
       "1107876    Test shoots of Lia T from Upfront Models. Sitting down portraits.\\n\\n#testshoot #studiophotography #beautyphotoshoot https://t.co/rwiUUGKlFK   \n",
       "1721958                                                                                      Made a start on Christmas today... https://t.co/8iR1HEF1Qq   \n",
       "2240745    I have a new favourite term. Although I feel I might be calling it Homeric Expanded Universe rather than just Homer. https://t.co/j2yD50Os1g   \n",
       "1772382                                                                     me: I should perform a task\\nexecutive dysfunction: https://t.co/vJwjklfl6I   \n",
       "1178254                                                              @Hood_Biologist Dr. Rodrigues asks a good question though: https://t.co/sztdSe5asJ   \n",
       "1244061  What are the scent notes for Yankee Candle Xmas Orgy do you think?\\n\\nSource: @radillustrates  https://t.co/OVogl7lMvl https://t.co/Ss292J7X1A   \n",
       "973890                                            @dumplinghoee Meanwhile, Rahul Behind the stumps\\n#INDvsAUS \\n#justiceforKXIP https://t.co/zxotxPSv3F   \n",
       "1892093                             The Dublin Journal of Medical Science (Published: 1903)\\nFull text: https://t.co/INWBYWTQHI https://t.co/E5w2W8zBHM   \n",
       "583180                                                                                Success by Frosty❄#1785 in @Join_Wolfpack https://t.co/hveqCJGDlZ   \n",
       "2311080                                                                                     @NeasNews From crabolition to ACRAB https://t.co/kM61yjgXvR   \n",
       "1506328                              me reading descriptions of the ammonite sex scene refusing to pay $20 to see it for myself https://t.co/Uj71Fdw93Y   \n",
       "1486956                         Women as prey: Footballers evoking the ‘bad sex’ defence is telling https://t.co/FjqLHCNuZa #TW https://t.co/3Ftho7Ozav   \n",
       "2351042                                                                                CApitalism you have ONE JOB HOW DARE YOU https://t.co/Y0hiEgZt2d   \n",
       "2220122                                                           Success from https://t.co/LrCpjdG8mA - By Burrzerkus#7867 $FB https://t.co/2YQCldPomp   \n",
       "1745483                                              Tampa residents are clamoring for the merch, @NBA, bring us what we demand https://t.co/qghliekd4o   \n",
       "2213315                                                                I'm very proud of my efforts to christmas-up my profile. https://t.co/wXSqUiqwnH   \n",
       "1571248                                                              @BirdIzLife Here's a bird painting wip to even things out. https://t.co/nOJRtHGTWr   \n",
       "416735                                                                                              1 𝐲𝐞𝐚𝐫 𝐬𝐚𝐲 \"𝐢 𝐥𝐨𝐯𝐞 𝐮\" 𝐭𝐨... https://t.co/A6yhw4gcfC   \n",
       "1467098                                                                                     I think I'm a fan of the dough hook https://t.co/U8QrlLEcdJ   \n",
       "2076081                            Ojamajo Doremi ep.06 @ 10:38.90\\n\"I told you, Nobuko-chan's father is fine.\"\\n#OjamajoDoremi https://t.co/q2p6q0vuZp   \n",
       "114876                 I know I’ve mentioned the Eclipse bringing big change. But what are the other planets doing?\\n(A thread) https://t.co/Xqufk2bvVc   \n",
       "629684                                                                           Bikin microfluidic pake paper clip. Keren ugha https://t.co/W2K3ZIFLUK   \n",
       "685522          Thank you shitty health insurance company that I pay too much for to cover so little, thank you for checking in https://t.co/mCOk6SxrsC   \n",
       "2339926                                                                                                     eqmike sleepy...... https://t.co/xlPys9frGL   \n",
       "2018946                                #selfmotivation is the best! Do what you genuinely love and believe in.\\n\\n#motivational https://t.co/fzFpih6mhL   \n",
       "2311978                                                                                           The problems of manu\\n#oleout https://t.co/fPi7qqWh1c   \n",
       "723783   Don't live by depending on others...\\n                    🍁     (👇)     🍁\\nNo one will travel in our life till last... https://t.co/6k6hE8csJz   \n",
       "1627298                                                Landed in Santa Clara, California, US. Apx. flt. time 0 Hours : 18 Mins. https://t.co/7mpE0Vi3Ip   \n",
       "1240987                                                                                                   its Me..the  Bad Guy. https://t.co/QzySCX2lka   \n",
       "\n",
       "                       tweet_url  \\\n",
       "1704206  https://t.co/a1a5RxiSj5   \n",
       "1107876  https://t.co/rwiUUGKlFK   \n",
       "1721958  https://t.co/8iR1HEF1Qq   \n",
       "2240745  https://t.co/j2yD50Os1g   \n",
       "1772382  https://t.co/vJwjklfl6I   \n",
       "1178254  https://t.co/sztdSe5asJ   \n",
       "1244061  https://t.co/Ss292J7X1A   \n",
       "973890   https://t.co/zxotxPSv3F   \n",
       "1892093  https://t.co/E5w2W8zBHM   \n",
       "583180   https://t.co/hveqCJGDlZ   \n",
       "2311080  https://t.co/kM61yjgXvR   \n",
       "1506328  https://t.co/Uj71Fdw93Y   \n",
       "1486956  https://t.co/3Ftho7Ozav   \n",
       "2351042  https://t.co/Y0hiEgZt2d   \n",
       "2220122  https://t.co/2YQCldPomp   \n",
       "1745483  https://t.co/qghliekd4o   \n",
       "2213315  https://t.co/wXSqUiqwnH   \n",
       "1571248  https://t.co/nOJRtHGTWr   \n",
       "416735   https://t.co/A6yhw4gcfC   \n",
       "1467098  https://t.co/U8QrlLEcdJ   \n",
       "2076081  https://t.co/q2p6q0vuZp   \n",
       "114876   https://t.co/Xqufk2bvVc   \n",
       "629684   https://t.co/W2K3ZIFLUK   \n",
       "685522   https://t.co/mCOk6SxrsC   \n",
       "2339926  https://t.co/xlPys9frGL   \n",
       "2018946  https://t.co/fzFpih6mhL   \n",
       "2311978  https://t.co/fPi7qqWh1c   \n",
       "723783   https://t.co/6k6hE8csJz   \n",
       "1627298  https://t.co/7mpE0Vi3Ip   \n",
       "1240987  https://t.co/QzySCX2lka   \n",
       "\n",
       "                                                img_url  \\\n",
       "1704206  http://pbs.twimg.com/media/EoLoTcqXIAIp2Vx.jpg   \n",
       "1107876  http://pbs.twimg.com/media/EoWrY0pU0AU6dAE.jpg   \n",
       "1721958  http://pbs.twimg.com/media/EoLm_JRWMAEtNG8.jpg   \n",
       "2240745  http://pbs.twimg.com/media/EoRHEYpUUAA80nM.png   \n",
       "1772382  http://pbs.twimg.com/media/EoHQDPxXMAEgYra.jpg   \n",
       "1178254  http://pbs.twimg.com/media/EoWlumoU0AAT2n4.png   \n",
       "1244061  http://pbs.twimg.com/media/EocAaHNW8AAL71r.png   \n",
       "973890   http://pbs.twimg.com/media/EoSdRQ2U4AAwaVT.jpg   \n",
       "1892093  http://pbs.twimg.com/media/EoXhsnrW4AEHxsA.jpg   \n",
       "583180   http://pbs.twimg.com/media/EoUyzbvXUAAImdT.jpg   \n",
       "2311080  http://pbs.twimg.com/media/EoRCFaCXIAIOzez.jpg   \n",
       "1506328  http://pbs.twimg.com/media/EobptcUXIAImGX5.jpg   \n",
       "1486956  http://pbs.twimg.com/media/EobrVDWVgAAgXjG.png   \n",
       "2351042  http://pbs.twimg.com/media/EoQ_UmfXEAAYQEQ.jpg   \n",
       "2220122  http://pbs.twimg.com/media/EoKgP-2XEAARFLX.jpg   \n",
       "1745483  http://pbs.twimg.com/media/EoLlN-VW8AACpCq.png   \n",
       "2213315  http://pbs.twimg.com/media/EoKgWT6VkAUh5Gk.png   \n",
       "1571248  http://pbs.twimg.com/media/EobkKSiVQAEjrRr.jpg   \n",
       "416735   http://pbs.twimg.com/media/EoR7BY5WEAAgZce.jpg   \n",
       "1467098  http://pbs.twimg.com/media/EobtA42W8AMg2AH.jpg   \n",
       "2076081  http://pbs.twimg.com/media/EoXSP7sW4Acj6BC.png   \n",
       "114876   http://pbs.twimg.com/media/EoP6O92W8AAfvcC.jpg   \n",
       "629684   http://pbs.twimg.com/media/EoUwT80UwAAQLQ7.png   \n",
       "685522   http://pbs.twimg.com/media/EoUtWisW4AQbacj.png   \n",
       "2339926  http://pbs.twimg.com/media/EoRAFI4UYAACbF8.jpg   \n",
       "2018946  http://pbs.twimg.com/media/EoXW7BBXcAY9Pp7.png   \n",
       "2311978  http://pbs.twimg.com/media/EoRB5RkW4AIz-yf.jpg   \n",
       "723783   http://pbs.twimg.com/media/EoUrYADWMAElR02.jpg   \n",
       "1627298  http://pbs.twimg.com/media/EobfkqMWMAAlj-l.png   \n",
       "1240987  http://pbs.twimg.com/media/EocA9HuXcAAiSJh.jpg   \n",
       "\n",
       "                                                                                                                                                                                                                                                          alt_text  \\\n",
       "1704206                                                                                                                                                                                                                                         Never boxing again   \n",
       "1107876                                                                                                                                                                                                      Asian beauty lia tan sleevesless top smiling portrait   \n",
       "1721958                                                                                                                                                                                                                               Our Christmas tree for 2020.   \n",
       "2240745                                                                   Tumblr post by britneyshakespearean: getting shot in the ankle is probably what achilles is best known for but thats not even in the iliad its part of the heu (homer expanded universe)   \n",
       "1772382                                                                                      A screenshot of a message in a Gmail inbox. Subject line reads “Whoa....you DON’T want to...” and is cut off after that. Sender is B&N UD Bookstore, time is 7:06 PM.   \n",
       "1178254  Tweet from Dr. Rodrigues that says \"Primatologists spend so much of our effort on social media, in person, in so many forms of public engagement trying to get the message across that #PrimatesAreNotPets and these images cause harm. Why is [it] ha...   \n",
       "1244061                                                                                                                                      cartoon drawing of a yankee candle jar with \"Yankee Candle Xmas Orgy\" on the label with cartoon people having an orgy   \n",
       "973890                                                                                                                                                                                                                                              Dhokebaaz Maxi   \n",
       "1892093                                                                                                                                                                                                      Page image from The Dublin Journal of Medical Science   \n",
       "583180                                                                                                                                                                                                                   Success by Frosty❄#1785 in @Join_Wolfpack   \n",
       "2311080                                                                                                                                                  A crab handing out weapons to people with the caption \"when tyranny becomes law, resistance becomes duty\"   \n",
       "1506328                                                                                                                                                                                      Aunt Hilda from Sabrina saying \"I just fell in love with a paragraph\"   \n",
       "1486956  Text Shot: Before you can treat another human being the way some men have treated these women – as prey – you have to believe they are less human than you are. You have to be unable to feel any empathy with them, to imagine what it might be like ...   \n",
       "2351042                                                                                                                                                                                            A Today article about Hershey changing the classic Christmas ad   \n",
       "2220122                                                                                                                                                                                Success from https://www.twitter.com/equityblueinc - By Burrzerkus#7867 $FB   \n",
       "1745483                                                                                                                                                                                                                             I WANT A PINK DINOSAUR T-SHIRT   \n",
       "2213315                                                                                                                       Screenshot of my twitter profile, with an LGB with the T banner image and a profile picture made to look like an old DOS game robot.   \n",
       "1571248                                                                                                                                                                                                                      Male house finch - wip - 7 hours work   \n",
       "416735                                                                                                                                                                                                                                           hi, I love you 💜🥺   \n",
       "1467098                                                                                                                                                                                                                          Dough forming around a dough hook   \n",
       "2076081                                                                                                                                                               screenshot from Ojamajo Doremi ep.06 @ 10:38.90\\n\"I told you, Nobuko-chan's father is fine.\"   \n",
       "114876                                                             Strong Aspects: Moon Sextile Uranus, Moon Square Chiron, Jupiter Conjunction Saturn.\\nMedium Aspects: Sun Trine Chiron, Mercury Sextile Saturn, Mercury Trine Chiron, Jupiter Conjunction Pluto   \n",
       "629684                                                                                                                                                                                                      Bikin microfluidic device pake binder clip. Keren ugha   \n",
       "685522                                                                                                                                                                                                           Do you need time for your emotional well-being?\\n   \n",
       "2339926                                                                           Mike Townsend, with gold tone cracks in his face and on his hand, and a gold wreath on his head, leans sitting up against a Roman pillar with his eyes closed, smiling serenely.   \n",
       "2018946                                                                                                                                                                                                                                Self-motivation is the best   \n",
       "2311978                                                                                                                                                                                                                                            Don't mind them   \n",
       "723783                                                                                                                                                                                                                                   Brown mani.554210 contact   \n",
       "1627298                                                                                                                                                                    Call: N628TS On Ground: True Alt: 0 Last Contact: 0:00:05.498138 Trigger: now on ground   \n",
       "1240987  Bob, the cat, cutely glaring, chuffed up, sitting directly in front of a wall-mounted TV that shows a title screen reading “Bad Guy, Billie Eilish”. Bob, the bad guy they must be talking out, is partially blocking the TV screen with his handsome ...   \n",
       "\n",
       "        media_type  \n",
       "1704206      photo  \n",
       "1107876      photo  \n",
       "1721958      photo  \n",
       "2240745      photo  \n",
       "1772382      photo  \n",
       "1178254      photo  \n",
       "1244061      photo  \n",
       "973890       photo  \n",
       "1892093      photo  \n",
       "583180       photo  \n",
       "2311080      photo  \n",
       "1506328      photo  \n",
       "1486956      photo  \n",
       "2351042      photo  \n",
       "2220122      photo  \n",
       "1745483      photo  \n",
       "2213315      photo  \n",
       "1571248      photo  \n",
       "416735       photo  \n",
       "1467098      photo  \n",
       "2076081      photo  \n",
       "114876       photo  \n",
       "629684       photo  \n",
       "685522       photo  \n",
       "2339926      photo  \n",
       "2018946      photo  \n",
       "2311978      photo  \n",
       "723783       photo  \n",
       "1627298      photo  \n",
       "1240987      photo  "
      ]
     },
     "execution_count": 63,
     "metadata": {},
     "output_type": "execute_result"
    }
   ],
   "source": [
    "df_tm.sample(30)"
   ]
  },
  {
   "cell_type": "markdown",
   "metadata": {},
   "source": [
    "### lemmatize and remove numbers, symbols, POS with SpaCy"
   ]
  },
  {
   "cell_type": "code",
   "execution_count": 64,
   "metadata": {
    "ExecuteTime": {
     "end_time": "2020-12-08T08:28:46.568552Z",
     "start_time": "2020-12-08T08:28:45.452871Z"
    }
   },
   "outputs": [],
   "source": [
    "spacy_model = SpacyPreprocessor.load_model()"
   ]
  },
  {
   "cell_type": "code",
   "execution_count": 65,
   "metadata": {
    "ExecuteTime": {
     "end_time": "2020-12-08T08:28:51.466281Z",
     "start_time": "2020-12-08T08:28:46.570425Z"
    }
   },
   "outputs": [
    {
     "name": "stderr",
     "output_type": "stream",
     "text": [
      "4881it [00:04, 1006.27it/s]\n"
     ]
    }
   ],
   "source": [
    "preprocessor = SpacyPreprocessor(spacy_model=spacy_model, lemmatize=True, remove_numbers=True, \n",
    "                                 remove_stopwords=False, remove_special=True, \n",
    "                                 pos_to_remove=['ADP','SYM','NUM','AUX'])\n",
    "df_tm['spacy_pipe'] = preprocessor.preprocess_text_list(list(df_tm['alt_text']))"
   ]
  },
  {
   "cell_type": "code",
   "execution_count": 66,
   "metadata": {
    "ExecuteTime": {
     "end_time": "2020-12-08T08:28:51.520645Z",
     "start_time": "2020-12-08T08:28:51.469076Z"
    },
    "scrolled": true
   },
   "outputs": [
    {
     "data": {
      "text/html": [
       "<div>\n",
       "<style scoped>\n",
       "    .dataframe tbody tr th:only-of-type {\n",
       "        vertical-align: middle;\n",
       "    }\n",
       "\n",
       "    .dataframe tbody tr th {\n",
       "        vertical-align: top;\n",
       "    }\n",
       "\n",
       "    .dataframe thead th {\n",
       "        text-align: right;\n",
       "    }\n",
       "</style>\n",
       "<table border=\"1\" class=\"dataframe\">\n",
       "  <thead>\n",
       "    <tr style=\"text-align: right;\">\n",
       "      <th></th>\n",
       "      <th>id</th>\n",
       "      <th>created_at</th>\n",
       "      <th>tweet_text</th>\n",
       "      <th>tweet_url</th>\n",
       "      <th>img_url</th>\n",
       "      <th>alt_text</th>\n",
       "      <th>media_type</th>\n",
       "      <th>spacy_pipe</th>\n",
       "    </tr>\n",
       "  </thead>\n",
       "  <tbody>\n",
       "    <tr>\n",
       "      <th>529929</th>\n",
       "      <td>1334531548872314880</td>\n",
       "      <td>2020-12-03 16:14:50</td>\n",
       "      <td>Really enjoying the Sweetwater sound mag, SweetNotes 👀👀 @SweetwaterSound thanks for sending it! https://t.co/EP5Vy3QSwC</td>\n",
       "      <td>https://t.co/EP5Vy3QSwC</td>\n",
       "      <td>http://pbs.twimg.com/media/EoU1XnHW8AEnzw-.jpg</td>\n",
       "      <td>Sweetwater gear mag On table with Christmas flower</td>\n",
       "      <td>photo</td>\n",
       "      <td>sweetwater gear mag table christmas flower</td>\n",
       "    </tr>\n",
       "    <tr>\n",
       "      <th>2269308</th>\n",
       "      <td>1334267424460349443</td>\n",
       "      <td>2020-12-02 22:45:18</td>\n",
       "      <td>@200okpublic ^_^ - Perfect logo? Happened have one of these lying around... https://t.co/I7GkQZjVqQ</td>\n",
       "      <td>https://t.co/I7GkQZjVqQ</td>\n",
       "      <td>http://pbs.twimg.com/media/EoRFJmlUYAAl31S.jpg</td>\n",
       "      <td>Alt for the previous image's tweet: A Lego mini fig with a blue beanie I happened to to coincidently have which describe @200okpublic's previous tweet on UI community logo.</td>\n",
       "      <td>photo</td>\n",
       "      <td>alt the previous image 's tweet a lego mini fig a blue beanie  pron  happen to coincidently which describe     okpublic 's previous tweet ui community logo</td>\n",
       "    </tr>\n",
       "    <tr>\n",
       "      <th>282259</th>\n",
       "      <td>1332483102665547789</td>\n",
       "      <td>2020-11-28 00:35:02</td>\n",
       "      <td>Sale extended through Monday 🖤\\nhttps://t.co/EeD9XMQUYs\\n #cdcoshops https://t.co/1XsA5gm7iw</td>\n",
       "      <td>https://t.co/1XsA5gm7iw</td>\n",
       "      <td>http://pbs.twimg.com/media/En3uUZdXMA08y7u.jpg</td>\n",
       "      <td>Black Business Friday Virtual Experience  logo</td>\n",
       "      <td>photo</td>\n",
       "      <td>black business friday virtual experience logo</td>\n",
       "    </tr>\n",
       "    <tr>\n",
       "      <th>835077</th>\n",
       "      <td>1334378440754143232</td>\n",
       "      <td>2020-12-03 06:06:26</td>\n",
       "      <td>Can we all take a moment to appreciate the true horror of what motherhood has done for my Spotify Wrapped.... https://t.co/1a8hUntnLs</td>\n",
       "      <td>https://t.co/1a8hUntnLs</td>\n",
       "      <td>http://pbs.twimg.com/media/EoSqHbSWMAEoik7.jpg</td>\n",
       "      <td>Your top song of the year is once soon a dream from the Disney Princesses album</td>\n",
       "      <td>photo</td>\n",
       "      <td>pron  top song the year once soon a dream the disney princesses album</td>\n",
       "    </tr>\n",
       "    <tr>\n",
       "      <th>1688824</th>\n",
       "      <td>1333884943638945794</td>\n",
       "      <td>2020-12-01 21:25:27</td>\n",
       "      <td>Happy new month https://t.co/f31KnXpl7H</td>\n",
       "      <td>https://t.co/f31KnXpl7H</td>\n",
       "      <td>http://pbs.twimg.com/media/EoLpQomXUAA99fy.jpg</td>\n",
       "      <td>Happy new month</td>\n",
       "      <td>photo</td>\n",
       "      <td>happy new month</td>\n",
       "    </tr>\n",
       "    <tr>\n",
       "      <th>2322619</th>\n",
       "      <td>1334263169691226113</td>\n",
       "      <td>2020-12-02 22:28:23</td>\n",
       "      <td>I DIDN'T EVEN FINISH MY ROLLS https://t.co/FS6M5XyWfH</td>\n",
       "      <td>https://t.co/FS6M5XyWfH</td>\n",
       "      <td>http://pbs.twimg.com/media/EoRBMKNU0AIcTk0.jpg</td>\n",
       "      <td>CHONGYUN</td>\n",
       "      <td>photo</td>\n",
       "      <td>chongyun</td>\n",
       "    </tr>\n",
       "    <tr>\n",
       "      <th>645959</th>\n",
       "      <td>1334525313418661889</td>\n",
       "      <td>2020-12-03 15:50:03</td>\n",
       "      <td>9 Best #Online #Marketing Channels for You to Try in 2021. https://t.co/ALzmO3gPMk https://t.co/jAALSX0mmI</td>\n",
       "      <td>https://t.co/jAALSX0mmI</td>\n",
       "      <td>http://pbs.twimg.com/media/EoUvs0WWMAU6zgi.jpg</td>\n",
       "      <td>entrepreneur, idea, competence</td>\n",
       "      <td>photo</td>\n",
       "      <td>entrepreneur idea competence</td>\n",
       "    </tr>\n",
       "  </tbody>\n",
       "</table>\n",
       "</div>"
      ],
      "text/plain": [
       "                          id          created_at  \\\n",
       "529929   1334531548872314880 2020-12-03 16:14:50   \n",
       "2269308  1334267424460349443 2020-12-02 22:45:18   \n",
       "282259   1332483102665547789 2020-11-28 00:35:02   \n",
       "835077   1334378440754143232 2020-12-03 06:06:26   \n",
       "1688824  1333884943638945794 2020-12-01 21:25:27   \n",
       "2322619  1334263169691226113 2020-12-02 22:28:23   \n",
       "645959   1334525313418661889 2020-12-03 15:50:03   \n",
       "\n",
       "                                                                                                                                    tweet_text  \\\n",
       "529929                 Really enjoying the Sweetwater sound mag, SweetNotes 👀👀 @SweetwaterSound thanks for sending it! https://t.co/EP5Vy3QSwC   \n",
       "2269308                                    @200okpublic ^_^ - Perfect logo? Happened have one of these lying around... https://t.co/I7GkQZjVqQ   \n",
       "282259                                            Sale extended through Monday 🖤\\nhttps://t.co/EeD9XMQUYs\\n #cdcoshops https://t.co/1XsA5gm7iw   \n",
       "835077   Can we all take a moment to appreciate the true horror of what motherhood has done for my Spotify Wrapped.... https://t.co/1a8hUntnLs   \n",
       "1688824                                                                                                Happy new month https://t.co/f31KnXpl7H   \n",
       "2322619                                                                                  I DIDN'T EVEN FINISH MY ROLLS https://t.co/FS6M5XyWfH   \n",
       "645959                              9 Best #Online #Marketing Channels for You to Try in 2021. https://t.co/ALzmO3gPMk https://t.co/jAALSX0mmI   \n",
       "\n",
       "                       tweet_url  \\\n",
       "529929   https://t.co/EP5Vy3QSwC   \n",
       "2269308  https://t.co/I7GkQZjVqQ   \n",
       "282259   https://t.co/1XsA5gm7iw   \n",
       "835077   https://t.co/1a8hUntnLs   \n",
       "1688824  https://t.co/f31KnXpl7H   \n",
       "2322619  https://t.co/FS6M5XyWfH   \n",
       "645959   https://t.co/jAALSX0mmI   \n",
       "\n",
       "                                                img_url  \\\n",
       "529929   http://pbs.twimg.com/media/EoU1XnHW8AEnzw-.jpg   \n",
       "2269308  http://pbs.twimg.com/media/EoRFJmlUYAAl31S.jpg   \n",
       "282259   http://pbs.twimg.com/media/En3uUZdXMA08y7u.jpg   \n",
       "835077   http://pbs.twimg.com/media/EoSqHbSWMAEoik7.jpg   \n",
       "1688824  http://pbs.twimg.com/media/EoLpQomXUAA99fy.jpg   \n",
       "2322619  http://pbs.twimg.com/media/EoRBMKNU0AIcTk0.jpg   \n",
       "645959   http://pbs.twimg.com/media/EoUvs0WWMAU6zgi.jpg   \n",
       "\n",
       "                                                                                                                                                                             alt_text  \\\n",
       "529929                                                                                                                             Sweetwater gear mag On table with Christmas flower   \n",
       "2269308  Alt for the previous image's tweet: A Lego mini fig with a blue beanie I happened to to coincidently have which describe @200okpublic's previous tweet on UI community logo.   \n",
       "282259                                                                                                                                 Black Business Friday Virtual Experience  logo   \n",
       "835077                                                                                                Your top song of the year is once soon a dream from the Disney Princesses album   \n",
       "1688824                                                                                                                                                               Happy new month   \n",
       "2322619                                                                                                                                                                      CHONGYUN   \n",
       "645959                                                                                                                                                 entrepreneur, idea, competence   \n",
       "\n",
       "        media_type  \\\n",
       "529929       photo   \n",
       "2269308      photo   \n",
       "282259       photo   \n",
       "835077       photo   \n",
       "1688824      photo   \n",
       "2322619      photo   \n",
       "645959       photo   \n",
       "\n",
       "                                                                                                                                                          spacy_pipe  \n",
       "529929                                                                                                                    sweetwater gear mag table christmas flower  \n",
       "2269308  alt the previous image 's tweet a lego mini fig a blue beanie  pron  happen to coincidently which describe     okpublic 's previous tweet ui community logo  \n",
       "282259                                                                                                                 black business friday virtual experience logo  \n",
       "835077                                                                                         pron  top song the year once soon a dream the disney princesses album  \n",
       "1688824                                                                                                                                              happy new month  \n",
       "2322619                                                                                                                                                     chongyun  \n",
       "645959                                                                                                                                  entrepreneur idea competence  "
      ]
     },
     "execution_count": 66,
     "metadata": {},
     "output_type": "execute_result"
    }
   ],
   "source": [
    "df_tm.sample(7)\n",
    "# could try joining tweet text PLUS alt text as documents"
   ]
  },
  {
   "cell_type": "markdown",
   "metadata": {},
   "source": [
    "### Check for and remove super short documents"
   ]
  },
  {
   "cell_type": "code",
   "execution_count": 67,
   "metadata": {
    "ExecuteTime": {
     "end_time": "2020-12-08T08:28:51.544174Z",
     "start_time": "2020-12-08T08:28:51.522608Z"
    }
   },
   "outputs": [
    {
     "data": {
      "text/plain": [
       "count    4881.000000\n",
       "mean       17.015775\n",
       "std        22.858222\n",
       "min         1.000000\n",
       "25%         5.000000\n",
       "50%        10.000000\n",
       "75%        20.000000\n",
       "max       291.000000\n",
       "Name: spacy_pipe_len, dtype: float64"
      ]
     },
     "execution_count": 67,
     "metadata": {},
     "output_type": "execute_result"
    }
   ],
   "source": [
    "df_tm['spacy_pipe_len'] = df_tm['spacy_pipe'].str.split(\" \").str.len()\n",
    "df_tm['spacy_pipe_len'].describe()"
   ]
  },
  {
   "cell_type": "code",
   "execution_count": 68,
   "metadata": {
    "ExecuteTime": {
     "end_time": "2020-12-08T08:28:51.549823Z",
     "start_time": "2020-12-08T08:28:51.545684Z"
    }
   },
   "outputs": [],
   "source": [
    "df_tm = df_tm[df_tm['spacy_pipe_len'] >= 5]"
   ]
  },
  {
   "cell_type": "markdown",
   "metadata": {},
   "source": [
    "## Try different models"
   ]
  },
  {
   "cell_type": "code",
   "execution_count": 69,
   "metadata": {
    "ExecuteTime": {
     "end_time": "2020-12-08T08:28:51.649295Z",
     "start_time": "2020-12-08T08:28:51.551224Z"
    }
   },
   "outputs": [],
   "source": [
    "%load_ext autoreload\n",
    "%autoreload 2"
   ]
  },
  {
   "cell_type": "code",
   "execution_count": 70,
   "metadata": {
    "ExecuteTime": {
     "end_time": "2020-12-08T08:28:51.685827Z",
     "start_time": "2020-12-08T08:28:51.651080Z"
    }
   },
   "outputs": [],
   "source": [
    "from TopicModeling import topic_model\n",
    "import itertools\n",
    "from sklearn.base import TransformerMixin, BaseEstimator\n",
    "from sklearn.decomposition import NMF, TruncatedSVD, LatentDirichletAllocation\n",
    "from sklearn.discriminant_analysis import LinearDiscriminantAnalysis\n",
    "from sklearn.metrics.pairwise import cosine_similarity\n",
    "from sklearn.feature_extraction.text import CountVectorizer, TfidfVectorizer"
   ]
  },
  {
   "cell_type": "code",
   "execution_count": 71,
   "metadata": {
    "ExecuteTime": {
     "end_time": "2020-12-08T08:28:51.722435Z",
     "start_time": "2020-12-08T08:28:51.689223Z"
    }
   },
   "outputs": [],
   "source": [
    "# define corpus as the spacy-processed version of the data\n",
    "corpus = df_tm['spacy_pipe']"
   ]
  },
  {
   "cell_type": "code",
   "execution_count": 72,
   "metadata": {
    "ExecuteTime": {
     "end_time": "2020-12-08T08:28:53.528360Z",
     "start_time": "2020-12-08T08:28:53.488983Z"
    }
   },
   "outputs": [],
   "source": [
    "# define stopwords\n",
    "stop_words = spacy_model.Defaults.stop_words\n",
    "\n",
    "# add custom stopwords to stopwords list\n",
    "custom_stopwords = [\"pron\"]\n",
    "\n",
    "for s in custom_stopwords:\n",
    "    stop_words.add(s)"
   ]
  },
  {
   "cell_type": "code",
   "execution_count": 73,
   "metadata": {
    "ExecuteTime": {
     "end_time": "2020-12-08T08:28:54.835544Z",
     "start_time": "2020-12-08T08:28:54.796696Z"
    }
   },
   "outputs": [],
   "source": [
    "params = {\n",
    "    'stop_words':stop_words,\n",
    "    'min_df':10,\n",
    "    'ngram_range':(1, 2)\n",
    "}\n",
    "vectorizers = [CountVectorizer(**params),TfidfVectorizer(**params)]\n",
    "models = ['lsa', 'nmf', 'lda']\n",
    "\n",
    "combinations = list(itertools.product(vectorizers, models))"
   ]
  },
  {
   "cell_type": "code",
   "execution_count": 74,
   "metadata": {
    "ExecuteTime": {
     "end_time": "2020-12-08T08:28:56.382093Z",
     "start_time": "2020-12-08T08:28:56.343368Z"
    }
   },
   "outputs": [],
   "source": [
    "# for c in combinations:\n",
    "#     #print(c)\n",
    "#     topic_model_c = topic_model(data=corpus,\n",
    "#                               vectorizer=c[0],\n",
    "#                               model=c[1],\n",
    "#                               num_topics=10)\n",
    "#     topics = topic_model_c.get_topics()\n",
    "        "
   ]
  },
  {
   "cell_type": "code",
   "execution_count": 75,
   "metadata": {
    "ExecuteTime": {
     "end_time": "2020-12-08T08:28:56.901640Z",
     "start_time": "2020-12-08T08:28:56.862954Z"
    }
   },
   "outputs": [],
   "source": [
    "# at_topics = topic_model(data=corpus,\n",
    "#                              vectorizer=CountVectorizer(**params),\n",
    "#                             model='lsa',num_topics=10)\n",
    "# at_topics_cv_lsa = at_topics.get_topics()"
   ]
  },
  {
   "cell_type": "code",
   "execution_count": 103,
   "metadata": {
    "ExecuteTime": {
     "end_time": "2020-12-08T09:07:34.349839Z",
     "start_time": "2020-12-08T09:07:34.176599Z"
    }
   },
   "outputs": [
    {
     "name": "stderr",
     "output_type": "stream",
     "text": [
      "/Users/labbot/opt/anaconda3/lib/python3.8/site-packages/sklearn/feature_extraction/text.py:383: UserWarning: Your stop_words may be inconsistent with your preprocessing. Tokenizing the stop words generated tokens ['ll', 've'] not in stop_words.\n",
      "  warnings.warn('Your stop_words may be inconsistent with '\n"
     ]
    },
    {
     "data": {
      "text/plain": [
       "(3716, 743)"
      ]
     },
     "execution_count": 103,
     "metadata": {},
     "output_type": "execute_result"
    }
   ],
   "source": [
    "# fit vectorizer\n",
    "vectorizer = CountVectorizer(**params)\n",
    "doc_word_matrix = vectorizer.fit_transform(corpus)\n",
    "doc_word_matrix.shape"
   ]
  },
  {
   "cell_type": "code",
   "execution_count": 104,
   "metadata": {
    "ExecuteTime": {
     "end_time": "2020-12-08T09:07:35.265734Z",
     "start_time": "2020-12-08T09:07:35.132304Z"
    }
   },
   "outputs": [
    {
     "data": {
      "text/html": [
       "<div>\n",
       "<style scoped>\n",
       "    .dataframe tbody tr th:only-of-type {\n",
       "        vertical-align: middle;\n",
       "    }\n",
       "\n",
       "    .dataframe tbody tr th {\n",
       "        vertical-align: top;\n",
       "    }\n",
       "\n",
       "    .dataframe thead th {\n",
       "        text-align: right;\n",
       "    }\n",
       "</style>\n",
       "<table border=\"1\" class=\"dataframe\">\n",
       "  <thead>\n",
       "    <tr style=\"text-align: right;\">\n",
       "      <th></th>\n",
       "      <th>Topic_0</th>\n",
       "      <th>Topic_1</th>\n",
       "      <th>Topic_2</th>\n",
       "      <th>Topic_3</th>\n",
       "      <th>Topic_4</th>\n",
       "      <th>Topic_5</th>\n",
       "      <th>Topic_6</th>\n",
       "      <th>Topic_7</th>\n",
       "      <th>Topic_8</th>\n",
       "      <th>Topic_9</th>\n",
       "      <th>Topic_10</th>\n",
       "      <th>Topic_11</th>\n",
       "    </tr>\n",
       "  </thead>\n",
       "  <tbody>\n",
       "    <tr>\n",
       "      <th>AltText_0</th>\n",
       "      <td>0.0077</td>\n",
       "      <td>0.0050</td>\n",
       "      <td>0.0098</td>\n",
       "      <td>0.0413</td>\n",
       "      <td>0.0048</td>\n",
       "      <td>0.0056</td>\n",
       "      <td>0.0066</td>\n",
       "      <td>0.0000</td>\n",
       "      <td>0.0267</td>\n",
       "      <td>0.0094</td>\n",
       "      <td>0.0018</td>\n",
       "      <td>0.0091</td>\n",
       "    </tr>\n",
       "    <tr>\n",
       "      <th>AltText_1</th>\n",
       "      <td>0.0000</td>\n",
       "      <td>0.2578</td>\n",
       "      <td>0.0000</td>\n",
       "      <td>0.0155</td>\n",
       "      <td>0.0054</td>\n",
       "      <td>0.0000</td>\n",
       "      <td>0.0000</td>\n",
       "      <td>0.0000</td>\n",
       "      <td>0.0143</td>\n",
       "      <td>0.0044</td>\n",
       "      <td>0.0000</td>\n",
       "      <td>0.0143</td>\n",
       "    </tr>\n",
       "    <tr>\n",
       "      <th>AltText_2</th>\n",
       "      <td>0.0002</td>\n",
       "      <td>0.0010</td>\n",
       "      <td>0.0019</td>\n",
       "      <td>0.0050</td>\n",
       "      <td>0.0007</td>\n",
       "      <td>0.0000</td>\n",
       "      <td>0.0000</td>\n",
       "      <td>0.0000</td>\n",
       "      <td>0.0003</td>\n",
       "      <td>0.0005</td>\n",
       "      <td>0.0000</td>\n",
       "      <td>0.0022</td>\n",
       "    </tr>\n",
       "    <tr>\n",
       "      <th>AltText_3</th>\n",
       "      <td>0.0000</td>\n",
       "      <td>0.0018</td>\n",
       "      <td>0.0026</td>\n",
       "      <td>0.0000</td>\n",
       "      <td>0.0000</td>\n",
       "      <td>0.0320</td>\n",
       "      <td>0.0000</td>\n",
       "      <td>0.0000</td>\n",
       "      <td>0.0000</td>\n",
       "      <td>0.0033</td>\n",
       "      <td>0.0000</td>\n",
       "      <td>0.0009</td>\n",
       "    </tr>\n",
       "    <tr>\n",
       "      <th>AltText_4</th>\n",
       "      <td>0.0027</td>\n",
       "      <td>0.0044</td>\n",
       "      <td>0.0005</td>\n",
       "      <td>0.0006</td>\n",
       "      <td>0.0009</td>\n",
       "      <td>0.0000</td>\n",
       "      <td>0.0000</td>\n",
       "      <td>0.0053</td>\n",
       "      <td>0.0072</td>\n",
       "      <td>0.0071</td>\n",
       "      <td>0.0125</td>\n",
       "      <td>0.0173</td>\n",
       "    </tr>\n",
       "  </tbody>\n",
       "</table>\n",
       "</div>"
      ],
      "text/plain": [
       "           Topic_0  Topic_1  Topic_2  Topic_3  Topic_4  Topic_5  Topic_6  \\\n",
       "AltText_0   0.0077   0.0050   0.0098   0.0413   0.0048   0.0056   0.0066   \n",
       "AltText_1   0.0000   0.2578   0.0000   0.0155   0.0054   0.0000   0.0000   \n",
       "AltText_2   0.0002   0.0010   0.0019   0.0050   0.0007   0.0000   0.0000   \n",
       "AltText_3   0.0000   0.0018   0.0026   0.0000   0.0000   0.0320   0.0000   \n",
       "AltText_4   0.0027   0.0044   0.0005   0.0006   0.0009   0.0000   0.0000   \n",
       "\n",
       "           Topic_7  Topic_8  Topic_9  Topic_10  Topic_11  \n",
       "AltText_0   0.0000   0.0267   0.0094    0.0018    0.0091  \n",
       "AltText_1   0.0000   0.0143   0.0044    0.0000    0.0143  \n",
       "AltText_2   0.0000   0.0003   0.0005    0.0000    0.0022  \n",
       "AltText_3   0.0000   0.0000   0.0033    0.0000    0.0009  \n",
       "AltText_4   0.0053   0.0072   0.0071    0.0125    0.0173  "
      ]
     },
     "execution_count": 104,
     "metadata": {},
     "output_type": "execute_result"
    }
   ],
   "source": [
    "# create and fit decomposition model\n",
    "nmf = NMF(n_components=12,random_state=7)\n",
    "\n",
    "# create the document-topic matrix\n",
    "doc_topic_matrix = nmf.fit_transform(doc_word_matrix)\n",
    "\n",
    "# create columns names\n",
    "topicnames = ['Topic_' + str(i) for i in range(nmf.n_components)]\n",
    "\n",
    "# index names\n",
    "docnames = ['AltText_' + str(i) for i in range(len(corpus))]\n",
    "\n",
    "# create a dataframe\n",
    "df_doc_topic = pd.DataFrame(np.round(doc_topic_matrix,4), columns=topicnames, index=docnames)\n",
    "\n",
    "df_doc_topic.head()"
   ]
  },
  {
   "cell_type": "code",
   "execution_count": 105,
   "metadata": {
    "ExecuteTime": {
     "end_time": "2020-12-08T09:07:36.125152Z",
     "start_time": "2020-12-08T09:07:36.084947Z"
    }
   },
   "outputs": [],
   "source": [
    "def show_topics(vectorizer, model, n_words=20):\n",
    "    keywords = np.array(vectorizer.get_feature_names())\n",
    "    topic_keywords = []\n",
    "    for topic_weights in model.components_:\n",
    "        top_keyword_locs = (-topic_weights).argsort()[:n_words]\n",
    "        topic_keywords.append(keywords.take(top_keyword_locs))\n",
    "    return topic_keywords"
   ]
  },
  {
   "cell_type": "code",
   "execution_count": 106,
   "metadata": {
    "ExecuteTime": {
     "end_time": "2020-12-08T09:07:36.705969Z",
     "start_time": "2020-12-08T09:07:36.664181Z"
    }
   },
   "outputs": [
    {
     "data": {
      "text/plain": [
       "[array(['blue', 'red', 'wear', 'background', 'green', 'pink', 'dark',\n",
       "        'hair', 'light', 'yellow', 'purple', 'brown', 'eye', 'tree',\n",
       "        'grey'], dtype='<U18'),\n",
       " array(['text', 'image', 'read', 'image text', 'automatic',\n",
       "        'automatic image', 'text read', 'background', 'right', 'view',\n",
       "        'pay', 'page', 'book', 'set', 'item'], dtype='<U18'),\n",
       " array(['com', 'https', 'www', 'https www', 'instagram', 'twitter',\n",
       "        'follow', 'video', 'group', 'study', 'twitter com', 'office',\n",
       "        'join', 'comment', 'shot'], dtype='<U18'),\n",
       " array(['like', 'love', 'know', 'time', 'thing', 'number', 'people',\n",
       "        'good', 'feel', 'care', 'word', 'day', 'want', 'look like',\n",
       "        'small'], dtype='<U18'),\n",
       " array(['black', 'wear', 'wear black', 'hair', 'pink', 'shirt',\n",
       "        'black white', 'silver', 'tie', 'man', 'people', 'jacket',\n",
       "        'purple', 'dress', 'french'], dtype='<U18'),\n",
       " array(['screenshot', 'tweet', 'read', 'spotify', 'song', 'picture',\n",
       "        'wrap', 'spotify wrap', 'year', 'twitter', 'ep', 'listen',\n",
       "        'screenshot spotify', 'post', 'trend'], dtype='<U18'),\n",
       " array(['look', 'face', 'hold', 'panel', 'camera', 'right', 'eye', 'dog',\n",
       "        'pay', 'look like', 'close', 'th', 'mr', 'hair', 'profile'],\n",
       "       dtype='<U18'),\n",
       " array(['de', 'la', 'es', 'el', 'en', 'short', 'let', 'service', 'new',\n",
       "        'sign', 'article', 'total', 'city', 'co', 'school'], dtype='<U18'),\n",
       " array(['cat', 'photo', 'tree', 'christmas', 'christmas tree', 'sit',\n",
       "        'blanket', 'black cat', 'tabby', 'eye', 'picture', 'tabby cat',\n",
       "        'lay', 'paw', 'camera'], dtype='<U18'),\n",
       " array(['case', 'court', 'new', 'covid', 'order', 'december', 'return',\n",
       "        'line', 'result', 'high', 'day', 'november', 'test', 'trump',\n",
       "        'require'], dtype='<U18'),\n",
       " array(['white', 'black white', 'pink', 'brown', 'hold', 'woman', 'girl',\n",
       "        'hand', 'key', 'glass', 'face', 'hair', 'white woman', 'blanket',\n",
       "        'red'], dtype='<U18'),\n",
       " array(['use', 'system', 'form', 'public', 'new', 'include', 'font',\n",
       "        'plan', 'class', 'sound', 'space', 'collection', 'key', 'datum',\n",
       "        'file'], dtype='<U18')]"
      ]
     },
     "execution_count": 106,
     "metadata": {},
     "output_type": "execute_result"
    }
   ],
   "source": [
    "topic_keywords = show_topics(vectorizer, nmf, 15)\n",
    "topic_keywords"
   ]
  },
  {
   "cell_type": "code",
   "execution_count": 107,
   "metadata": {
    "ExecuteTime": {
     "end_time": "2020-12-08T09:07:43.200788Z",
     "start_time": "2020-12-08T09:07:43.154017Z"
    },
    "scrolled": true
   },
   "outputs": [
    {
     "data": {
      "text/html": [
       "<div>\n",
       "<style scoped>\n",
       "    .dataframe tbody tr th:only-of-type {\n",
       "        vertical-align: middle;\n",
       "    }\n",
       "\n",
       "    .dataframe tbody tr th {\n",
       "        vertical-align: top;\n",
       "    }\n",
       "\n",
       "    .dataframe thead th {\n",
       "        text-align: right;\n",
       "    }\n",
       "</style>\n",
       "<table border=\"1\" class=\"dataframe\">\n",
       "  <thead>\n",
       "    <tr style=\"text-align: right;\">\n",
       "      <th></th>\n",
       "      <th>Topic_0</th>\n",
       "      <th>Topic_1</th>\n",
       "      <th>Topic_2</th>\n",
       "      <th>Topic_3</th>\n",
       "      <th>Topic_4</th>\n",
       "      <th>Topic_5</th>\n",
       "      <th>Topic_6</th>\n",
       "      <th>Topic_7</th>\n",
       "      <th>Topic_8</th>\n",
       "      <th>Topic_9</th>\n",
       "      <th>Topic_10</th>\n",
       "      <th>Topic_11</th>\n",
       "      <th>orig_comments</th>\n",
       "    </tr>\n",
       "  </thead>\n",
       "  <tbody>\n",
       "    <tr>\n",
       "      <th>AltText_2017</th>\n",
       "      <td>0.0</td>\n",
       "      <td>0.0000</td>\n",
       "      <td>0.0</td>\n",
       "      <td>0.0000</td>\n",
       "      <td>0.0</td>\n",
       "      <td>0.00</td>\n",
       "      <td>0.0</td>\n",
       "      <td>0.0</td>\n",
       "      <td>0.0</td>\n",
       "      <td>0.0</td>\n",
       "      <td>0.0</td>\n",
       "      <td>0.0000</td>\n",
       "      <td>Mallard Duck at Potter Marsh and Spruce Grouse in the Chugach Range.</td>\n",
       "    </tr>\n",
       "    <tr>\n",
       "      <th>AltText_3222</th>\n",
       "      <td>0.0</td>\n",
       "      <td>0.0079</td>\n",
       "      <td>0.0</td>\n",
       "      <td>0.0092</td>\n",
       "      <td>0.0</td>\n",
       "      <td>0.06</td>\n",
       "      <td>0.0</td>\n",
       "      <td>0.0</td>\n",
       "      <td>0.0</td>\n",
       "      <td>0.0</td>\n",
       "      <td>0.0</td>\n",
       "      <td>0.0003</td>\n",
       "      <td>“Your top artist was The National. You were in the top 1% of their listeners this year.”</td>\n",
       "    </tr>\n",
       "  </tbody>\n",
       "</table>\n",
       "</div>"
      ],
      "text/plain": [
       "              Topic_0  Topic_1  Topic_2  Topic_3  Topic_4  Topic_5  Topic_6  \\\n",
       "AltText_2017      0.0   0.0000      0.0   0.0000      0.0     0.00      0.0   \n",
       "AltText_3222      0.0   0.0079      0.0   0.0092      0.0     0.06      0.0   \n",
       "\n",
       "              Topic_7  Topic_8  Topic_9  Topic_10  Topic_11  \\\n",
       "AltText_2017      0.0      0.0      0.0       0.0    0.0000   \n",
       "AltText_3222      0.0      0.0      0.0       0.0    0.0003   \n",
       "\n",
       "                                                                                         orig_comments  \n",
       "AltText_2017                      Mallard Duck at Potter Marsh and Spruce Grouse in the Chugach Range.  \n",
       "AltText_3222  “Your top artist was The National. You were in the top 1% of their listeners this year.”  "
      ]
     },
     "execution_count": 107,
     "metadata": {},
     "output_type": "execute_result"
    }
   ],
   "source": [
    "# add original comments text back into doc_topic matrix\n",
    "df_doc_topic['orig_comments'] = df_tm['alt_text'].values\n",
    "df_doc_topic.sample(2)"
   ]
  },
  {
   "cell_type": "code",
   "execution_count": 108,
   "metadata": {
    "ExecuteTime": {
     "end_time": "2020-12-08T09:07:43.952282Z",
     "start_time": "2020-12-08T09:07:43.911644Z"
    }
   },
   "outputs": [],
   "source": [
    "def top_docs(df_doc_topic, topic, n_docs):\n",
    "    return (df_doc_topic\n",
    "            .sort_values(by=topic, ascending=False)\n",
    "            .head(n_docs)['orig_comments']\n",
    "            .values)"
   ]
  },
  {
   "cell_type": "code",
   "execution_count": 109,
   "metadata": {
    "ExecuteTime": {
     "end_time": "2020-12-08T09:07:44.552779Z",
     "start_time": "2020-12-08T09:07:44.512646Z"
    }
   },
   "outputs": [
    {
     "data": {
      "text/plain": [
       "array(['using System;\\nusing System.Collections.Generic;\\nusing System.ComponentModel;\\nusing System.Data;\\nusing System.Drawing;\\nusing System.Linq;\\nusing System.Text;\\nusing System.Threading.Tasks;\\nusing System.Windows.Forms;\\n\\nnamespace WindowsFormsApplication6\\n{\\n    public partial class Form1 : Form\\n    {\\n        private MyFont _font;\\n        public Form1()\\n        {\\n            InitializeComponent();\\n        }\\n\\n        priv...',\n",
       "       'Your next steps depend on the total of the Used column from the df -h command above.      If you’re using less space than your intended plan requires, you can move onto the next step without any further action.     If you’re using more space than your intended plan allows, you need to remove some files to free up some space before moving onto the next step. See the options for doing this in the Download Files from Your Linode guide.  Before resizing your Linode to a new plan, you need to resize the disk to match the storage volume of the new plan.',\n",
       "       'Benefits of vandhan bamboo bottle:\\nGreat sustainable eco friendly alternative to plastic.\\nno pesticides or fertilizer is used in growing a bamboo plant, the bottles are safe to store water and free from any kind of chemical.\\nThe process of manufacturing is completely organic, including the bamboo treating procedure. Instead of bleaching powder and other chemicals usually used to treat bamboo, we uses neem, turmeric and other herbal items to treat the product. We are insulating copper containers in them since copper is traditionally known to have many medicinal benefits. Vandhan Tripura bamboo bottles are far more superior than the products available in the market as they are properly treated and don’t store water directly on the bamboo surface.\\n',\n",
       "       \"\\t♥ Hands Free Function and Easy Setup----A10 Wireless Bluetooth Speaker connect easily with wireless Bluetooth device. Support TF card insert and USB input for non-Bluetooth devices. Instantly easy connect to your smart phone, PC, laptop, device by 3.5mm aux.\\n·\\t♥ Widely use. Whenever you're partying, walking out, camping, hiking, biking, enjoy a full-range stereo sound with a great volume.Can be Used with Laptops/Tablets/Mobile Phone/Mp4 Players.\\n·\\t♥ Long Battery Life and Rechargeable Battery----Fabulously perfect battery, take not long to charge but last for 6+ hrs . Play music without draining battery from your phone. With the rechargeable battery, you can carry it where I'm going.\\n·\\t♥ Louder Volume and Excellent Sound----Wonderful clear bass sound, this little speaker produces big sound, fit for outdoor camping as well. Bluetooth speaker Perfect for home, dorm room, kitchen, bathroom, car, parties, the sound fill all room. Plays up to 30 feet (10 meters) from any Bluetooth-enabled d\",\n",
       "       'How can I submit my ID verification documents – Blockchain. To make sure your personal information is submitted safely, documents must be sent through the Wallet’s ID verification portal. Personal documents will only be accepted if submitted using this method. For security reasons, we are unable to assist with verification requests sent through any other channel. This includes documents sent to us via email and support requests. If you’re asked to re-submit documents, an email will be sent to you with a secure upload link. Please use this secure upload link only; do not reply to the email with your attached documents. ',\n",
       "       'use autocxx::include_cpp;\\n\\ninclude_cpp! {\\n    #include \"url/origin.h\"\\n    generate!(\"url::Origin\")\\n    block!(\"url::Nonce\")\\n    // ... and 15 other block!()s\\n}\\n\\nuse ffi::*;\\n\\nfn main() {\\n    let o = url::Origin::CreateFromNormalizedTuple(\\n        make_string(\"https\"),\\n        make_string(\"google.com\"),\\n        443,\\n    );\\n    let serialized = o.Serialize1();\\n    println!(\\n        \"Hello, world! Origin is: {}\",\\n    ...',\n",
       "       'First, there is the lack of consistency. Housing courts across the country use a patchwork of services, including Webex, Zoom, BlueJeans, and others. In some places, like St. Louis, which has both city and county courts, the situation is split: one court uses Zoom and the other Webex. On top of this, some courts are fully virtual while others are hybrid, and others switch between virtual, hybrid, and in-person—sometimes during the same cases. This leads to many opportunities for confusion: Diamond, for example, says that she was required to appear in person for her second hearing, but the one after that is scheduled for Webex.)',\n",
       "       'Pic of Patrick Stewart (Captain Picard from Star Trek: The Next Generation) captioned \"\\'Use the Force, Harry\\' - Gandalf\" using fonts mixed from Lord of the Rings, Harry Potter, and Star Wars',\n",
       "       'yes, but most often \"cat\", \"cat\", and \"cat\" are used, well, or when this little asshole has done something, for example, ruined a new sofa, then used \"fluffy condom\"',\n",
       "       'a screenshot from emojipedia. The text reads \"Emoji Meaning: Originally proposed as Juice, this emoji can be used to talk about juice or other liquids that come in boxes with straws. it can also be used metaphorically to talk about power, energy, respect, or an elusive quality that makes someone special'],\n",
       "      dtype=object)"
      ]
     },
     "execution_count": 109,
     "metadata": {},
     "output_type": "execute_result"
    }
   ],
   "source": [
    "topic_docs = top_docs(df_doc_topic, 'Topic_11',10)\n",
    "topic_docs"
   ]
  },
  {
   "cell_type": "markdown",
   "metadata": {},
   "source": [
    "# Export data for image clustering"
   ]
  },
  {
   "cell_type": "code",
   "execution_count": 116,
   "metadata": {
    "ExecuteTime": {
     "end_time": "2020-12-07T20:50:21.941714Z",
     "start_time": "2020-12-07T20:50:21.861163Z"
    }
   },
   "outputs": [
    {
     "data": {
      "text/html": [
       "<div>\n",
       "<style scoped>\n",
       "    .dataframe tbody tr th:only-of-type {\n",
       "        vertical-align: middle;\n",
       "    }\n",
       "\n",
       "    .dataframe tbody tr th {\n",
       "        vertical-align: top;\n",
       "    }\n",
       "\n",
       "    .dataframe thead th {\n",
       "        text-align: right;\n",
       "    }\n",
       "</style>\n",
       "<table border=\"1\" class=\"dataframe\">\n",
       "  <thead>\n",
       "    <tr style=\"text-align: right;\">\n",
       "      <th></th>\n",
       "      <th>id</th>\n",
       "      <th>created_at</th>\n",
       "      <th>tweet_text</th>\n",
       "      <th>tweet_url</th>\n",
       "      <th>img_url</th>\n",
       "      <th>alt_text</th>\n",
       "      <th>media_type</th>\n",
       "    </tr>\n",
       "  </thead>\n",
       "  <tbody>\n",
       "    <tr>\n",
       "      <th>0</th>\n",
       "      <td>1333857441956519936</td>\n",
       "      <td>2020-12-01 19:36:10</td>\n",
       "      <td>Our lil tiny Christmas tree I kinda wanna pain...</td>\n",
       "      <td>https://t.co/NxNnBooOv7</td>\n",
       "      <td>http://pbs.twimg.com/media/EoLQRYPWEAAIoum.jpg</td>\n",
       "      <td>None</td>\n",
       "      <td>photo</td>\n",
       "    </tr>\n",
       "    <tr>\n",
       "      <th>1</th>\n",
       "      <td>1333857440949932032</td>\n",
       "      <td>2020-12-01 19:36:10</td>\n",
       "      <td>Giroud, tammy and cavani 😂🤣 https://t.co/BMjJu...</td>\n",
       "      <td>https://t.co/geWysH2kml</td>\n",
       "      <td>http://pbs.twimg.com/media/EoLQRdTW4AAa4K-.jpg</td>\n",
       "      <td>None</td>\n",
       "      <td>photo</td>\n",
       "    </tr>\n",
       "    <tr>\n",
       "      <th>2</th>\n",
       "      <td>1333857445312139265</td>\n",
       "      <td>2020-12-01 19:36:11</td>\n",
       "      <td>Some facts about the Quran❤️ https://t.co/6NZT...</td>\n",
       "      <td>https://t.co/6NZTWBjQwH</td>\n",
       "      <td>http://pbs.twimg.com/media/EoLQRMlXYAkv58_.jpg</td>\n",
       "      <td>None</td>\n",
       "      <td>photo</td>\n",
       "    </tr>\n",
       "    <tr>\n",
       "      <th>4</th>\n",
       "      <td>1333857442283675650</td>\n",
       "      <td>2020-12-01 19:36:10</td>\n",
       "      <td>Sure, you've met me, but have you met 18 y/o M...</td>\n",
       "      <td>https://t.co/nrd1zhT9u8</td>\n",
       "      <td>http://pbs.twimg.com/media/EoLQQtkW4AEjNGu.png</td>\n",
       "      <td>None</td>\n",
       "      <td>photo</td>\n",
       "    </tr>\n",
       "    <tr>\n",
       "      <th>5</th>\n",
       "      <td>1333857441734389760</td>\n",
       "      <td>2020-12-01 19:36:10</td>\n",
       "      <td>@DeanBrowningPA @AOC This you? https://t.co/n8...</td>\n",
       "      <td>https://t.co/n8rnhl22dr</td>\n",
       "      <td>http://pbs.twimg.com/media/EoLQRg3W4AA2207.jpg</td>\n",
       "      <td>None</td>\n",
       "      <td>photo</td>\n",
       "    </tr>\n",
       "    <tr>\n",
       "      <th>...</th>\n",
       "      <td>...</td>\n",
       "      <td>...</td>\n",
       "      <td>...</td>\n",
       "      <td>...</td>\n",
       "      <td>...</td>\n",
       "      <td>...</td>\n",
       "      <td>...</td>\n",
       "    </tr>\n",
       "    <tr>\n",
       "      <th>2415463</th>\n",
       "      <td>1331004682823733249</td>\n",
       "      <td>2020-11-23 22:40:19</td>\n",
       "      <td>Now For Sale:\\nBatman Beyond #49 Manapul Varia...</td>\n",
       "      <td>https://t.co/I6jJIVSPKN</td>\n",
       "      <td>http://pbs.twimg.com/media/EnittEwXUAcQdiA.jpg</td>\n",
       "      <td>None</td>\n",
       "      <td>photo</td>\n",
       "    </tr>\n",
       "    <tr>\n",
       "      <th>2415464</th>\n",
       "      <td>1331004677983334401</td>\n",
       "      <td>2020-11-23 22:40:18</td>\n",
       "      <td>no to body shame💓 https://t.co/z6bTc8nztW</td>\n",
       "      <td>https://t.co/z6bTc8nztW</td>\n",
       "      <td>http://pbs.twimg.com/media/Enitf2MVoAILmrN.jpg</td>\n",
       "      <td>None</td>\n",
       "      <td>photo</td>\n",
       "    </tr>\n",
       "    <tr>\n",
       "      <th>2415465</th>\n",
       "      <td>1331004680684539907</td>\n",
       "      <td>2020-11-23 22:40:19</td>\n",
       "      <td>It's nice and cool!! \\nDrum camp in Greece. ht...</td>\n",
       "      <td>https://t.co/azdOUwCJZM</td>\n",
       "      <td>http://pbs.twimg.com/media/Enits-_UYAAUn2G.jpg</td>\n",
       "      <td>None</td>\n",
       "      <td>photo</td>\n",
       "    </tr>\n",
       "    <tr>\n",
       "      <th>2415466</th>\n",
       "      <td>1331004682555285504</td>\n",
       "      <td>2020-11-23 22:40:19</td>\n",
       "      <td>I should tweet it with this but ight https://t...</td>\n",
       "      <td>https://t.co/00e1ShH0Hx</td>\n",
       "      <td>http://pbs.twimg.com/media/EnitrQgWMAA1AjW.jpg</td>\n",
       "      <td>None</td>\n",
       "      <td>photo</td>\n",
       "    </tr>\n",
       "    <tr>\n",
       "      <th>2415467</th>\n",
       "      <td>1331004679254372354</td>\n",
       "      <td>2020-11-23 22:40:19</td>\n",
       "      <td>surgat is always my subject for testing new br...</td>\n",
       "      <td>https://t.co/ZGt87hh8Q8</td>\n",
       "      <td>http://pbs.twimg.com/media/EnitnlyXEBInHjI.jpg</td>\n",
       "      <td>None</td>\n",
       "      <td>photo</td>\n",
       "    </tr>\n",
       "  </tbody>\n",
       "</table>\n",
       "<p>1985705 rows × 7 columns</p>\n",
       "</div>"
      ],
      "text/plain": [
       "                          id          created_at  \\\n",
       "0        1333857441956519936 2020-12-01 19:36:10   \n",
       "1        1333857440949932032 2020-12-01 19:36:10   \n",
       "2        1333857445312139265 2020-12-01 19:36:11   \n",
       "4        1333857442283675650 2020-12-01 19:36:10   \n",
       "5        1333857441734389760 2020-12-01 19:36:10   \n",
       "...                      ...                 ...   \n",
       "2415463  1331004682823733249 2020-11-23 22:40:19   \n",
       "2415464  1331004677983334401 2020-11-23 22:40:18   \n",
       "2415465  1331004680684539907 2020-11-23 22:40:19   \n",
       "2415466  1331004682555285504 2020-11-23 22:40:19   \n",
       "2415467  1331004679254372354 2020-11-23 22:40:19   \n",
       "\n",
       "                                                tweet_text  \\\n",
       "0        Our lil tiny Christmas tree I kinda wanna pain...   \n",
       "1        Giroud, tammy and cavani 😂🤣 https://t.co/BMjJu...   \n",
       "2        Some facts about the Quran❤️ https://t.co/6NZT...   \n",
       "4        Sure, you've met me, but have you met 18 y/o M...   \n",
       "5        @DeanBrowningPA @AOC This you? https://t.co/n8...   \n",
       "...                                                    ...   \n",
       "2415463  Now For Sale:\\nBatman Beyond #49 Manapul Varia...   \n",
       "2415464          no to body shame💓 https://t.co/z6bTc8nztW   \n",
       "2415465  It's nice and cool!! \\nDrum camp in Greece. ht...   \n",
       "2415466  I should tweet it with this but ight https://t...   \n",
       "2415467  surgat is always my subject for testing new br...   \n",
       "\n",
       "                       tweet_url  \\\n",
       "0        https://t.co/NxNnBooOv7   \n",
       "1        https://t.co/geWysH2kml   \n",
       "2        https://t.co/6NZTWBjQwH   \n",
       "4        https://t.co/nrd1zhT9u8   \n",
       "5        https://t.co/n8rnhl22dr   \n",
       "...                          ...   \n",
       "2415463  https://t.co/I6jJIVSPKN   \n",
       "2415464  https://t.co/z6bTc8nztW   \n",
       "2415465  https://t.co/azdOUwCJZM   \n",
       "2415466  https://t.co/00e1ShH0Hx   \n",
       "2415467  https://t.co/ZGt87hh8Q8   \n",
       "\n",
       "                                                img_url alt_text media_type  \n",
       "0        http://pbs.twimg.com/media/EoLQRYPWEAAIoum.jpg     None      photo  \n",
       "1        http://pbs.twimg.com/media/EoLQRdTW4AAa4K-.jpg     None      photo  \n",
       "2        http://pbs.twimg.com/media/EoLQRMlXYAkv58_.jpg     None      photo  \n",
       "4        http://pbs.twimg.com/media/EoLQQtkW4AEjNGu.png     None      photo  \n",
       "5        http://pbs.twimg.com/media/EoLQRg3W4AA2207.jpg     None      photo  \n",
       "...                                                 ...      ...        ...  \n",
       "2415463  http://pbs.twimg.com/media/EnittEwXUAcQdiA.jpg     None      photo  \n",
       "2415464  http://pbs.twimg.com/media/Enitf2MVoAILmrN.jpg     None      photo  \n",
       "2415465  http://pbs.twimg.com/media/Enits-_UYAAUn2G.jpg     None      photo  \n",
       "2415466  http://pbs.twimg.com/media/EnitrQgWMAA1AjW.jpg     None      photo  \n",
       "2415467  http://pbs.twimg.com/media/EnitnlyXEBInHjI.jpg     None      photo  \n",
       "\n",
       "[1985705 rows x 7 columns]"
      ]
     },
     "execution_count": 116,
     "metadata": {},
     "output_type": "execute_result"
    }
   ],
   "source": [
    "df"
   ]
  },
  {
   "cell_type": "code",
   "execution_count": 121,
   "metadata": {
    "ExecuteTime": {
     "end_time": "2020-12-07T20:58:05.283424Z",
     "start_time": "2020-12-07T20:58:05.094926Z"
    }
   },
   "outputs": [],
   "source": [
    "rand550 = df.sample(550)"
   ]
  },
  {
   "cell_type": "code",
   "execution_count": 122,
   "metadata": {
    "ExecuteTime": {
     "end_time": "2020-12-07T20:59:31.103622Z",
     "start_time": "2020-12-07T20:58:22.986923Z"
    }
   },
   "outputs": [
    {
     "name": "stdout",
     "output_type": "stream",
     "text": [
      "0 images downloaded.\n",
      "50 images downloaded.\n",
      "100 images downloaded.\n",
      "150 images downloaded.\n",
      "200 images downloaded.\n",
      "250 images downloaded.\n",
      "300 images downloaded.\n",
      "350 images downloaded.\n",
      "400 images downloaded.\n",
      "450 images downloaded.\n",
      "500 images downloaded.\n"
     ]
    }
   ],
   "source": [
    "urls = list(rand550['img_url'])\n",
    "\n",
    "counter = 0\n",
    "for i in urls:\n",
    "#     try:\n",
    "        filename = 'clustering_images/'+i[27:46]\n",
    "        response = requests.get(i)\n",
    "        file = open(filename, \"wb\")\n",
    "        file.write(response.content)\n",
    "        file.close()\n",
    "        if counter % 50 == 0:\n",
    "            print(f'{counter} images downloaded.')\n",
    "        counter +=1\n",
    "#     except:\n",
    "#         pass"
   ]
  },
  {
   "cell_type": "code",
   "execution_count": null,
   "metadata": {},
   "outputs": [],
   "source": []
  }
 ],
 "metadata": {
  "kernelspec": {
   "display_name": "Python 3",
   "language": "python",
   "name": "python3"
  },
  "language_info": {
   "codemirror_mode": {
    "name": "ipython",
    "version": 3
   },
   "file_extension": ".py",
   "mimetype": "text/x-python",
   "name": "python",
   "nbconvert_exporter": "python",
   "pygments_lexer": "ipython3",
   "version": "3.8.3"
  },
  "toc": {
   "base_numbering": 1,
   "nav_menu": {},
   "number_sections": true,
   "sideBar": true,
   "skip_h1_title": false,
   "title_cell": "Table of Contents",
   "title_sidebar": "Contents",
   "toc_cell": false,
   "toc_position": {
    "height": "calc(100% - 180px)",
    "left": "10px",
    "top": "150px",
    "width": "217.594px"
   },
   "toc_section_display": true,
   "toc_window_display": true
  }
 },
 "nbformat": 4,
 "nbformat_minor": 4
}
