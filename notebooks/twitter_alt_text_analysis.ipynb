{
 "cells": [
  {
   "cell_type": "markdown",
   "metadata": {},
   "source": [
    "# Import Packages and Data"
   ]
  },
  {
   "cell_type": "code",
   "execution_count": 38,
   "metadata": {
    "ExecuteTime": {
     "end_time": "2020-12-06T00:14:35.298705Z",
     "start_time": "2020-12-06T00:14:35.293928Z"
    }
   },
   "outputs": [
    {
     "name": "stderr",
     "output_type": "stream",
     "text": [
      "[nltk_data] Downloading package averaged_perceptron_tagger to\n",
      "[nltk_data]     /Users/labbot/nltk_data...\n",
      "[nltk_data]   Package averaged_perceptron_tagger is already up-to-\n",
      "[nltk_data]       date!\n"
     ]
    }
   ],
   "source": [
    "# basics\n",
    "import pandas as pd \n",
    "import numpy as np\n",
    "\n",
    "# files\n",
    "import glob\n",
    "import pickle\n",
    "import os\n",
    "import requests\n",
    "\n",
    "# ocr\n",
    "import pytesseract as pytesseract\n",
    "from PIL import Image\n",
    "\n",
    "# nlp\n",
    "import nltk\n",
    "nltk.download('averaged_perceptron_tagger')\n",
    "from nltk.tag import pos_tag\n",
    "import demoji"
   ]
  },
  {
   "cell_type": "code",
   "execution_count": 39,
   "metadata": {
    "ExecuteTime": {
     "end_time": "2020-12-06T00:14:39.872484Z",
     "start_time": "2020-12-06T00:14:35.301778Z"
    }
   },
   "outputs": [
    {
     "data": {
      "text/plain": [
       "(2415468, 7)"
      ]
     },
     "execution_count": 39,
     "metadata": {},
     "output_type": "execute_result"
    }
   ],
   "source": [
    "# all the data scraped using twitter_scraping is saved as pickle files; extract and save as a dataframe\n",
    "path = './twitter_data'\n",
    "all_files = glob.glob(path + \"/*.pickle\")\n",
    "\n",
    "li = []\n",
    "\n",
    "for filename in all_files:\n",
    "    one_df = pd.read_pickle(filename)\n",
    "    li.append(one_df)\n",
    "\n",
    "df_raw = pd.concat(li, axis=0, ignore_index=True)\n",
    "df_raw.shape"
   ]
  },
  {
   "cell_type": "markdown",
   "metadata": {},
   "source": [
    "# Analysis of alt text prevalence"
   ]
  },
  {
   "cell_type": "code",
   "execution_count": 40,
   "metadata": {
    "ExecuteTime": {
     "end_time": "2020-12-06T00:14:41.885812Z",
     "start_time": "2020-12-06T00:14:39.874819Z"
    }
   },
   "outputs": [
    {
     "data": {
      "text/plain": [
       "(1985705, 7)"
      ]
     },
     "execution_count": 40,
     "metadata": {},
     "output_type": "execute_result"
    }
   ],
   "source": [
    "# wasn't able to exclude gifs in tweepy query, so remove them now\n",
    "df = df_raw[df_raw['media_type'] == 'photo']\n",
    "df.shape"
   ]
  },
  {
   "cell_type": "code",
   "execution_count": 41,
   "metadata": {
    "ExecuteTime": {
     "end_time": "2020-12-06T00:14:42.458362Z",
     "start_time": "2020-12-06T00:14:41.892420Z"
    }
   },
   "outputs": [
    {
     "name": "stdout",
     "output_type": "stream",
     "text": [
      "0.300498% of photos in the sample of 1985705 have user-provided alt text.\n",
      "that's 5967 photos with (uncleaned) alt text.\n"
     ]
    }
   ],
   "source": [
    "# how many photos have alt text?\n",
    "alt_text_count = sum(df['alt_text'].notnull())\n",
    "total_photos = len(df)\n",
    "alt_text_rate = alt_text_count/total_photos\n",
    "\n",
    "print(f'{alt_text_rate:%} of photos in the sample of {total_photos} have user-provided alt text.')\n",
    "print(f\"that's {alt_text_count} photos with (uncleaned) alt text.\")"
   ]
  },
  {
   "cell_type": "code",
   "execution_count": 42,
   "metadata": {
    "ExecuteTime": {
     "end_time": "2020-12-06T00:14:42.675228Z",
     "start_time": "2020-12-06T00:14:42.461665Z"
    }
   },
   "outputs": [
    {
     "data": {
      "text/html": [
       "<div>\n",
       "<style scoped>\n",
       "    .dataframe tbody tr th:only-of-type {\n",
       "        vertical-align: middle;\n",
       "    }\n",
       "\n",
       "    .dataframe tbody tr th {\n",
       "        vertical-align: top;\n",
       "    }\n",
       "\n",
       "    .dataframe thead th {\n",
       "        text-align: right;\n",
       "    }\n",
       "</style>\n",
       "<table border=\"1\" class=\"dataframe\">\n",
       "  <thead>\n",
       "    <tr style=\"text-align: right;\">\n",
       "      <th></th>\n",
       "      <th>id</th>\n",
       "      <th>created_at</th>\n",
       "      <th>tweet_text</th>\n",
       "      <th>tweet_url</th>\n",
       "      <th>img_url</th>\n",
       "      <th>alt_text</th>\n",
       "      <th>media_type</th>\n",
       "    </tr>\n",
       "  </thead>\n",
       "  <tbody>\n",
       "    <tr>\n",
       "      <th>1416524</th>\n",
       "      <td>1335019810334396417</td>\n",
       "      <td>2020-12-05 00:35:00</td>\n",
       "      <td>Thanks...I hate it https://t.co/FA6r8IlaLJ</td>\n",
       "      <td>https://t.co/FA6r8IlaLJ</td>\n",
       "      <td>http://pbs.twimg.com/media/EobxcS9XMAA4ppt.jpg</td>\n",
       "      <td>Buzzsprout release date screen with the name o...</td>\n",
       "      <td>photo</td>\n",
       "    </tr>\n",
       "    <tr>\n",
       "      <th>2086543</th>\n",
       "      <td>1334703124951470083</td>\n",
       "      <td>2020-12-04 03:36:37</td>\n",
       "      <td>I have 1 new followers from USA last week. See...</td>\n",
       "      <td>https://t.co/4XkkCnN0ID</td>\n",
       "      <td>http://pbs.twimg.com/media/EoXRa0RXIAIN9VU.jpg</td>\n",
       "      <td>User report</td>\n",
       "      <td>photo</td>\n",
       "    </tr>\n",
       "    <tr>\n",
       "      <th>1470656</th>\n",
       "      <td>1335014616301264896</td>\n",
       "      <td>2020-12-05 00:14:22</td>\n",
       "      <td>For him or for her, there is something for you...</td>\n",
       "      <td>https://t.co/VJhpAjIVOl</td>\n",
       "      <td>http://pbs.twimg.com/media/EobrdAZXEAg_ulm.png</td>\n",
       "      <td>We add new products everyday. Vibrators, dildo...</td>\n",
       "      <td>photo</td>\n",
       "    </tr>\n",
       "    <tr>\n",
       "      <th>1631405</th>\n",
       "      <td>1334999798060093440</td>\n",
       "      <td>2020-12-04 23:15:29</td>\n",
       "      <td>Its better to own the racecourse then the race...</td>\n",
       "      <td>https://t.co/sY086xb34B</td>\n",
       "      <td>http://pbs.twimg.com/media/EobfPdAXMAUtJsX.jpg</td>\n",
       "      <td>Something went wrong</td>\n",
       "      <td>photo</td>\n",
       "    </tr>\n",
       "    <tr>\n",
       "      <th>2152893</th>\n",
       "      <td>1334697552390701056</td>\n",
       "      <td>2020-12-04 03:14:28</td>\n",
       "      <td>sch! gunanya brainly apa lol https://t.co/KYdv...</td>\n",
       "      <td>https://t.co/KYdvfK0ahG</td>\n",
       "      <td>http://pbs.twimg.com/media/EoXMWYqVQAIkLoi.jpg</td>\n",
       "      <td>sch! gunanya brainly apa lol</td>\n",
       "      <td>photo</td>\n",
       "    </tr>\n",
       "    <tr>\n",
       "      <th>1427782</th>\n",
       "      <td>1335018726081638401</td>\n",
       "      <td>2020-12-05 00:30:42</td>\n",
       "      <td>I feel seen @hbomax https://t.co/6CRftbAfqF</td>\n",
       "      <td>https://t.co/6CRftbAfqF</td>\n",
       "      <td>http://pbs.twimg.com/media/EobwPtQXMAEobyv.jpg</td>\n",
       "      <td>Die Hard, Die Hard2, Leathal Weapon</td>\n",
       "      <td>photo</td>\n",
       "    </tr>\n",
       "    <tr>\n",
       "      <th>602394</th>\n",
       "      <td>1334527753706594305</td>\n",
       "      <td>2020-12-03 15:59:45</td>\n",
       "      <td>Happy birthday mas ganteng~\\n#MasGanteng \\n#Wi...</td>\n",
       "      <td>https://t.co/1QjSGF8kG7</td>\n",
       "      <td>http://pbs.twimg.com/media/EoUx5xpVEAAUinz.jpg</td>\n",
       "      <td>💜💜 💜</td>\n",
       "      <td>photo</td>\n",
       "    </tr>\n",
       "  </tbody>\n",
       "</table>\n",
       "</div>"
      ],
      "text/plain": [
       "                          id          created_at  \\\n",
       "1416524  1335019810334396417 2020-12-05 00:35:00   \n",
       "2086543  1334703124951470083 2020-12-04 03:36:37   \n",
       "1470656  1335014616301264896 2020-12-05 00:14:22   \n",
       "1631405  1334999798060093440 2020-12-04 23:15:29   \n",
       "2152893  1334697552390701056 2020-12-04 03:14:28   \n",
       "1427782  1335018726081638401 2020-12-05 00:30:42   \n",
       "602394   1334527753706594305 2020-12-03 15:59:45   \n",
       "\n",
       "                                                tweet_text  \\\n",
       "1416524         Thanks...I hate it https://t.co/FA6r8IlaLJ   \n",
       "2086543  I have 1 new followers from USA last week. See...   \n",
       "1470656  For him or for her, there is something for you...   \n",
       "1631405  Its better to own the racecourse then the race...   \n",
       "2152893  sch! gunanya brainly apa lol https://t.co/KYdv...   \n",
       "1427782        I feel seen @hbomax https://t.co/6CRftbAfqF   \n",
       "602394   Happy birthday mas ganteng~\\n#MasGanteng \\n#Wi...   \n",
       "\n",
       "                       tweet_url  \\\n",
       "1416524  https://t.co/FA6r8IlaLJ   \n",
       "2086543  https://t.co/4XkkCnN0ID   \n",
       "1470656  https://t.co/VJhpAjIVOl   \n",
       "1631405  https://t.co/sY086xb34B   \n",
       "2152893  https://t.co/KYdvfK0ahG   \n",
       "1427782  https://t.co/6CRftbAfqF   \n",
       "602394   https://t.co/1QjSGF8kG7   \n",
       "\n",
       "                                                img_url  \\\n",
       "1416524  http://pbs.twimg.com/media/EobxcS9XMAA4ppt.jpg   \n",
       "2086543  http://pbs.twimg.com/media/EoXRa0RXIAIN9VU.jpg   \n",
       "1470656  http://pbs.twimg.com/media/EobrdAZXEAg_ulm.png   \n",
       "1631405  http://pbs.twimg.com/media/EobfPdAXMAUtJsX.jpg   \n",
       "2152893  http://pbs.twimg.com/media/EoXMWYqVQAIkLoi.jpg   \n",
       "1427782  http://pbs.twimg.com/media/EobwPtQXMAEobyv.jpg   \n",
       "602394   http://pbs.twimg.com/media/EoUx5xpVEAAUinz.jpg   \n",
       "\n",
       "                                                  alt_text media_type  \n",
       "1416524  Buzzsprout release date screen with the name o...      photo  \n",
       "2086543                                        User report      photo  \n",
       "1470656  We add new products everyday. Vibrators, dildo...      photo  \n",
       "1631405                               Something went wrong      photo  \n",
       "2152893                      sch! gunanya brainly apa lol       photo  \n",
       "1427782                Die Hard, Die Hard2, Leathal Weapon      photo  \n",
       "602394                                                💜💜 💜      photo  "
      ]
     },
     "execution_count": 42,
     "metadata": {},
     "output_type": "execute_result"
    }
   ],
   "source": [
    "# explore some of the alt text available\n",
    "df_alt_text = df[df['alt_text'].notnull()]\n",
    "df_alt_text.sample(7)"
   ]
  },
  {
   "cell_type": "code",
   "execution_count": 43,
   "metadata": {
    "ExecuteTime": {
     "end_time": "2020-12-06T00:14:42.681296Z",
     "start_time": "2020-12-06T00:14:42.678899Z"
    }
   },
   "outputs": [],
   "source": [
    "# pd.options.display.max_colwidth = 250\n",
    "# df_alt_text.loc[[39657]]"
   ]
  },
  {
   "cell_type": "markdown",
   "metadata": {},
   "source": [
    "# Preprocess alt text to use for modeling\n",
    "Glancing through, it (unsurprisingly) looks like the user-created alt text in my corpus will need a fair bit of cleaning to be generalizable. These are the preprocessing steps I'll take:\n",
    "1. remove pre-populated stock text like \"discord image\", \"something went wrong\", etc.\n",
    "2. remove photos of text (I'm not trying to create an OCR model)\n",
    "3. remove proper nouns\n",
    "4. remove \"photo of\" or \"picture of\", since those could confuse the model and make for bad alt text anyways\n",
    "5. remove any captions that are too short the above steps"
   ]
  },
  {
   "cell_type": "markdown",
   "metadata": {},
   "source": [
    "## Remove records with junk alt text"
   ]
  },
  {
   "cell_type": "code",
   "execution_count": 44,
   "metadata": {
    "ExecuteTime": {
     "end_time": "2020-12-06T00:14:42.720101Z",
     "start_time": "2020-12-06T00:14:42.684579Z"
    }
   },
   "outputs": [
    {
     "data": {
      "text/plain": [
       "User report                                                                                                                                                                                                                                                                                                                                                             262\n",
       "Something went wrong                                                                                                                                                                                                                                                                                                                                                    248\n",
       "Discord Image                                                                                                                                                                                                                                                                                                                                                           150\n",
       "const pluckDeep = key => obj => key.split('.').reduce((accum, key) => accum[key], obj)\\n\\nconst compose = (...fns) => res => fns.reduce((accum, next) => next(accum), res)\\n\\nconst unfold = (f, seed) => {\\n  const go = (f, seed, acc) => {\\n    const res = f(seed)\\n    return res ? go(f, res[1], acc.concat([res[0]])) : acc\\n  }\\n  return go(f, seed, [])\\n}     34\n",
       "Score: 0 - Previous Direction: up                                                                                                                                                                                                                                                                                                                                        25\n",
       "Glitch Cat                                                                                                                                                                                                                                                                                                                                                               21\n",
       "Propulsé par l'api pokemon.alexonsager                                                                                                                                                                                                                                                                                                                                   17\n",
       "Name: alt_text, dtype: int64"
      ]
     },
     "execution_count": 44,
     "metadata": {},
     "output_type": "execute_result"
    }
   ],
   "source": [
    "# remove pre-populated, uninformative captions\n",
    "# which of these appear frequently?\n",
    "df_alt_text['alt_text'].value_counts().head(7)"
   ]
  },
  {
   "cell_type": "markdown",
   "metadata": {},
   "source": [
    "Interesting. It looks like most of these are junk, only one would be considered \"good\" alt text (brief, descriptive, natural language). Are they all the same image?"
   ]
  },
  {
   "cell_type": "code",
   "execution_count": 45,
   "metadata": {
    "ExecuteTime": {
     "end_time": "2020-12-06T00:14:42.770119Z",
     "start_time": "2020-12-06T00:14:42.732431Z"
    }
   },
   "outputs": [
    {
     "data": {
      "text/html": [
       "<div>\n",
       "<style scoped>\n",
       "    .dataframe tbody tr th:only-of-type {\n",
       "        vertical-align: middle;\n",
       "    }\n",
       "\n",
       "    .dataframe tbody tr th {\n",
       "        vertical-align: top;\n",
       "    }\n",
       "\n",
       "    .dataframe thead th {\n",
       "        text-align: right;\n",
       "    }\n",
       "</style>\n",
       "<table border=\"1\" class=\"dataframe\">\n",
       "  <thead>\n",
       "    <tr style=\"text-align: right;\">\n",
       "      <th></th>\n",
       "      <th>id</th>\n",
       "      <th>created_at</th>\n",
       "      <th>tweet_text</th>\n",
       "      <th>tweet_url</th>\n",
       "      <th>img_url</th>\n",
       "      <th>alt_text</th>\n",
       "      <th>media_type</th>\n",
       "    </tr>\n",
       "  </thead>\n",
       "  <tbody>\n",
       "    <tr>\n",
       "      <th>182004</th>\n",
       "      <td>1334180798027718658</td>\n",
       "      <td>2020-12-02 17:01:04</td>\n",
       "      <td>Congrats to $ALGO, the Biggest Green Dildo of ...</td>\n",
       "      <td>https://t.co/NEx3ZGT7fs</td>\n",
       "      <td>http://pbs.twimg.com/media/EoP2XSkW4AAlI7Y.png</td>\n",
       "      <td>Small flowers in a planter on a sunny balcony,...</td>\n",
       "      <td>photo</td>\n",
       "    </tr>\n",
       "    <tr>\n",
       "      <th>205463</th>\n",
       "      <td>1333833309126860800</td>\n",
       "      <td>2020-12-01 18:00:16</td>\n",
       "      <td>The Biggest Green Dildo of the Day: $SUSHI, +1...</td>\n",
       "      <td>https://t.co/vvaWqLUxtD</td>\n",
       "      <td>http://pbs.twimg.com/media/EoK6Uy-W4AI8aRj.png</td>\n",
       "      <td>Small flowers in a planter on a sunny balcony,...</td>\n",
       "      <td>photo</td>\n",
       "    </tr>\n",
       "    <tr>\n",
       "      <th>317926</th>\n",
       "      <td>1333607122202869762</td>\n",
       "      <td>2020-12-01 03:01:29</td>\n",
       "      <td>Congrats to $QNT, the Biggest Green Dildo of t...</td>\n",
       "      <td>https://t.co/umrX9p6dUD</td>\n",
       "      <td>http://pbs.twimg.com/media/EoHsm-YXMAAp7_h.png</td>\n",
       "      <td>Small flowers in a planter on a sunny balcony,...</td>\n",
       "      <td>photo</td>\n",
       "    </tr>\n",
       "    <tr>\n",
       "      <th>361878</th>\n",
       "      <td>1334331809526673408</td>\n",
       "      <td>2020-12-03 03:01:08</td>\n",
       "      <td>Congrats to $SUSHI, the Biggest Green Dildo of...</td>\n",
       "      <td>https://t.co/HuCaO3bKao</td>\n",
       "      <td>http://pbs.twimg.com/media/EoR_tV4W8AAJyqV.png</td>\n",
       "      <td>Small flowers in a planter on a sunny balcony,...</td>\n",
       "      <td>photo</td>\n",
       "    </tr>\n",
       "    <tr>\n",
       "      <th>595889</th>\n",
       "      <td>1334528062520758272</td>\n",
       "      <td>2020-12-03 16:00:59</td>\n",
       "      <td>Congrats to $AAVE, the Biggest Green Dildo of ...</td>\n",
       "      <td>https://t.co/RULWz9Y9A4</td>\n",
       "      <td>http://pbs.twimg.com/media/EoUyMxaXcAYKV4Z.png</td>\n",
       "      <td>Small flowers in a planter on a sunny balcony,...</td>\n",
       "      <td>photo</td>\n",
       "    </tr>\n",
       "    <tr>\n",
       "      <th>847141</th>\n",
       "      <td>1334377106093051904</td>\n",
       "      <td>2020-12-03 06:01:08</td>\n",
       "      <td>Congrats to $LUNA, the Biggest Green Dildo of ...</td>\n",
       "      <td>https://t.co/8hp5hJsbiw</td>\n",
       "      <td>http://pbs.twimg.com/media/EoSo58RW4AAs45r.png</td>\n",
       "      <td>Small flowers in a planter on a sunny balcony,...</td>\n",
       "      <td>photo</td>\n",
       "    </tr>\n",
       "    <tr>\n",
       "      <th>999454</th>\n",
       "      <td>1334361981638365185</td>\n",
       "      <td>2020-12-03 05:01:02</td>\n",
       "      <td>Congrats to $LUNA, the Biggest Green Dildo of ...</td>\n",
       "      <td>https://t.co/HIygT9Skbk</td>\n",
       "      <td>http://pbs.twimg.com/media/EoSbJhSXEAEMCRB.png</td>\n",
       "      <td>Small flowers in a planter on a sunny balcony,...</td>\n",
       "      <td>photo</td>\n",
       "    </tr>\n",
       "    <tr>\n",
       "      <th>1077086</th>\n",
       "      <td>1334663933802770435</td>\n",
       "      <td>2020-12-04 01:00:53</td>\n",
       "      <td>Congrats to $SC, the Biggest Green Dildo of th...</td>\n",
       "      <td>https://t.co/t66eg4BAsG</td>\n",
       "      <td>http://pbs.twimg.com/media/EoWtxfvXMAIiG3u.png</td>\n",
       "      <td>Small flowers in a planter on a sunny balcony,...</td>\n",
       "      <td>photo</td>\n",
       "    </tr>\n",
       "    <tr>\n",
       "      <th>1349512</th>\n",
       "      <td>1335026328890986496</td>\n",
       "      <td>2020-12-05 01:00:55</td>\n",
       "      <td>Congrats to $XEM, the Biggest Green Dildo of t...</td>\n",
       "      <td>https://t.co/dkYTU3OXYJ</td>\n",
       "      <td>http://pbs.twimg.com/media/Eob3XsEXcAURKgf.png</td>\n",
       "      <td>Small flowers in a planter on a sunny balcony,...</td>\n",
       "      <td>photo</td>\n",
       "    </tr>\n",
       "    <tr>\n",
       "      <th>1506586</th>\n",
       "      <td>1335011288058130436</td>\n",
       "      <td>2020-12-05 00:01:09</td>\n",
       "      <td>Congrats to $SC, the Biggest Green Dildo of th...</td>\n",
       "      <td>https://t.co/YG4DqP8aZf</td>\n",
       "      <td>http://pbs.twimg.com/media/EobpsLZXIAc21Ne.png</td>\n",
       "      <td>Small flowers in a planter on a sunny balcony,...</td>\n",
       "      <td>photo</td>\n",
       "    </tr>\n",
       "    <tr>\n",
       "      <th>1855721</th>\n",
       "      <td>1334724412919214080</td>\n",
       "      <td>2020-12-04 05:01:12</td>\n",
       "      <td>Congrats to $OMG, the Biggest Green Dildo of t...</td>\n",
       "      <td>https://t.co/1YGbiIR08l</td>\n",
       "      <td>http://pbs.twimg.com/media/EoXkx2IXMAExokS.png</td>\n",
       "      <td>Small flowers in a planter on a sunny balcony,...</td>\n",
       "      <td>photo</td>\n",
       "    </tr>\n",
       "    <tr>\n",
       "      <th>2017091</th>\n",
       "      <td>1334709328532615169</td>\n",
       "      <td>2020-12-04 04:01:16</td>\n",
       "      <td>Congrats to $QNT, the Biggest Green Dildo of t...</td>\n",
       "      <td>https://t.co/FrLE2ysMru</td>\n",
       "      <td>http://pbs.twimg.com/media/EoXXD1KW4AAKOxq.png</td>\n",
       "      <td>Small flowers in a planter on a sunny balcony,...</td>\n",
       "      <td>photo</td>\n",
       "    </tr>\n",
       "  </tbody>\n",
       "</table>\n",
       "</div>"
      ],
      "text/plain": [
       "                          id          created_at  \\\n",
       "182004   1334180798027718658 2020-12-02 17:01:04   \n",
       "205463   1333833309126860800 2020-12-01 18:00:16   \n",
       "317926   1333607122202869762 2020-12-01 03:01:29   \n",
       "361878   1334331809526673408 2020-12-03 03:01:08   \n",
       "595889   1334528062520758272 2020-12-03 16:00:59   \n",
       "847141   1334377106093051904 2020-12-03 06:01:08   \n",
       "999454   1334361981638365185 2020-12-03 05:01:02   \n",
       "1077086  1334663933802770435 2020-12-04 01:00:53   \n",
       "1349512  1335026328890986496 2020-12-05 01:00:55   \n",
       "1506586  1335011288058130436 2020-12-05 00:01:09   \n",
       "1855721  1334724412919214080 2020-12-04 05:01:12   \n",
       "2017091  1334709328532615169 2020-12-04 04:01:16   \n",
       "\n",
       "                                                tweet_text  \\\n",
       "182004   Congrats to $ALGO, the Biggest Green Dildo of ...   \n",
       "205463   The Biggest Green Dildo of the Day: $SUSHI, +1...   \n",
       "317926   Congrats to $QNT, the Biggest Green Dildo of t...   \n",
       "361878   Congrats to $SUSHI, the Biggest Green Dildo of...   \n",
       "595889   Congrats to $AAVE, the Biggest Green Dildo of ...   \n",
       "847141   Congrats to $LUNA, the Biggest Green Dildo of ...   \n",
       "999454   Congrats to $LUNA, the Biggest Green Dildo of ...   \n",
       "1077086  Congrats to $SC, the Biggest Green Dildo of th...   \n",
       "1349512  Congrats to $XEM, the Biggest Green Dildo of t...   \n",
       "1506586  Congrats to $SC, the Biggest Green Dildo of th...   \n",
       "1855721  Congrats to $OMG, the Biggest Green Dildo of t...   \n",
       "2017091  Congrats to $QNT, the Biggest Green Dildo of t...   \n",
       "\n",
       "                       tweet_url  \\\n",
       "182004   https://t.co/NEx3ZGT7fs   \n",
       "205463   https://t.co/vvaWqLUxtD   \n",
       "317926   https://t.co/umrX9p6dUD   \n",
       "361878   https://t.co/HuCaO3bKao   \n",
       "595889   https://t.co/RULWz9Y9A4   \n",
       "847141   https://t.co/8hp5hJsbiw   \n",
       "999454   https://t.co/HIygT9Skbk   \n",
       "1077086  https://t.co/t66eg4BAsG   \n",
       "1349512  https://t.co/dkYTU3OXYJ   \n",
       "1506586  https://t.co/YG4DqP8aZf   \n",
       "1855721  https://t.co/1YGbiIR08l   \n",
       "2017091  https://t.co/FrLE2ysMru   \n",
       "\n",
       "                                                img_url  \\\n",
       "182004   http://pbs.twimg.com/media/EoP2XSkW4AAlI7Y.png   \n",
       "205463   http://pbs.twimg.com/media/EoK6Uy-W4AI8aRj.png   \n",
       "317926   http://pbs.twimg.com/media/EoHsm-YXMAAp7_h.png   \n",
       "361878   http://pbs.twimg.com/media/EoR_tV4W8AAJyqV.png   \n",
       "595889   http://pbs.twimg.com/media/EoUyMxaXcAYKV4Z.png   \n",
       "847141   http://pbs.twimg.com/media/EoSo58RW4AAs45r.png   \n",
       "999454   http://pbs.twimg.com/media/EoSbJhSXEAEMCRB.png   \n",
       "1077086  http://pbs.twimg.com/media/EoWtxfvXMAIiG3u.png   \n",
       "1349512  http://pbs.twimg.com/media/Eob3XsEXcAURKgf.png   \n",
       "1506586  http://pbs.twimg.com/media/EobpsLZXIAc21Ne.png   \n",
       "1855721  http://pbs.twimg.com/media/EoXkx2IXMAExokS.png   \n",
       "2017091  http://pbs.twimg.com/media/EoXXD1KW4AAKOxq.png   \n",
       "\n",
       "                                                  alt_text media_type  \n",
       "182004   Small flowers in a planter on a sunny balcony,...      photo  \n",
       "205463   Small flowers in a planter on a sunny balcony,...      photo  \n",
       "317926   Small flowers in a planter on a sunny balcony,...      photo  \n",
       "361878   Small flowers in a planter on a sunny balcony,...      photo  \n",
       "595889   Small flowers in a planter on a sunny balcony,...      photo  \n",
       "847141   Small flowers in a planter on a sunny balcony,...      photo  \n",
       "999454   Small flowers in a planter on a sunny balcony,...      photo  \n",
       "1077086  Small flowers in a planter on a sunny balcony,...      photo  \n",
       "1349512  Small flowers in a planter on a sunny balcony,...      photo  \n",
       "1506586  Small flowers in a planter on a sunny balcony,...      photo  \n",
       "1855721  Small flowers in a planter on a sunny balcony,...      photo  \n",
       "2017091  Small flowers in a planter on a sunny balcony,...      photo  "
      ]
     },
     "execution_count": 45,
     "metadata": {},
     "output_type": "execute_result"
    }
   ],
   "source": [
    "df_alt_text[df_alt_text['alt_text']=='Small flowers in a planter on a sunny balcony, blossoming.']"
   ]
  },
  {
   "cell_type": "markdown",
   "metadata": {},
   "source": [
    "oooooohkay. Definitely not a good caption. Not sure why this image has such a mismatched alt text (these tweets look spammy), but hopefully this isn't too common in my dataset.\n",
    "\n",
    "Based on this, I'm going to make the assumption that any caption that's appearing more than once in my dataset is likely junk, and just get rid of all of those."
   ]
  },
  {
   "cell_type": "code",
   "execution_count": 46,
   "metadata": {
    "ExecuteTime": {
     "end_time": "2020-12-06T00:14:42.813993Z",
     "start_time": "2020-12-06T00:14:42.778532Z"
    }
   },
   "outputs": [
    {
     "data": {
      "text/plain": [
       "(4881, 7)"
      ]
     },
     "execution_count": 46,
     "metadata": {},
     "output_type": "execute_result"
    }
   ],
   "source": [
    "vc = df_alt_text['alt_text'].value_counts()\n",
    "recurrent_alt_texts = list(vc[vc > 1].index)\n",
    "df_alt_text = df_alt_text[~df_alt_text['alt_text'].isin(recurrent_alt_texts)]\n",
    "df_alt_text.shape"
   ]
  },
  {
   "cell_type": "markdown",
   "metadata": {},
   "source": [
    "## Remove images of text\n",
    "For V1, I'm going to identify/remove records based on keywords in the alt text that indicate that text is an important part of the image. \n",
    "\n",
    "A future version could use OCR, although I think I do want to keep images where text is a small part of the image (eg small caption), so it would ideally be an implementation like `if text area < 15% of total then keep`."
   ]
  },
  {
   "cell_type": "code",
   "execution_count": 47,
   "metadata": {
    "ExecuteTime": {
     "end_time": "2020-12-06T00:14:43.213712Z",
     "start_time": "2020-12-06T00:14:42.819004Z"
    },
    "scrolled": false
   },
   "outputs": [
    {
     "data": {
      "text/html": [
       "<div>\n",
       "<style scoped>\n",
       "    .dataframe tbody tr th:only-of-type {\n",
       "        vertical-align: middle;\n",
       "    }\n",
       "\n",
       "    .dataframe tbody tr th {\n",
       "        vertical-align: top;\n",
       "    }\n",
       "\n",
       "    .dataframe thead th {\n",
       "        text-align: right;\n",
       "    }\n",
       "</style>\n",
       "<table border=\"1\" class=\"dataframe\">\n",
       "  <thead>\n",
       "    <tr style=\"text-align: right;\">\n",
       "      <th></th>\n",
       "      <th>id</th>\n",
       "      <th>created_at</th>\n",
       "      <th>tweet_text</th>\n",
       "      <th>tweet_url</th>\n",
       "      <th>img_url</th>\n",
       "      <th>alt_text</th>\n",
       "      <th>media_type</th>\n",
       "    </tr>\n",
       "  </thead>\n",
       "  <tbody>\n",
       "    <tr>\n",
       "      <th>1574741</th>\n",
       "      <td>1335004955267248128</td>\n",
       "      <td>2020-12-04 23:35:59</td>\n",
       "      <td>notnsure how i keep doing this https://t.co/jk...</td>\n",
       "      <td>https://t.co/jk0grVdHEg</td>\n",
       "      <td>http://pbs.twimg.com/media/Eobj7klW8AgiEqH.jpg</td>\n",
       "      <td>cap of soa</td>\n",
       "      <td>photo</td>\n",
       "    </tr>\n",
       "    <tr>\n",
       "      <th>1519649</th>\n",
       "      <td>1335010158842417152</td>\n",
       "      <td>2020-12-04 23:56:39</td>\n",
       "      <td>@cesurarts AY PLEASE PLEASE MAKE MORE OF IT ht...</td>\n",
       "      <td>https://t.co/ApToxa2Y1B</td>\n",
       "      <td>http://pbs.twimg.com/media/EoboqcyXYAAqAgm.jpg</td>\n",
       "      <td>KAEYA SUPREMACY</td>\n",
       "      <td>photo</td>\n",
       "    </tr>\n",
       "    <tr>\n",
       "      <th>2116275</th>\n",
       "      <td>1334700548444934146</td>\n",
       "      <td>2020-12-04 03:26:22</td>\n",
       "      <td>The timeless elegance of premium cotton in whi...</td>\n",
       "      <td>https://t.co/Lof23iKumU</td>\n",
       "      <td>http://pbs.twimg.com/media/EoXO_JvUUAEDhyJ.jpg</td>\n",
       "      <td>white premium cotton katun warna putih sprei d...</td>\n",
       "      <td>photo</td>\n",
       "    </tr>\n",
       "    <tr>\n",
       "      <th>357013</th>\n",
       "      <td>1334332172509962241</td>\n",
       "      <td>2020-12-03 03:02:35</td>\n",
       "      <td>@fredbauerblog The Associated Press wire: http...</td>\n",
       "      <td>https://t.co/fbznIacymf</td>\n",
       "      <td>http://pbs.twimg.com/media/EoR_5gwUwAERMhi.jpg</td>\n",
       "      <td>search results for hr1044 from the AP</td>\n",
       "      <td>photo</td>\n",
       "    </tr>\n",
       "    <tr>\n",
       "      <th>997110</th>\n",
       "      <td>1334362205001814017</td>\n",
       "      <td>2020-12-03 05:01:55</td>\n",
       "      <td>@dilfiplier www.etsy/shop/fabulousfidgets\" htt...</td>\n",
       "      <td>https://t.co/G3I2XczzFu</td>\n",
       "      <td>http://pbs.twimg.com/media/EoSbUyjW4AEtT_q.jpg</td>\n",
       "      <td>a photo of a chew necklace with a business car...</td>\n",
       "      <td>photo</td>\n",
       "    </tr>\n",
       "    <tr>\n",
       "      <th>725941</th>\n",
       "      <td>1334520424647057410</td>\n",
       "      <td>2020-12-03 15:30:38</td>\n",
       "      <td>wait imagine phil bought a beard wig like jenn...</td>\n",
       "      <td>https://t.co/HoKHz1zyJK</td>\n",
       "      <td>http://pbs.twimg.com/media/EoUrP6QXIAEFxqc.jpg</td>\n",
       "      <td>jenna marbles in a long beard wig with long ha...</td>\n",
       "      <td>photo</td>\n",
       "    </tr>\n",
       "    <tr>\n",
       "      <th>2403282</th>\n",
       "      <td>1333221307836579842</td>\n",
       "      <td>2020-11-30 01:28:24</td>\n",
       "      <td>Automated business tax lodgements from https:/...</td>\n",
       "      <td>https://t.co/uF0ifFPWgy</td>\n",
       "      <td>http://pbs.twimg.com/media/EoCNdnZUYAQGugm.jpg</td>\n",
       "      <td>Automated business tax lodgements</td>\n",
       "      <td>photo</td>\n",
       "    </tr>\n",
       "    <tr>\n",
       "      <th>124705</th>\n",
       "      <td>1334184415510065165</td>\n",
       "      <td>2020-12-02 17:15:27</td>\n",
       "      <td>The cozy set is so cozy and cute I love it\\n#r...</td>\n",
       "      <td>https://t.co/c5u1iSOHnr</td>\n",
       "      <td>http://pbs.twimg.com/media/EoP5eoRWEAMXEOU.png</td>\n",
       "      <td>Wearing the Cozy set with my friend Zack</td>\n",
       "      <td>photo</td>\n",
       "    </tr>\n",
       "    <tr>\n",
       "      <th>421667</th>\n",
       "      <td>1334326481682640898</td>\n",
       "      <td>2020-12-03 02:39:58</td>\n",
       "      <td>They're #BringingBackBilly and now I can be ha...</td>\n",
       "      <td>https://t.co/Tlr0ShdvfI</td>\n",
       "      <td>http://pbs.twimg.com/media/EoR6zWnXEAATxM-.jpg</td>\n",
       "      <td>DePaul CPA Patch with Billy Blue Demon</td>\n",
       "      <td>photo</td>\n",
       "    </tr>\n",
       "    <tr>\n",
       "      <th>1487210</th>\n",
       "      <td>1335013060554190860</td>\n",
       "      <td>2020-12-05 00:08:11</td>\n",
       "      <td>Day 4 is GOOD. Gouda is gentle and the Mediter...</td>\n",
       "      <td>https://t.co/zvT2qL4ps3</td>\n",
       "      <td>http://pbs.twimg.com/media/EobrTXRXMAE08KN.jpg</td>\n",
       "      <td>A small square of Mediterranean gouda</td>\n",
       "      <td>photo</td>\n",
       "    </tr>\n",
       "  </tbody>\n",
       "</table>\n",
       "</div>"
      ],
      "text/plain": [
       "                          id          created_at  \\\n",
       "1574741  1335004955267248128 2020-12-04 23:35:59   \n",
       "1519649  1335010158842417152 2020-12-04 23:56:39   \n",
       "2116275  1334700548444934146 2020-12-04 03:26:22   \n",
       "357013   1334332172509962241 2020-12-03 03:02:35   \n",
       "997110   1334362205001814017 2020-12-03 05:01:55   \n",
       "725941   1334520424647057410 2020-12-03 15:30:38   \n",
       "2403282  1333221307836579842 2020-11-30 01:28:24   \n",
       "124705   1334184415510065165 2020-12-02 17:15:27   \n",
       "421667   1334326481682640898 2020-12-03 02:39:58   \n",
       "1487210  1335013060554190860 2020-12-05 00:08:11   \n",
       "\n",
       "                                                tweet_text  \\\n",
       "1574741  notnsure how i keep doing this https://t.co/jk...   \n",
       "1519649  @cesurarts AY PLEASE PLEASE MAKE MORE OF IT ht...   \n",
       "2116275  The timeless elegance of premium cotton in whi...   \n",
       "357013   @fredbauerblog The Associated Press wire: http...   \n",
       "997110   @dilfiplier www.etsy/shop/fabulousfidgets\" htt...   \n",
       "725941   wait imagine phil bought a beard wig like jenn...   \n",
       "2403282  Automated business tax lodgements from https:/...   \n",
       "124705   The cozy set is so cozy and cute I love it\\n#r...   \n",
       "421667   They're #BringingBackBilly and now I can be ha...   \n",
       "1487210  Day 4 is GOOD. Gouda is gentle and the Mediter...   \n",
       "\n",
       "                       tweet_url  \\\n",
       "1574741  https://t.co/jk0grVdHEg   \n",
       "1519649  https://t.co/ApToxa2Y1B   \n",
       "2116275  https://t.co/Lof23iKumU   \n",
       "357013   https://t.co/fbznIacymf   \n",
       "997110   https://t.co/G3I2XczzFu   \n",
       "725941   https://t.co/HoKHz1zyJK   \n",
       "2403282  https://t.co/uF0ifFPWgy   \n",
       "124705   https://t.co/c5u1iSOHnr   \n",
       "421667   https://t.co/Tlr0ShdvfI   \n",
       "1487210  https://t.co/zvT2qL4ps3   \n",
       "\n",
       "                                                img_url  \\\n",
       "1574741  http://pbs.twimg.com/media/Eobj7klW8AgiEqH.jpg   \n",
       "1519649  http://pbs.twimg.com/media/EoboqcyXYAAqAgm.jpg   \n",
       "2116275  http://pbs.twimg.com/media/EoXO_JvUUAEDhyJ.jpg   \n",
       "357013   http://pbs.twimg.com/media/EoR_5gwUwAERMhi.jpg   \n",
       "997110   http://pbs.twimg.com/media/EoSbUyjW4AEtT_q.jpg   \n",
       "725941   http://pbs.twimg.com/media/EoUrP6QXIAEFxqc.jpg   \n",
       "2403282  http://pbs.twimg.com/media/EoCNdnZUYAQGugm.jpg   \n",
       "124705   http://pbs.twimg.com/media/EoP5eoRWEAMXEOU.png   \n",
       "421667   http://pbs.twimg.com/media/EoR6zWnXEAATxM-.jpg   \n",
       "1487210  http://pbs.twimg.com/media/EobrTXRXMAE08KN.jpg   \n",
       "\n",
       "                                                  alt_text media_type  \n",
       "1574741                                         cap of soa      photo  \n",
       "1519649                                    KAEYA SUPREMACY      photo  \n",
       "2116275  white premium cotton katun warna putih sprei d...      photo  \n",
       "357013               search results for hr1044 from the AP      photo  \n",
       "997110   a photo of a chew necklace with a business car...      photo  \n",
       "725941   jenna marbles in a long beard wig with long ha...      photo  \n",
       "2403282                  Automated business tax lodgements      photo  \n",
       "124705            Wearing the Cozy set with my friend Zack      photo  \n",
       "421667              DePaul CPA Patch with Billy Blue Demon      photo  \n",
       "1487210              A small square of Mediterranean gouda      photo  "
      ]
     },
     "execution_count": 47,
     "metadata": {},
     "output_type": "execute_result"
    }
   ],
   "source": [
    "text_keywords = ['reads','says','text','screenshot','\\n','screen shot', 'screencap','screen cap','labeled',\n",
    "                 'username','tweet', 'twitter', 'article', 'receipt',':','-','png','jpg','jpeg','metadata',\n",
    "                 '@','#','.com','success by','bytes','json', 'success from']\n",
    "\n",
    "\n",
    "df_alt_text = df_alt_text[~df_alt_text['alt_text'].apply(lambda r: any([kw in r.lower() for kw in text_keywords]))]\n",
    "df_alt_text.sample(10)"
   ]
  },
  {
   "cell_type": "code",
   "execution_count": 48,
   "metadata": {
    "ExecuteTime": {
     "end_time": "2020-12-06T00:14:43.239122Z",
     "start_time": "2020-12-06T00:14:43.217018Z"
    }
   },
   "outputs": [
    {
     "data": {
      "text/plain": [
       "(3005, 7)"
      ]
     },
     "execution_count": 48,
     "metadata": {},
     "output_type": "execute_result"
    }
   ],
   "source": [
    "df_alt_text.shape"
   ]
  },
  {
   "cell_type": "code",
   "execution_count": 49,
   "metadata": {
    "ExecuteTime": {
     "end_time": "2020-12-06T00:14:43.272211Z",
     "start_time": "2020-12-06T00:14:43.249406Z"
    }
   },
   "outputs": [
    {
     "data": {
      "text/plain": [
       "Timestamp('2020-12-05 01:53:43')"
      ]
     },
     "execution_count": 49,
     "metadata": {},
     "output_type": "execute_result"
    }
   ],
   "source": [
    "df['created_at'].max()"
   ]
  },
  {
   "cell_type": "code",
   "execution_count": 50,
   "metadata": {
    "ExecuteTime": {
     "end_time": "2020-12-06T00:14:43.348610Z",
     "start_time": "2020-12-06T00:14:43.277711Z"
    }
   },
   "outputs": [
    {
     "data": {
      "text/html": [
       "<div>\n",
       "<style scoped>\n",
       "    .dataframe tbody tr th:only-of-type {\n",
       "        vertical-align: middle;\n",
       "    }\n",
       "\n",
       "    .dataframe tbody tr th {\n",
       "        vertical-align: top;\n",
       "    }\n",
       "\n",
       "    .dataframe thead th {\n",
       "        text-align: right;\n",
       "    }\n",
       "</style>\n",
       "<table border=\"1\" class=\"dataframe\">\n",
       "  <thead>\n",
       "    <tr style=\"text-align: right;\">\n",
       "      <th></th>\n",
       "      <th>id</th>\n",
       "      <th>created_at</th>\n",
       "      <th>tweet_text</th>\n",
       "      <th>tweet_url</th>\n",
       "      <th>img_url</th>\n",
       "      <th>alt_text</th>\n",
       "      <th>media_type</th>\n",
       "    </tr>\n",
       "  </thead>\n",
       "  <tbody>\n",
       "    <tr>\n",
       "      <th>727625</th>\n",
       "      <td>1334520331634139137</td>\n",
       "      <td>2020-12-03 15:30:15</td>\n",
       "      <td>The perfect warning button to wear this holida...</td>\n",
       "      <td>https://t.co/EuARlHrE0b</td>\n",
       "      <td>http://pbs.twimg.com/media/EoUrKpZXEAA2rJX.jpg</td>\n",
       "      <td>A pinback button with an illustration of a sna...</td>\n",
       "      <td>photo</td>\n",
       "    </tr>\n",
       "    <tr>\n",
       "      <th>410466</th>\n",
       "      <td>1334327489959657473</td>\n",
       "      <td>2020-12-03 02:43:58</td>\n",
       "      <td>This big goofus is doing his best to cheer me ...</td>\n",
       "      <td>https://t.co/ZTUBp9QDyt</td>\n",
       "      <td>http://pbs.twimg.com/media/EoR7x7CVQAAso_S.jpg</td>\n",
       "      <td>A flame point medium haired cat</td>\n",
       "      <td>photo</td>\n",
       "    </tr>\n",
       "    <tr>\n",
       "      <th>1776099</th>\n",
       "      <td>1333575419765944320</td>\n",
       "      <td>2020-12-01 00:55:31</td>\n",
       "      <td>y'all: https://t.co/hw6UuMmZ5H</td>\n",
       "      <td>https://t.co/hw6UuMmZ5H</td>\n",
       "      <td>http://pbs.twimg.com/media/EoHPxitW8AA3jce.jpg</td>\n",
       "      <td>Image of Sue Sylvester edited to read \"I am go...</td>\n",
       "      <td>photo</td>\n",
       "    </tr>\n",
       "    <tr>\n",
       "      <th>1758168</th>\n",
       "      <td>1333879553270407170</td>\n",
       "      <td>2020-12-01 21:04:02</td>\n",
       "      <td>God, I miss Monterey in the Spring time. \\n\\n#...</td>\n",
       "      <td>https://t.co/dQKnT5VFsO</td>\n",
       "      <td>http://pbs.twimg.com/media/EoLkYnUW4AQoPto.jpg</td>\n",
       "      <td>Monterey.</td>\n",
       "      <td>photo</td>\n",
       "    </tr>\n",
       "    <tr>\n",
       "      <th>1948438</th>\n",
       "      <td>1334715676548759552</td>\n",
       "      <td>2020-12-04 04:26:29</td>\n",
       "      <td>Moon Spooky 👀 https://t.co/N72JtnEo5k</td>\n",
       "      <td>https://t.co/N72JtnEo5k</td>\n",
       "      <td>http://pbs.twimg.com/media/EoXc1O3U8AIt-cm.jpg</td>\n",
       "      <td>Image of the moon with clouds over it</td>\n",
       "      <td>photo</td>\n",
       "    </tr>\n",
       "    <tr>\n",
       "      <th>2330682</th>\n",
       "      <td>1334262549324427264</td>\n",
       "      <td>2020-12-02 22:25:55</td>\n",
       "      <td>It’s beginning to look a lot like Christmas 🎶🎅...</td>\n",
       "      <td>https://t.co/Ci77JJOsAp</td>\n",
       "      <td>http://pbs.twimg.com/media/EoRAsyyXEAAuW5Y.jpg</td>\n",
       "      <td>Bedfont Green Dental Practice 2020 Christmas T...</td>\n",
       "      <td>photo</td>\n",
       "    </tr>\n",
       "    <tr>\n",
       "      <th>1888590</th>\n",
       "      <td>1334721366814126081</td>\n",
       "      <td>2020-12-04 04:49:06</td>\n",
       "      <td>Hi friend iam shrikant kulat \\nPlease help me ...</td>\n",
       "      <td>https://t.co/4GKIyIrvNM</td>\n",
       "      <td>http://pbs.twimg.com/media/EoXh7TqVEAAK0oR.jpg</td>\n",
       "      <td>My you tub channel logo</td>\n",
       "      <td>photo</td>\n",
       "    </tr>\n",
       "    <tr>\n",
       "      <th>663966</th>\n",
       "      <td>1334524169313280000</td>\n",
       "      <td>2020-12-03 15:45:30</td>\n",
       "      <td>@justintrimble roadmap..\\n\\n#btcoffensive http...</td>\n",
       "      <td>https://t.co/xJrzr7Q5A5</td>\n",
       "      <td>http://pbs.twimg.com/media/EoUuVIgXUAYEkLt.jpg</td>\n",
       "      <td>Alien Ether, 2016?</td>\n",
       "      <td>photo</td>\n",
       "    </tr>\n",
       "    <tr>\n",
       "      <th>1899716</th>\n",
       "      <td>1334720299649146880</td>\n",
       "      <td>2020-12-04 04:44:51</td>\n",
       "      <td>lotta talk lately about din wielding the darks...</td>\n",
       "      <td>https://t.co/I4Bnbpw1Ld</td>\n",
       "      <td>http://pbs.twimg.com/media/EoXhCIpXIAAHacK.jpg</td>\n",
       "      <td>sketch of the mandalorian holding the darksabe...</td>\n",
       "      <td>photo</td>\n",
       "    </tr>\n",
       "    <tr>\n",
       "      <th>746884</th>\n",
       "      <td>1334519173372928007</td>\n",
       "      <td>2020-12-03 15:25:39</td>\n",
       "      <td>On this day in 1973, Pioneer 10 became the fir...</td>\n",
       "      <td>https://t.co/7B7QEwH1Br</td>\n",
       "      <td>http://pbs.twimg.com/media/EoUqHR3W8AQ691-.jpg</td>\n",
       "      <td>Artist rendering of Pioneer spacecraft flying ...</td>\n",
       "      <td>photo</td>\n",
       "    </tr>\n",
       "  </tbody>\n",
       "</table>\n",
       "</div>"
      ],
      "text/plain": [
       "                          id          created_at  \\\n",
       "727625   1334520331634139137 2020-12-03 15:30:15   \n",
       "410466   1334327489959657473 2020-12-03 02:43:58   \n",
       "1776099  1333575419765944320 2020-12-01 00:55:31   \n",
       "1758168  1333879553270407170 2020-12-01 21:04:02   \n",
       "1948438  1334715676548759552 2020-12-04 04:26:29   \n",
       "2330682  1334262549324427264 2020-12-02 22:25:55   \n",
       "1888590  1334721366814126081 2020-12-04 04:49:06   \n",
       "663966   1334524169313280000 2020-12-03 15:45:30   \n",
       "1899716  1334720299649146880 2020-12-04 04:44:51   \n",
       "746884   1334519173372928007 2020-12-03 15:25:39   \n",
       "\n",
       "                                                tweet_text  \\\n",
       "727625   The perfect warning button to wear this holida...   \n",
       "410466   This big goofus is doing his best to cheer me ...   \n",
       "1776099                     y'all: https://t.co/hw6UuMmZ5H   \n",
       "1758168  God, I miss Monterey in the Spring time. \\n\\n#...   \n",
       "1948438              Moon Spooky 👀 https://t.co/N72JtnEo5k   \n",
       "2330682  It’s beginning to look a lot like Christmas 🎶🎅...   \n",
       "1888590  Hi friend iam shrikant kulat \\nPlease help me ...   \n",
       "663966   @justintrimble roadmap..\\n\\n#btcoffensive http...   \n",
       "1899716  lotta talk lately about din wielding the darks...   \n",
       "746884   On this day in 1973, Pioneer 10 became the fir...   \n",
       "\n",
       "                       tweet_url  \\\n",
       "727625   https://t.co/EuARlHrE0b   \n",
       "410466   https://t.co/ZTUBp9QDyt   \n",
       "1776099  https://t.co/hw6UuMmZ5H   \n",
       "1758168  https://t.co/dQKnT5VFsO   \n",
       "1948438  https://t.co/N72JtnEo5k   \n",
       "2330682  https://t.co/Ci77JJOsAp   \n",
       "1888590  https://t.co/4GKIyIrvNM   \n",
       "663966   https://t.co/xJrzr7Q5A5   \n",
       "1899716  https://t.co/I4Bnbpw1Ld   \n",
       "746884   https://t.co/7B7QEwH1Br   \n",
       "\n",
       "                                                img_url  \\\n",
       "727625   http://pbs.twimg.com/media/EoUrKpZXEAA2rJX.jpg   \n",
       "410466   http://pbs.twimg.com/media/EoR7x7CVQAAso_S.jpg   \n",
       "1776099  http://pbs.twimg.com/media/EoHPxitW8AA3jce.jpg   \n",
       "1758168  http://pbs.twimg.com/media/EoLkYnUW4AQoPto.jpg   \n",
       "1948438  http://pbs.twimg.com/media/EoXc1O3U8AIt-cm.jpg   \n",
       "2330682  http://pbs.twimg.com/media/EoRAsyyXEAAuW5Y.jpg   \n",
       "1888590  http://pbs.twimg.com/media/EoXh7TqVEAAK0oR.jpg   \n",
       "663966   http://pbs.twimg.com/media/EoUuVIgXUAYEkLt.jpg   \n",
       "1899716  http://pbs.twimg.com/media/EoXhCIpXIAAHacK.jpg   \n",
       "746884   http://pbs.twimg.com/media/EoUqHR3W8AQ691-.jpg   \n",
       "\n",
       "                                                  alt_text media_type  \n",
       "727625   A pinback button with an illustration of a sna...      photo  \n",
       "410466                     A flame point medium haired cat      photo  \n",
       "1776099  Image of Sue Sylvester edited to read \"I am go...      photo  \n",
       "1758168                                          Monterey.      photo  \n",
       "1948438              Image of the moon with clouds over it      photo  \n",
       "2330682  Bedfont Green Dental Practice 2020 Christmas T...      photo  \n",
       "1888590                            My you tub channel logo      photo  \n",
       "663966                                  Alien Ether, 2016?      photo  \n",
       "1899716  sketch of the mandalorian holding the darksabe...      photo  \n",
       "746884   Artist rendering of Pioneer spacecraft flying ...      photo  "
      ]
     },
     "execution_count": 50,
     "metadata": {},
     "output_type": "execute_result"
    }
   ],
   "source": [
    "df_alt_text.sample(10)"
   ]
  },
  {
   "cell_type": "markdown",
   "metadata": {},
   "source": [
    "## Lowercase and remove punctuation"
   ]
  },
  {
   "cell_type": "code",
   "execution_count": 51,
   "metadata": {
    "ExecuteTime": {
     "end_time": "2020-12-06T00:14:43.356144Z",
     "start_time": "2020-12-06T00:14:43.351940Z"
    }
   },
   "outputs": [],
   "source": [
    "import re\n",
    "import string"
   ]
  },
  {
   "cell_type": "code",
   "execution_count": 52,
   "metadata": {
    "ExecuteTime": {
     "end_time": "2020-12-06T00:14:43.366121Z",
     "start_time": "2020-12-06T00:14:43.361079Z"
    }
   },
   "outputs": [],
   "source": [
    "# # preprocess text\n",
    "\n",
    "# text = \" \".join(caption for caption in df_alt_text['alt_text']).lower()\n",
    "# # remove punctuation\n",
    "# text = re.sub(r'[^\\w]', ' ',text)\n",
    "# # remove numbers\n",
    "# text = re.sub('\\w*\\d\\w*', ' ',text)"
   ]
  },
  {
   "cell_type": "code",
   "execution_count": 53,
   "metadata": {
    "ExecuteTime": {
     "end_time": "2020-12-06T00:14:43.388682Z",
     "start_time": "2020-12-06T00:14:43.380826Z"
    }
   },
   "outputs": [],
   "source": [
    "# text = \" \".join(caption for caption in df_alt_text['alt_text']).lower()\n",
    "# text = \"\".join(filter(str.isalpha(),text))\n",
    "# text[:30]"
   ]
  },
  {
   "cell_type": "code",
   "execution_count": 54,
   "metadata": {
    "ExecuteTime": {
     "end_time": "2020-12-06T00:14:43.394577Z",
     "start_time": "2020-12-06T00:14:43.391927Z"
    }
   },
   "outputs": [],
   "source": [
    "# text = \" \".join(caption for caption in df_alt_text['alt_text']).lower()\n",
    "# text = re.sub(r'[^a-zA-Z]',' ',text)\n",
    "# text[:500]"
   ]
  },
  {
   "cell_type": "code",
   "execution_count": 55,
   "metadata": {
    "ExecuteTime": {
     "end_time": "2020-12-06T00:14:43.511351Z",
     "start_time": "2020-12-06T00:14:43.413276Z"
    }
   },
   "outputs": [
    {
     "data": {
      "text/html": [
       "<div>\n",
       "<style scoped>\n",
       "    .dataframe tbody tr th:only-of-type {\n",
       "        vertical-align: middle;\n",
       "    }\n",
       "\n",
       "    .dataframe tbody tr th {\n",
       "        vertical-align: top;\n",
       "    }\n",
       "\n",
       "    .dataframe thead th {\n",
       "        text-align: right;\n",
       "    }\n",
       "</style>\n",
       "<table border=\"1\" class=\"dataframe\">\n",
       "  <thead>\n",
       "    <tr style=\"text-align: right;\">\n",
       "      <th></th>\n",
       "      <th>id</th>\n",
       "      <th>created_at</th>\n",
       "      <th>tweet_text</th>\n",
       "      <th>tweet_url</th>\n",
       "      <th>img_url</th>\n",
       "      <th>alt_text</th>\n",
       "      <th>media_type</th>\n",
       "      <th>alt_text_clean</th>\n",
       "    </tr>\n",
       "  </thead>\n",
       "  <tbody>\n",
       "    <tr>\n",
       "      <th>2399976</th>\n",
       "      <td>1333221620630994944</td>\n",
       "      <td>2020-11-30 01:29:39</td>\n",
       "      <td>Sadtember, Octrouble, Lovember, and then I Dre...</td>\n",
       "      <td>https://t.co/7Um4q5CvIK</td>\n",
       "      <td>http://pbs.twimg.com/media/EoCN-hZUYAARv0g.jpg</td>\n",
       "      <td>Lovember playlist</td>\n",
       "      <td>photo</td>\n",
       "      <td>lovember playlist</td>\n",
       "    </tr>\n",
       "    <tr>\n",
       "      <th>498137</th>\n",
       "      <td>1334533581113188353</td>\n",
       "      <td>2020-12-03 16:22:54</td>\n",
       "      <td>@bts_bighit niceeee theme😙💜 https://t.co/2TWTf...</td>\n",
       "      <td>https://t.co/2TWTfq1HGP</td>\n",
       "      <td>http://pbs.twimg.com/media/EoU3NgNU0AILyJU.jpg</td>\n",
       "      <td>i like the theme🤧💜</td>\n",
       "      <td>photo</td>\n",
       "      <td>i like the theme</td>\n",
       "    </tr>\n",
       "  </tbody>\n",
       "</table>\n",
       "</div>"
      ],
      "text/plain": [
       "                          id          created_at  \\\n",
       "2399976  1333221620630994944 2020-11-30 01:29:39   \n",
       "498137   1334533581113188353 2020-12-03 16:22:54   \n",
       "\n",
       "                                                tweet_text  \\\n",
       "2399976  Sadtember, Octrouble, Lovember, and then I Dre...   \n",
       "498137   @bts_bighit niceeee theme😙💜 https://t.co/2TWTf...   \n",
       "\n",
       "                       tweet_url  \\\n",
       "2399976  https://t.co/7Um4q5CvIK   \n",
       "498137   https://t.co/2TWTfq1HGP   \n",
       "\n",
       "                                                img_url            alt_text  \\\n",
       "2399976  http://pbs.twimg.com/media/EoCN-hZUYAARv0g.jpg   Lovember playlist   \n",
       "498137   http://pbs.twimg.com/media/EoU3NgNU0AILyJU.jpg  i like the theme🤧💜   \n",
       "\n",
       "        media_type     alt_text_clean  \n",
       "2399976      photo  lovember playlist  \n",
       "498137       photo   i like the theme  "
      ]
     },
     "execution_count": 55,
     "metadata": {},
     "output_type": "execute_result"
    }
   ],
   "source": [
    "df_alt_text['alt_text_clean'] = df_alt_text['alt_text'].str.replace('[^a-zA-Z ]+', '').str.lower()\n",
    "df_alt_text.sample(2)"
   ]
  },
  {
   "cell_type": "code",
   "execution_count": 56,
   "metadata": {
    "ExecuteTime": {
     "end_time": "2020-12-06T00:16:18.345624Z",
     "start_time": "2020-12-06T00:14:43.514457Z"
    }
   },
   "outputs": [],
   "source": [
    "words = nltk.corpus.words.words()\n",
    "df_alt_text['alt_text_cleaner'] = [' '.join(y for y in x.split() if y in words) for x in df_alt_text['alt_text_clean']]\n",
    "#df_alt_text['alt_text_cleaner'] = [word for word in df_alt_text['alt_text_clean'].str.split() if word in words]"
   ]
  },
  {
   "cell_type": "code",
   "execution_count": 57,
   "metadata": {
    "ExecuteTime": {
     "end_time": "2020-12-06T00:16:18.359462Z",
     "start_time": "2020-12-06T00:16:18.347356Z"
    }
   },
   "outputs": [
    {
     "data": {
      "text/html": [
       "<div>\n",
       "<style scoped>\n",
       "    .dataframe tbody tr th:only-of-type {\n",
       "        vertical-align: middle;\n",
       "    }\n",
       "\n",
       "    .dataframe tbody tr th {\n",
       "        vertical-align: top;\n",
       "    }\n",
       "\n",
       "    .dataframe thead th {\n",
       "        text-align: right;\n",
       "    }\n",
       "</style>\n",
       "<table border=\"1\" class=\"dataframe\">\n",
       "  <thead>\n",
       "    <tr style=\"text-align: right;\">\n",
       "      <th></th>\n",
       "      <th>id</th>\n",
       "      <th>created_at</th>\n",
       "      <th>tweet_text</th>\n",
       "      <th>tweet_url</th>\n",
       "      <th>img_url</th>\n",
       "      <th>alt_text</th>\n",
       "      <th>media_type</th>\n",
       "      <th>alt_text_clean</th>\n",
       "      <th>alt_text_cleaner</th>\n",
       "    </tr>\n",
       "  </thead>\n",
       "  <tbody>\n",
       "    <tr>\n",
       "      <th>747</th>\n",
       "      <td>1333857393801891842</td>\n",
       "      <td>2020-12-01 19:35:59</td>\n",
       "      <td>@Hallmark I just wanted to buy stuff, not be a...</td>\n",
       "      <td>https://t.co/H617bRVeCV</td>\n",
       "      <td>http://pbs.twimg.com/media/EoLQOiKXYAY52gk.jpg</td>\n",
       "      <td>I’ve never met a more hostile pinecone in my life</td>\n",
       "      <td>photo</td>\n",
       "      <td>ive never met a more hostile pinecone in my life</td>\n",
       "      <td>never met a more hostile in my life</td>\n",
       "    </tr>\n",
       "    <tr>\n",
       "      <th>1003</th>\n",
       "      <td>1333857368677859329</td>\n",
       "      <td>2020-12-01 19:35:53</td>\n",
       "      <td>Happy for Elliot Page, and also relieved https...</td>\n",
       "      <td>https://t.co/RUF0l6aYTT</td>\n",
       "      <td>http://pbs.twimg.com/media/EoLNBYeW8AANYfE.png</td>\n",
       "      <td>Under \"Trends for Portland, United States,\" \"E...</td>\n",
       "      <td>photo</td>\n",
       "      <td>under trends for portland united states elliot...</td>\n",
       "      <td>under for united is listed as no</td>\n",
       "    </tr>\n",
       "    <tr>\n",
       "      <th>2032</th>\n",
       "      <td>1333857294115889154</td>\n",
       "      <td>2020-12-01 19:35:35</td>\n",
       "      <td>I have been doing some color-coding lately. ht...</td>\n",
       "      <td>https://t.co/J0ZU1oCgMI</td>\n",
       "      <td>http://pbs.twimg.com/media/EoLQFU5XIAUta9w.jpg</td>\n",
       "      <td>An Atreus keyboard with multi color keys.</td>\n",
       "      <td>photo</td>\n",
       "      <td>an atreus keyboard with multi color keys</td>\n",
       "      <td>an keyboard with color</td>\n",
       "    </tr>\n",
       "    <tr>\n",
       "      <th>2117</th>\n",
       "      <td>1333857290345123844</td>\n",
       "      <td>2020-12-01 19:35:34</td>\n",
       "      <td>'Hats off' to 'mask on'! \\n\\n📸: lailucien (IG)...</td>\n",
       "      <td>https://t.co/dw9GxtNaxu</td>\n",
       "      <td>http://pbs.twimg.com/media/EoLQCVZXcAQbhkO.jpg</td>\n",
       "      <td>Woman with mask in subway station</td>\n",
       "      <td>photo</td>\n",
       "      <td>woman with mask in subway station</td>\n",
       "      <td>woman with mask in subway station</td>\n",
       "    </tr>\n",
       "    <tr>\n",
       "      <th>3013</th>\n",
       "      <td>1333857218282868737</td>\n",
       "      <td>2020-12-01 19:35:17</td>\n",
       "      <td>This is what I have to put up with. https://t....</td>\n",
       "      <td>https://t.co/rWBp9dtj4e</td>\n",
       "      <td>http://pbs.twimg.com/media/EoLP6pzWEAIAVDF.jpg</td>\n",
       "      <td>The cat has plunged himself into the Christmas...</td>\n",
       "      <td>photo</td>\n",
       "      <td>the cat has plunged himself into the christmas...</td>\n",
       "      <td>the cat himself into the tree he is definitely...</td>\n",
       "    </tr>\n",
       "  </tbody>\n",
       "</table>\n",
       "</div>"
      ],
      "text/plain": [
       "                       id          created_at  \\\n",
       "747   1333857393801891842 2020-12-01 19:35:59   \n",
       "1003  1333857368677859329 2020-12-01 19:35:53   \n",
       "2032  1333857294115889154 2020-12-01 19:35:35   \n",
       "2117  1333857290345123844 2020-12-01 19:35:34   \n",
       "3013  1333857218282868737 2020-12-01 19:35:17   \n",
       "\n",
       "                                             tweet_text  \\\n",
       "747   @Hallmark I just wanted to buy stuff, not be a...   \n",
       "1003  Happy for Elliot Page, and also relieved https...   \n",
       "2032  I have been doing some color-coding lately. ht...   \n",
       "2117  'Hats off' to 'mask on'! \\n\\n📸: lailucien (IG)...   \n",
       "3013  This is what I have to put up with. https://t....   \n",
       "\n",
       "                    tweet_url                                         img_url  \\\n",
       "747   https://t.co/H617bRVeCV  http://pbs.twimg.com/media/EoLQOiKXYAY52gk.jpg   \n",
       "1003  https://t.co/RUF0l6aYTT  http://pbs.twimg.com/media/EoLNBYeW8AANYfE.png   \n",
       "2032  https://t.co/J0ZU1oCgMI  http://pbs.twimg.com/media/EoLQFU5XIAUta9w.jpg   \n",
       "2117  https://t.co/dw9GxtNaxu  http://pbs.twimg.com/media/EoLQCVZXcAQbhkO.jpg   \n",
       "3013  https://t.co/rWBp9dtj4e  http://pbs.twimg.com/media/EoLP6pzWEAIAVDF.jpg   \n",
       "\n",
       "                                               alt_text media_type  \\\n",
       "747   I’ve never met a more hostile pinecone in my life      photo   \n",
       "1003  Under \"Trends for Portland, United States,\" \"E...      photo   \n",
       "2032          An Atreus keyboard with multi color keys.      photo   \n",
       "2117                  Woman with mask in subway station      photo   \n",
       "3013  The cat has plunged himself into the Christmas...      photo   \n",
       "\n",
       "                                         alt_text_clean  \\\n",
       "747    ive never met a more hostile pinecone in my life   \n",
       "1003  under trends for portland united states elliot...   \n",
       "2032           an atreus keyboard with multi color keys   \n",
       "2117                  woman with mask in subway station   \n",
       "3013  the cat has plunged himself into the christmas...   \n",
       "\n",
       "                                       alt_text_cleaner  \n",
       "747                 never met a more hostile in my life  \n",
       "1003                   under for united is listed as no  \n",
       "2032                             an keyboard with color  \n",
       "2117                  woman with mask in subway station  \n",
       "3013  the cat himself into the tree he is definitely...  "
      ]
     },
     "execution_count": 57,
     "metadata": {},
     "output_type": "execute_result"
    }
   ],
   "source": [
    "df_alt_text.head()"
   ]
  },
  {
   "cell_type": "code",
   "execution_count": 64,
   "metadata": {
    "ExecuteTime": {
     "end_time": "2020-12-06T00:17:14.729139Z",
     "start_time": "2020-12-06T00:17:14.708154Z"
    }
   },
   "outputs": [
    {
     "data": {
      "text/plain": [
       "count    3005.000000\n",
       "mean       11.497504\n",
       "std        13.734878\n",
       "min         1.000000\n",
       "25%         4.000000\n",
       "50%         7.000000\n",
       "75%        14.000000\n",
       "max       180.000000\n",
       "Name: alt_text_clean_len, dtype: float64"
      ]
     },
     "execution_count": 64,
     "metadata": {},
     "output_type": "execute_result"
    }
   ],
   "source": [
    "df_alt_text['alt_text_clean_len'] = df_alt_text['alt_text_clean'].str.split(\" \").str.len()\n",
    "df_alt_text['alt_text_clean_len'].describe()"
   ]
  },
  {
   "cell_type": "code",
   "execution_count": 65,
   "metadata": {
    "ExecuteTime": {
     "end_time": "2020-12-06T00:17:15.681218Z",
     "start_time": "2020-12-06T00:17:15.544619Z"
    }
   },
   "outputs": [],
   "source": [
    "df_alt_text.to_clipboard()"
   ]
  },
  {
   "cell_type": "code",
   "execution_count": 66,
   "metadata": {
    "ExecuteTime": {
     "end_time": "2020-12-06T00:17:16.162254Z",
     "start_time": "2020-12-06T00:17:16.129571Z"
    }
   },
   "outputs": [
    {
     "data": {
      "text/plain": [
       "(1855, 12)"
      ]
     },
     "execution_count": 66,
     "metadata": {},
     "output_type": "execute_result"
    }
   ],
   "source": [
    "# did a bunch of eyeballing in a spreadsheet, and captions with 6 or more words seemd to be a reasonable quality cutoff\n",
    "df_alt_text = df_alt_text[df_alt_text['alt_text_clean_len'] > 5]\n",
    "df_alt_text.shape"
   ]
  },
  {
   "cell_type": "markdown",
   "metadata": {},
   "source": [
    "# Remove 'photo/picture of'"
   ]
  },
  {
   "cell_type": "code",
   "execution_count": 68,
   "metadata": {
    "ExecuteTime": {
     "end_time": "2020-12-06T00:25:30.463846Z",
     "start_time": "2020-12-06T00:25:30.453903Z"
    }
   },
   "outputs": [
    {
     "name": "stderr",
     "output_type": "stream",
     "text": [
      "<ipython-input-68-ab8162e18732>:1: SettingWithCopyWarning: \n",
      "A value is trying to be set on a copy of a slice from a DataFrame.\n",
      "Try using .loc[row_indexer,col_indexer] = value instead\n",
      "\n",
      "See the caveats in the documentation: https://pandas.pydata.org/pandas-docs/stable/user_guide/indexing.html#returning-a-view-versus-a-copy\n",
      "  df_alt_text['alt_text_clean'] = df_alt_text['alt_text_clean'].str.replace('photo of ','')\n",
      "<ipython-input-68-ab8162e18732>:2: SettingWithCopyWarning: \n",
      "A value is trying to be set on a copy of a slice from a DataFrame.\n",
      "Try using .loc[row_indexer,col_indexer] = value instead\n",
      "\n",
      "See the caveats in the documentation: https://pandas.pydata.org/pandas-docs/stable/user_guide/indexing.html#returning-a-view-versus-a-copy\n",
      "  df_alt_text['alt_text_clean'] = df_alt_text['alt_text_clean'].str.replace('picture of ','')\n"
     ]
    }
   ],
   "source": [
    "df_alt_text['alt_text_clean'] = df_alt_text['alt_text_clean'].str.replace('photo of ','')\n",
    "df_alt_text['alt_text_clean'] = df_alt_text['alt_text_clean'].str.replace('picture of ','')"
   ]
  },
  {
   "cell_type": "code",
   "execution_count": 75,
   "metadata": {
    "ExecuteTime": {
     "end_time": "2020-12-06T00:26:26.114182Z",
     "start_time": "2020-12-06T00:26:26.096269Z"
    }
   },
   "outputs": [
    {
     "data": {
      "text/html": [
       "<div>\n",
       "<style scoped>\n",
       "    .dataframe tbody tr th:only-of-type {\n",
       "        vertical-align: middle;\n",
       "    }\n",
       "\n",
       "    .dataframe tbody tr th {\n",
       "        vertical-align: top;\n",
       "    }\n",
       "\n",
       "    .dataframe thead th {\n",
       "        text-align: right;\n",
       "    }\n",
       "</style>\n",
       "<table border=\"1\" class=\"dataframe\">\n",
       "  <thead>\n",
       "    <tr style=\"text-align: right;\">\n",
       "      <th></th>\n",
       "      <th>id</th>\n",
       "      <th>created_at</th>\n",
       "      <th>tweet_text</th>\n",
       "      <th>tweet_url</th>\n",
       "      <th>img_url</th>\n",
       "      <th>alt_text</th>\n",
       "      <th>media_type</th>\n",
       "      <th>alt_text_clean</th>\n",
       "      <th>alt_text_cleaner</th>\n",
       "      <th>alt_text_cleaner_len</th>\n",
       "      <th>alt_text_len</th>\n",
       "      <th>alt_text_clean_len</th>\n",
       "    </tr>\n",
       "  </thead>\n",
       "  <tbody>\n",
       "    <tr>\n",
       "      <th>1210346</th>\n",
       "      <td>1334653010274889728</td>\n",
       "      <td>2020-12-04 00:17:28</td>\n",
       "      <td>I got my computer reseted, and all my settings...</td>\n",
       "      <td>https://t.co/uQl3qYwmXZ</td>\n",
       "      <td>http://pbs.twimg.com/media/EoWjPcuXIAIaQ2W.png</td>\n",
       "      <td>Drawing of my oc, Vanessa. She's just standing...</td>\n",
       "      <td>photo</td>\n",
       "      <td>drawing of my oc vanessa shes just standing there</td>\n",
       "      <td>drawing of my just standing there</td>\n",
       "      <td>6</td>\n",
       "      <td>6</td>\n",
       "      <td>9</td>\n",
       "    </tr>\n",
       "    <tr>\n",
       "      <th>1283734</th>\n",
       "      <td>1335032725749678080</td>\n",
       "      <td>2020-12-05 01:26:20</td>\n",
       "      <td>@DevilofAmaranth For your further consideratio...</td>\n",
       "      <td>https://t.co/8W4eCgSEaN</td>\n",
       "      <td>http://pbs.twimg.com/media/Eob9MAhVEAAJlwn.jpg</td>\n",
       "      <td>A moral alignment chart with “unstoppable forc...</td>\n",
       "      <td>photo</td>\n",
       "      <td>a moral alignment chart with unstoppable force...</td>\n",
       "      <td>a moral alignment chart with unstoppable force...</td>\n",
       "      <td>12</td>\n",
       "      <td>12</td>\n",
       "      <td>14</td>\n",
       "    </tr>\n",
       "    <tr>\n",
       "      <th>1721792</th>\n",
       "      <td>1333882429795409925</td>\n",
       "      <td>2020-12-01 21:15:28</td>\n",
       "      <td>Black Mirror gave us this gem of a moment: htt...</td>\n",
       "      <td>https://t.co/hHIRAgmMuz</td>\n",
       "      <td>http://pbs.twimg.com/media/EoLm53_XMAUTBC2.png</td>\n",
       "      <td>PSVR2 Exclusive Fucking a Polar Bear</td>\n",
       "      <td>photo</td>\n",
       "      <td>psvr exclusive fucking a polar bear</td>\n",
       "      <td>exclusive a polar bear</td>\n",
       "      <td>4</td>\n",
       "      <td>4</td>\n",
       "      <td>6</td>\n",
       "    </tr>\n",
       "    <tr>\n",
       "      <th>1938741</th>\n",
       "      <td>1334716596015816704</td>\n",
       "      <td>2020-12-04 04:30:08</td>\n",
       "      <td>Dive into the sea, and wander through the fore...</td>\n",
       "      <td>https://t.co/qv4hBpQVfE</td>\n",
       "      <td>http://pbs.twimg.com/media/EoXdq4uXcAI09jg.jpg</td>\n",
       "      <td>A colorful illustration of the letter A covere...</td>\n",
       "      <td>photo</td>\n",
       "      <td>a colorful illustration of the letter a covere...</td>\n",
       "      <td>a colorful illustration of the letter a covere...</td>\n",
       "      <td>32</td>\n",
       "      <td>32</td>\n",
       "      <td>34</td>\n",
       "    </tr>\n",
       "    <tr>\n",
       "      <th>1733867</th>\n",
       "      <td>1333881455823495169</td>\n",
       "      <td>2020-12-01 21:11:36</td>\n",
       "      <td>Joe Ross and the Nats have agreed to a one-yea...</td>\n",
       "      <td>https://t.co/wNwxdnERqD</td>\n",
       "      <td>http://pbs.twimg.com/media/EoLl7GIWEAEUci9.jpg</td>\n",
       "      <td>Picture of Joe Ross pitching in a red National...</td>\n",
       "      <td>photo</td>\n",
       "      <td>joe ross pitching in a red nationals uniform</td>\n",
       "      <td>picture of joe ross pitching in a red uniform</td>\n",
       "      <td>9</td>\n",
       "      <td>9</td>\n",
       "      <td>10</td>\n",
       "    </tr>\n",
       "  </tbody>\n",
       "</table>\n",
       "</div>"
      ],
      "text/plain": [
       "                          id          created_at  \\\n",
       "1210346  1334653010274889728 2020-12-04 00:17:28   \n",
       "1283734  1335032725749678080 2020-12-05 01:26:20   \n",
       "1721792  1333882429795409925 2020-12-01 21:15:28   \n",
       "1938741  1334716596015816704 2020-12-04 04:30:08   \n",
       "1733867  1333881455823495169 2020-12-01 21:11:36   \n",
       "\n",
       "                                                tweet_text  \\\n",
       "1210346  I got my computer reseted, and all my settings...   \n",
       "1283734  @DevilofAmaranth For your further consideratio...   \n",
       "1721792  Black Mirror gave us this gem of a moment: htt...   \n",
       "1938741  Dive into the sea, and wander through the fore...   \n",
       "1733867  Joe Ross and the Nats have agreed to a one-yea...   \n",
       "\n",
       "                       tweet_url  \\\n",
       "1210346  https://t.co/uQl3qYwmXZ   \n",
       "1283734  https://t.co/8W4eCgSEaN   \n",
       "1721792  https://t.co/hHIRAgmMuz   \n",
       "1938741  https://t.co/qv4hBpQVfE   \n",
       "1733867  https://t.co/wNwxdnERqD   \n",
       "\n",
       "                                                img_url  \\\n",
       "1210346  http://pbs.twimg.com/media/EoWjPcuXIAIaQ2W.png   \n",
       "1283734  http://pbs.twimg.com/media/Eob9MAhVEAAJlwn.jpg   \n",
       "1721792  http://pbs.twimg.com/media/EoLm53_XMAUTBC2.png   \n",
       "1938741  http://pbs.twimg.com/media/EoXdq4uXcAI09jg.jpg   \n",
       "1733867  http://pbs.twimg.com/media/EoLl7GIWEAEUci9.jpg   \n",
       "\n",
       "                                                  alt_text media_type  \\\n",
       "1210346  Drawing of my oc, Vanessa. She's just standing...      photo   \n",
       "1283734  A moral alignment chart with “unstoppable forc...      photo   \n",
       "1721792               PSVR2 Exclusive Fucking a Polar Bear      photo   \n",
       "1938741  A colorful illustration of the letter A covere...      photo   \n",
       "1733867  Picture of Joe Ross pitching in a red National...      photo   \n",
       "\n",
       "                                            alt_text_clean  \\\n",
       "1210346  drawing of my oc vanessa shes just standing there   \n",
       "1283734  a moral alignment chart with unstoppable force...   \n",
       "1721792                psvr exclusive fucking a polar bear   \n",
       "1938741  a colorful illustration of the letter a covere...   \n",
       "1733867       joe ross pitching in a red nationals uniform   \n",
       "\n",
       "                                          alt_text_cleaner  \\\n",
       "1210346                  drawing of my just standing there   \n",
       "1283734  a moral alignment chart with unstoppable force...   \n",
       "1721792                             exclusive a polar bear   \n",
       "1938741  a colorful illustration of the letter a covere...   \n",
       "1733867      picture of joe ross pitching in a red uniform   \n",
       "\n",
       "         alt_text_cleaner_len  alt_text_len  alt_text_clean_len  \n",
       "1210346                     6             6                   9  \n",
       "1283734                    12            12                  14  \n",
       "1721792                     4             4                   6  \n",
       "1938741                    32            32                  34  \n",
       "1733867                     9             9                  10  "
      ]
     },
     "execution_count": 75,
     "metadata": {},
     "output_type": "execute_result"
    }
   ],
   "source": [
    "df_alt_text.sample(5)"
   ]
  },
  {
   "cell_type": "markdown",
   "metadata": {},
   "source": [
    "## Remove emojis"
   ]
  },
  {
   "cell_type": "code",
   "execution_count": 353,
   "metadata": {
    "ExecuteTime": {
     "end_time": "2020-12-05T22:51:27.158534Z",
     "start_time": "2020-12-05T22:51:27.155883Z"
    }
   },
   "outputs": [],
   "source": [
    "#demoji.download_codes()"
   ]
  },
  {
   "cell_type": "code",
   "execution_count": 354,
   "metadata": {
    "ExecuteTime": {
     "end_time": "2020-12-05T22:51:28.792339Z",
     "start_time": "2020-12-05T22:51:28.045186Z"
    }
   },
   "outputs": [],
   "source": [
    "text = demoji.replace(text)"
   ]
  },
  {
   "cell_type": "markdown",
   "metadata": {},
   "source": [
    "## Remove proper nouns"
   ]
  },
  {
   "cell_type": "code",
   "execution_count": 367,
   "metadata": {
    "ExecuteTime": {
     "end_time": "2020-12-05T22:59:11.020079Z",
     "start_time": "2020-12-05T22:59:09.706275Z"
    }
   },
   "outputs": [
    {
     "data": {
      "text/plain": [
       "25"
      ]
     },
     "execution_count": 367,
     "metadata": {},
     "output_type": "execute_result"
    }
   ],
   "source": [
    "# identify all proper nouns\n",
    "tagged_text = pos_tag(text.split())\n",
    "propernouns = [word for word,pos in tagged_text if pos == 'NNP']\n",
    "len(propernouns)"
   ]
  },
  {
   "cell_type": "code",
   "execution_count": 368,
   "metadata": {
    "ExecuteTime": {
     "end_time": "2020-12-05T22:59:12.099345Z",
     "start_time": "2020-12-05T22:59:12.094756Z"
    }
   },
   "outputs": [
    {
     "data": {
      "text/plain": [
       "['zell',\n",
       " 'yoshi',\n",
       " 'x',\n",
       " 'knee',\n",
       " 'xbox',\n",
       " 'xmas',\n",
       " 'december',\n",
       " 'yoda',\n",
       " 'december',\n",
       " 'xiumin',\n",
       " 'kamala',\n",
       " 'xs',\n",
       " 'x',\n",
       " 'xmas',\n",
       " 'x',\n",
       " 'xd',\n",
       " 'december',\n",
       " 'xmas',\n",
       " 'donald',\n",
       " 'j',\n",
       " 'december',\n",
       " 'mile',\n",
       " 'xmas',\n",
       " 'kana',\n",
       " 'lovember']"
      ]
     },
     "execution_count": 368,
     "metadata": {},
     "output_type": "execute_result"
    }
   ],
   "source": [
    "# check what the propernouns look like... nltk doesn't seem to be doing a great job identifying them\n",
    "propernouns[:30]"
   ]
  },
  {
   "cell_type": "markdown",
   "metadata": {},
   "source": [
    "second way of trying this... keep only english words"
   ]
  },
  {
   "cell_type": "code",
   "execution_count": 369,
   "metadata": {
    "ExecuteTime": {
     "end_time": "2020-12-05T22:59:52.748217Z",
     "start_time": "2020-12-05T22:59:52.585914Z"
    }
   },
   "outputs": [],
   "source": [
    "words = set(nltk.corpus.words.words())\n",
    "text = \" \".join(word for word in nltk.wordpunct_tokenize(text))"
   ]
  },
  {
   "cell_type": "code",
   "execution_count": 370,
   "metadata": {
    "ExecuteTime": {
     "end_time": "2020-12-05T22:59:53.285836Z",
     "start_time": "2020-12-05T22:59:53.280767Z"
    }
   },
   "outputs": [
    {
     "data": {
      "text/plain": [
       "'i ve never met a more hostile pinecone in my life under trends for portland united states elliot is listed as no an atreus keyboard with multi color keys woman with mask in subway station the cat has plunged himself into the christmas tree he is definitely eating it christmas tree on car thining and wisely man working from home wearing a business shirt and tie on top pajama pants on bottom the death of nick carraways innocence as he turns much like i am today close up of mistletoe nestling in a tree small round opaque white berries white person with pink braids heart earrings and pink turtle neck smiling how to make world s best chai milk tea dhaka roadside tea photo of levi s black ripped skinny jeans off of amazon for hope american modeller getting famous after winning global modelling award shy construction sick of being dumb and dumber by myself of funky town dirty ass stinky kitty lingerie panties that are a d i k edu bust of a brunette woman smiling and holding a pen guildy s hea'"
      ]
     },
     "execution_count": 370,
     "metadata": {},
     "output_type": "execute_result"
    }
   ],
   "source": [
    "text[:1000]"
   ]
  },
  {
   "cell_type": "code",
   "execution_count": 341,
   "metadata": {
    "ExecuteTime": {
     "end_time": "2020-12-05T22:42:16.422986Z",
     "start_time": "2020-12-05T22:42:15.102274Z"
    }
   },
   "outputs": [],
   "source": [
    "tagged_text = pos_tag(text.split())\n",
    "propernouns = [word for word,pos in tagged_text if pos == 'NNP']"
   ]
  },
  {
   "cell_type": "code",
   "execution_count": 344,
   "metadata": {
    "ExecuteTime": {
     "end_time": "2020-12-05T22:42:55.540712Z",
     "start_time": "2020-12-05T22:42:55.535944Z"
    }
   },
   "outputs": [
    {
     "data": {
      "text/plain": [
       "277"
      ]
     },
     "execution_count": 344,
     "metadata": {},
     "output_type": "execute_result"
    }
   ],
   "source": [
    "len(propernouns)"
   ]
  },
  {
   "cell_type": "markdown",
   "metadata": {},
   "source": [
    "# Download Images"
   ]
  },
  {
   "cell_type": "markdown",
   "metadata": {},
   "source": [
    "cutoff (max timestamp) for first image download: `Timestamp('2020-12-02 22:57:08')`"
   ]
  },
  {
   "cell_type": "code",
   "execution_count": 77,
   "metadata": {
    "ExecuteTime": {
     "end_time": "2020-12-06T00:58:26.007654Z",
     "start_time": "2020-12-06T00:58:26.002695Z"
    }
   },
   "outputs": [],
   "source": [
    "urls = list(df_alt_text['img_url'])"
   ]
  },
  {
   "cell_type": "code",
   "execution_count": 79,
   "metadata": {
    "ExecuteTime": {
     "end_time": "2020-12-06T01:12:43.629021Z",
     "start_time": "2020-12-06T01:08:33.507847Z"
    }
   },
   "outputs": [
    {
     "name": "stdout",
     "output_type": "stream",
     "text": [
      "0 images downloaded.\n",
      "20 images downloaded.\n",
      "40 images downloaded.\n",
      "60 images downloaded.\n",
      "80 images downloaded.\n",
      "100 images downloaded.\n",
      "120 images downloaded.\n",
      "140 images downloaded.\n",
      "160 images downloaded.\n",
      "180 images downloaded.\n",
      "200 images downloaded.\n",
      "220 images downloaded.\n",
      "240 images downloaded.\n",
      "260 images downloaded.\n",
      "280 images downloaded.\n",
      "300 images downloaded.\n",
      "320 images downloaded.\n",
      "340 images downloaded.\n",
      "360 images downloaded.\n",
      "380 images downloaded.\n",
      "400 images downloaded.\n",
      "420 images downloaded.\n",
      "440 images downloaded.\n",
      "460 images downloaded.\n",
      "480 images downloaded.\n",
      "500 images downloaded.\n",
      "520 images downloaded.\n",
      "540 images downloaded.\n",
      "560 images downloaded.\n",
      "580 images downloaded.\n",
      "600 images downloaded.\n",
      "620 images downloaded.\n",
      "640 images downloaded.\n",
      "660 images downloaded.\n",
      "680 images downloaded.\n",
      "700 images downloaded.\n",
      "720 images downloaded.\n",
      "740 images downloaded.\n",
      "760 images downloaded.\n",
      "780 images downloaded.\n",
      "800 images downloaded.\n",
      "820 images downloaded.\n",
      "840 images downloaded.\n",
      "860 images downloaded.\n",
      "880 images downloaded.\n",
      "900 images downloaded.\n",
      "920 images downloaded.\n",
      "940 images downloaded.\n",
      "960 images downloaded.\n",
      "980 images downloaded.\n",
      "1000 images downloaded.\n",
      "1020 images downloaded.\n",
      "1040 images downloaded.\n",
      "1060 images downloaded.\n",
      "1080 images downloaded.\n",
      "1100 images downloaded.\n",
      "1120 images downloaded.\n",
      "1140 images downloaded.\n",
      "1160 images downloaded.\n",
      "1180 images downloaded.\n",
      "1200 images downloaded.\n",
      "1220 images downloaded.\n",
      "1240 images downloaded.\n",
      "1260 images downloaded.\n",
      "1280 images downloaded.\n",
      "1300 images downloaded.\n",
      "1320 images downloaded.\n",
      "1340 images downloaded.\n",
      "1360 images downloaded.\n",
      "1380 images downloaded.\n",
      "1400 images downloaded.\n",
      "1420 images downloaded.\n",
      "1440 images downloaded.\n",
      "1460 images downloaded.\n",
      "1480 images downloaded.\n",
      "1500 images downloaded.\n",
      "1520 images downloaded.\n",
      "1540 images downloaded.\n",
      "1560 images downloaded.\n",
      "1580 images downloaded.\n",
      "1600 images downloaded.\n",
      "1620 images downloaded.\n",
      "1640 images downloaded.\n",
      "1660 images downloaded.\n",
      "1680 images downloaded.\n",
      "1700 images downloaded.\n",
      "1720 images downloaded.\n",
      "1740 images downloaded.\n",
      "1760 images downloaded.\n",
      "1780 images downloaded.\n",
      "1800 images downloaded.\n",
      "1820 images downloaded.\n",
      "1840 images downloaded.\n"
     ]
    }
   ],
   "source": [
    "counter = 0\n",
    "for i in urls:\n",
    "#     try:\n",
    "        filename = 'twitter_images/'+i[27:46]\n",
    "        response = requests.get(i)\n",
    "        file = open(filename, \"wb\")\n",
    "        file.write(response.content)\n",
    "        file.close()\n",
    "        if counter % 20 == 0:\n",
    "            print(f'{counter} images downloaded.')\n",
    "        counter +=1\n",
    "#     except:\n",
    "#         pass"
   ]
  },
  {
   "cell_type": "code",
   "execution_count": null,
   "metadata": {},
   "outputs": [],
   "source": []
  }
 ],
 "metadata": {
  "kernelspec": {
   "display_name": "Python 3",
   "language": "python",
   "name": "python3"
  },
  "language_info": {
   "codemirror_mode": {
    "name": "ipython",
    "version": 3
   },
   "file_extension": ".py",
   "mimetype": "text/x-python",
   "name": "python",
   "nbconvert_exporter": "python",
   "pygments_lexer": "ipython3",
   "version": "3.8.3"
  },
  "toc": {
   "base_numbering": 1,
   "nav_menu": {},
   "number_sections": true,
   "sideBar": true,
   "skip_h1_title": false,
   "title_cell": "Table of Contents",
   "title_sidebar": "Contents",
   "toc_cell": false,
   "toc_position": {},
   "toc_section_display": true,
   "toc_window_display": true
  }
 },
 "nbformat": 4,
 "nbformat_minor": 4
}
