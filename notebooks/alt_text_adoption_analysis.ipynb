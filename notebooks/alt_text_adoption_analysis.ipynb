{
 "cells": [
  {
   "cell_type": "markdown",
   "metadata": {},
   "source": [
    "# Import Packages and Data"
   ]
  },
  {
   "cell_type": "code",
   "execution_count": 2,
   "metadata": {
    "ExecuteTime": {
     "end_time": "2020-12-17T23:55:10.936018Z",
     "start_time": "2020-12-17T23:55:08.785483Z"
    }
   },
   "outputs": [
    {
     "name": "stderr",
     "output_type": "stream",
     "text": [
      "[nltk_data] Downloading package averaged_perceptron_tagger to\n",
      "[nltk_data]     /Users/labbot/nltk_data...\n",
      "[nltk_data]   Package averaged_perceptron_tagger is already up-to-\n",
      "[nltk_data]       date!\n"
     ]
    }
   ],
   "source": [
    "# basics\n",
    "import pandas as pd \n",
    "import numpy as np\n",
    "\n",
    "# files\n",
    "import glob\n",
    "import pickle\n",
    "import os\n",
    "import requests\n",
    "import sys"
   ]
  },
  {
   "cell_type": "code",
   "execution_count": 3,
   "metadata": {
    "ExecuteTime": {
     "end_time": "2020-12-17T23:55:14.629275Z",
     "start_time": "2020-12-17T23:55:10.939665Z"
    }
   },
   "outputs": [
    {
     "data": {
      "text/plain": [
       "(2415468, 7)"
      ]
     },
     "execution_count": 3,
     "metadata": {},
     "output_type": "execute_result"
    }
   ],
   "source": [
    "# all the data scraped using twitter_scraping_utils is saved as pickle files; extract and save as a dataframe\n",
    "path = '/Users/labbot/Documents/metis_bootcamp/project05/twitter_data'\n",
    "all_files = glob.glob(path + \"/*.pickle\")\n",
    "\n",
    "li = []\n",
    "\n",
    "for filename in all_files:\n",
    "    one_df = pd.read_pickle(filename)\n",
    "    li.append(one_df)\n",
    "\n",
    "df_raw = pd.concat(li, axis=0, ignore_index=True)\n",
    "df_raw.shape"
   ]
  },
  {
   "cell_type": "markdown",
   "metadata": {},
   "source": [
    "# Analysis of alt text prevalence\n",
    "How many image tweets have alt text on average?"
   ]
  },
  {
   "cell_type": "code",
   "execution_count": 4,
   "metadata": {
    "ExecuteTime": {
     "end_time": "2020-12-17T23:55:17.678696Z",
     "start_time": "2020-12-17T23:55:16.684198Z"
    }
   },
   "outputs": [
    {
     "data": {
      "text/plain": [
       "(1985705, 7)"
      ]
     },
     "execution_count": 4,
     "metadata": {},
     "output_type": "execute_result"
    }
   ],
   "source": [
    "# I wasn't able to exclude gifs in tweepy query, so remove them now\n",
    "df = df_raw[df_raw['media_type'] == 'photo']\n",
    "df.shape"
   ]
  },
  {
   "cell_type": "code",
   "execution_count": 4,
   "metadata": {
    "ExecuteTime": {
     "end_time": "2020-12-17T23:10:43.385140Z",
     "start_time": "2020-12-17T23:10:43.189204Z"
    }
   },
   "outputs": [
    {
     "name": "stdout",
     "output_type": "stream",
     "text": [
      "0.300498% of photos in the sample of 1985705 have user-provided alt text.\n",
      "that's 5967 photos with (uncleaned) alt text.\n"
     ]
    }
   ],
   "source": [
    "# how many photos have alt text?\n",
    "alt_text_count = sum(df['alt_text'].notnull())\n",
    "total_photos = len(df)\n",
    "alt_text_rate = alt_text_count/total_photos\n",
    "\n",
    "print(f'{alt_text_rate:%} of photos in the sample of {total_photos} have user-provided alt text.')\n",
    "print(f\"that's {alt_text_count} photos with (uncleaned) alt text.\")"
   ]
  },
  {
   "cell_type": "code",
   "execution_count": 5,
   "metadata": {
    "ExecuteTime": {
     "end_time": "2020-12-17T23:10:43.434312Z",
     "start_time": "2020-12-17T23:10:43.386718Z"
    }
   },
   "outputs": [
    {
     "data": {
      "text/html": [
       "<div>\n",
       "<style scoped>\n",
       "    .dataframe tbody tr th:only-of-type {\n",
       "        vertical-align: middle;\n",
       "    }\n",
       "\n",
       "    .dataframe tbody tr th {\n",
       "        vertical-align: top;\n",
       "    }\n",
       "\n",
       "    .dataframe thead th {\n",
       "        text-align: right;\n",
       "    }\n",
       "</style>\n",
       "<table border=\"1\" class=\"dataframe\">\n",
       "  <thead>\n",
       "    <tr style=\"text-align: right;\">\n",
       "      <th></th>\n",
       "      <th>id</th>\n",
       "      <th>created_at</th>\n",
       "      <th>tweet_text</th>\n",
       "      <th>tweet_url</th>\n",
       "      <th>img_url</th>\n",
       "      <th>alt_text</th>\n",
       "      <th>media_type</th>\n",
       "    </tr>\n",
       "  </thead>\n",
       "  <tbody>\n",
       "    <tr>\n",
       "      <th>1747262</th>\n",
       "      <td>1333880383524495360</td>\n",
       "      <td>2020-12-01 21:07:20</td>\n",
       "      <td>Success by Xeno#6124 https://t.co/dpLbnlzskC</td>\n",
       "      <td>https://t.co/dpLbnlzskC</td>\n",
       "      <td>http://pbs.twimg.com/media/EoLlI85XYAAebp3.jpg</td>\n",
       "      <td>Discord Image</td>\n",
       "      <td>photo</td>\n",
       "    </tr>\n",
       "    <tr>\n",
       "      <th>2316012</th>\n",
       "      <td>1334263668956073988</td>\n",
       "      <td>2020-12-02 22:30:22</td>\n",
       "      <td>A simple way to #Buy your #First #Home with #Z...</td>\n",
       "      <td>https://t.co/IArxPEgkzB</td>\n",
       "      <td>http://pbs.twimg.com/media/Cuk6LcxWcAAl0Z3.jpg</td>\n",
       "      <td>Cash Back Mortgages</td>\n",
       "      <td>photo</td>\n",
       "    </tr>\n",
       "    <tr>\n",
       "      <th>1380143</th>\n",
       "      <td>1335023387597557765</td>\n",
       "      <td>2020-12-05 00:49:13</td>\n",
       "      <td>@TicoLeFevers At least you didn't miss a whole...</td>\n",
       "      <td>https://t.co/czR6sSneUT</td>\n",
       "      <td>http://pbs.twimg.com/media/Eob0QyKXIAM7Uje.jpg</td>\n",
       "      <td>Screen cap from the TV show FRIENDS showing Ra...</td>\n",
       "      <td>photo</td>\n",
       "    </tr>\n",
       "    <tr>\n",
       "      <th>2032285</th>\n",
       "      <td>1334707963005526017</td>\n",
       "      <td>2020-12-04 03:55:50</td>\n",
       "      <td>I have 46 new followers from Brazil, and more ...</td>\n",
       "      <td>https://t.co/o5K4Bqcchf</td>\n",
       "      <td>http://pbs.twimg.com/media/EoXV0L6XEAA3S7p.jpg</td>\n",
       "      <td>User report</td>\n",
       "      <td>photo</td>\n",
       "    </tr>\n",
       "    <tr>\n",
       "      <th>1149145</th>\n",
       "      <td>1334658012061999106</td>\n",
       "      <td>2020-12-04 00:37:21</td>\n",
       "      <td>📬 I delivered this ✉️ from @ianwaprice to @Sen...</td>\n",
       "      <td>https://t.co/vkQ4q34yZU</td>\n",
       "      <td>http://pbs.twimg.com/media/EoWoYyVUcAIH_UE.jpg</td>\n",
       "      <td>The letter subject is: empty and the body is: ...</td>\n",
       "      <td>photo</td>\n",
       "    </tr>\n",
       "  </tbody>\n",
       "</table>\n",
       "</div>"
      ],
      "text/plain": [
       "                          id          created_at  \\\n",
       "1747262  1333880383524495360 2020-12-01 21:07:20   \n",
       "2316012  1334263668956073988 2020-12-02 22:30:22   \n",
       "1380143  1335023387597557765 2020-12-05 00:49:13   \n",
       "2032285  1334707963005526017 2020-12-04 03:55:50   \n",
       "1149145  1334658012061999106 2020-12-04 00:37:21   \n",
       "\n",
       "                                                tweet_text  \\\n",
       "1747262       Success by Xeno#6124 https://t.co/dpLbnlzskC   \n",
       "2316012  A simple way to #Buy your #First #Home with #Z...   \n",
       "1380143  @TicoLeFevers At least you didn't miss a whole...   \n",
       "2032285  I have 46 new followers from Brazil, and more ...   \n",
       "1149145  📬 I delivered this ✉️ from @ianwaprice to @Sen...   \n",
       "\n",
       "                       tweet_url  \\\n",
       "1747262  https://t.co/dpLbnlzskC   \n",
       "2316012  https://t.co/IArxPEgkzB   \n",
       "1380143  https://t.co/czR6sSneUT   \n",
       "2032285  https://t.co/o5K4Bqcchf   \n",
       "1149145  https://t.co/vkQ4q34yZU   \n",
       "\n",
       "                                                img_url  \\\n",
       "1747262  http://pbs.twimg.com/media/EoLlI85XYAAebp3.jpg   \n",
       "2316012  http://pbs.twimg.com/media/Cuk6LcxWcAAl0Z3.jpg   \n",
       "1380143  http://pbs.twimg.com/media/Eob0QyKXIAM7Uje.jpg   \n",
       "2032285  http://pbs.twimg.com/media/EoXV0L6XEAA3S7p.jpg   \n",
       "1149145  http://pbs.twimg.com/media/EoWoYyVUcAIH_UE.jpg   \n",
       "\n",
       "                                                  alt_text media_type  \n",
       "1747262                                      Discord Image      photo  \n",
       "2316012                                Cash Back Mortgages      photo  \n",
       "1380143  Screen cap from the TV show FRIENDS showing Ra...      photo  \n",
       "2032285                                        User report      photo  \n",
       "1149145  The letter subject is: empty and the body is: ...      photo  "
      ]
     },
     "execution_count": 5,
     "metadata": {},
     "output_type": "execute_result"
    }
   ],
   "source": [
    "# explore some of the alt text available\n",
    "df[df['alt_text'].notnull()].sample(5)"
   ]
  }
 ],
 "metadata": {
  "kernelspec": {
   "display_name": "Python 3",
   "language": "python",
   "name": "python3"
  },
  "language_info": {
   "codemirror_mode": {
    "name": "ipython",
    "version": 3
   },
   "file_extension": ".py",
   "mimetype": "text/x-python",
   "name": "python",
   "nbconvert_exporter": "python",
   "pygments_lexer": "ipython3",
   "version": "3.8.3"
  },
  "toc": {
   "base_numbering": 1,
   "nav_menu": {},
   "number_sections": true,
   "sideBar": true,
   "skip_h1_title": false,
   "title_cell": "Table of Contents",
   "title_sidebar": "Contents",
   "toc_cell": false,
   "toc_position": {
    "height": "calc(100% - 180px)",
    "left": "10px",
    "top": "150px",
    "width": "305.594px"
   },
   "toc_section_display": true,
   "toc_window_display": true
  }
 },
 "nbformat": 4,
 "nbformat_minor": 4
}
